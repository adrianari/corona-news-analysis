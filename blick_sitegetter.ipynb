{
 "cells": [
  {
   "cell_type": "code",
   "execution_count": null,
   "metadata": {},
   "outputs": [],
   "source": [
    "from selenium import webdriver\n",
    "from selenium.webdriver.common.keys import Keys\n",
    "import time\n",
    "from selenium.common.exceptions import NoSuchElementException\n",
    "from selenium.common.exceptions import StaleElementReferenceException\n",
    "from bs4 import BeautifulSoup\n",
    "import pickle\n",
    "import sys\n",
    "import re\n",
    "import geckodriver_autoinstaller"
   ]
  },
  {
   "cell_type": "code",
   "execution_count": null,
   "metadata": {},
   "outputs": [],
   "source": [
    "#please make sure you downloaded the geckodriver and installed in your path as otherwise, Selenium will not work\n",
    "\n",
    "#import sys\n",
    "#print(sys.path) to get more information on your path"
   ]
  },
  {
   "cell_type": "code",
   "execution_count": null,
   "metadata": {},
   "outputs": [],
   "source": [
    "driver = webdriver.Firefox()\n",
    "driver.implicitly_wait(30)\n",
    "driver.maximize_window()"
   ]
  },
  {
   "cell_type": "code",
   "execution_count": null,
   "metadata": {},
   "outputs": [],
   "source": [
    "\n",
    "############\n",
    "#uncomment the following \"block\" if this is the 1st time the code will be run and fill in your credentials where indicated\n",
    "#You can also interact with the driver manually if you prefer this method. In this case, uncomment only the\n",
    "#first line below where the driver gets the login site as well as the line with the pickle.dump as you will \n",
    "#otherwise not be able to get the data properly due to missing cookies\n",
    "#\n",
    "#\n",
    "#driver.get(\"https://welcome.connect.ringier.ch/?client=iq6JnMWfrXwdLWQxNSPzlCChFaMI2O9B&interaction=S5gnF166-KYzQTV5UiXY4&login_case=email_only&source=DIR_Suche&lang=de&reason=no_session&brand_theme=#/\")\n",
    "#\n",
    "#mailfield = driver.find_element_by_class_name(\"sc-jAaTju.gBfSgt\")\n",
    "#mailfield.send_keys(\"YOUR_EMAIL_ADDRES@HERE.COM\")\n",
    "#time.sleep(3)\n",
    "#mailfield.send_keys(Keys.RETURN)\n",
    "#\n",
    "#time.sleep(3)\n",
    "#driver.get(driver.current_url)\n",
    "#\n",
    "#pwfield = driver.find_element_by_class_name(\"sc-jAaTju.gBfSgt\")\n",
    "#time.sleep(3)\n",
    "#pwfield.send_keys(\"PASSWORD_HERE\")\n",
    "#time.sleep(5)\n",
    "#pwfield.send_keys(Keys.RETURN)\n",
    "#\n",
    "#time.sleep(5)\n",
    "#p = pickle.dump(driver.get_cookies() , open(\"blick_cookies.pkl\",\"wb\"))\n",
    "#\n",
    "#=============================\n",
    "#IN CASE LOGIN SHOULD NOT WORK: start above driver normally, login manually in the driver site, leave the cookie.load section out and let the programm run further normally\n",
    "#=============================\n",
    "#\n",
    "#end of uncomment section\n",
    "#############"
   ]
  },
  {
   "cell_type": "code",
   "execution_count": null,
   "metadata": {},
   "outputs": [],
   "source": [
    "#===================\n",
    "#loading the cookies \n",
    "\n",
    "page = \"https://www.blick.ch/\"\n",
    "\n",
    "driver.get(page)\n",
    "time.sleep(3)\n",
    "cookies = pickle.load(open(\"blick_cookies.pkl\", \"rb\"))\n",
    "\n",
    "for cookie in cookies:\n",
    "    driver.add_cookie(cookie)\n",
    "time.sleep(3)    \n",
    "driver.refresh()\n",
    "#================="
   ]
  },
  {
   "cell_type": "code",
   "execution_count": null,
   "metadata": {},
   "outputs": [],
   "source": [
    "hrefs2 = []   ## has to be included globally"
   ]
  },
  {
   "cell_type": "code",
   "execution_count": null,
   "metadata": {},
   "outputs": [],
   "source": [
    "#here, you define the URL from the seachterm you want to get all the links to\n",
    "driver.get(\"https://www.blick.ch/suche/?q=covid\")"
   ]
  },
  {
   "cell_type": "code",
   "execution_count": null,
   "metadata": {},
   "outputs": [],
   "source": [
    "def tester():    \n",
    "    html = driver.page_source\n",
    "    time.sleep(1)\n",
    "    soup = BeautifulSoup(html, \"html.parser\")\n",
    "    suppe = soup.find_all(\"a\", class_=re.compile(\"clickable ClickableWrapper__StyledClickable-mujs0t-0\"))\n",
    "\n",
    "    for x in suppe:\n",
    "        link = x[\"href\"]\n",
    "        if link[0] == \"/\":  #also filters out links to the blick-tv articles\n",
    "            if link not in hrefs2:\n",
    "                hrefs2.append(link)\n",
    "\n",
    "    time.sleep(2)\n",
    "    next_sites = driver.find_elements_by_class_name(\"clickable.pagination__link\")\n",
    "    next_site = next_sites[-1]\n",
    "    next_site.click()\n",
    "    time.sleep(4)"
   ]
  },
  {
   "cell_type": "code",
   "execution_count": null,
   "metadata": {},
   "outputs": [],
   "source": [
    "for i in range(10):\n",
    "    tester()"
   ]
  },
  {
   "cell_type": "code",
   "execution_count": null,
   "metadata": {},
   "outputs": [],
   "source": [
    "final_pages = []\n",
    "for x in hrefs2:\n",
    "    y = \"https://www.blick.ch\"+x\n",
    "    final_pages.append(y)"
   ]
  },
  {
   "cell_type": "code",
   "execution_count": null,
   "metadata": {},
   "outputs": [],
   "source": [
    "with open(\"blick_output.bin\", \"wb\") as output:\n",
    "    pickle.dump(final_pages, output)"
   ]
  },
  {
   "cell_type": "code",
   "execution_count": null,
   "metadata": {},
   "outputs": [],
   "source": [
    "driver.close()"
   ]
  }
 ],
 "metadata": {
  "kernelspec": {
   "display_name": "Python 3",
   "language": "python",
   "name": "python3"
  },
  "language_info": {
   "codemirror_mode": {
    "name": "ipython",
    "version": 3
   },
   "file_extension": ".py",
   "mimetype": "text/x-python",
   "name": "python",
   "nbconvert_exporter": "python",
   "pygments_lexer": "ipython3",
   "version": "3.7.3"
  }
 },
 "nbformat": 4,
 "nbformat_minor": 4
}
