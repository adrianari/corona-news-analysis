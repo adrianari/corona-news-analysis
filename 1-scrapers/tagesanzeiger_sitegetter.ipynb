{
 "cells": [
  {
   "cell_type": "code",
   "execution_count": null,
   "metadata": {},
   "outputs": [],
   "source": [
    "from selenium import webdriver\n",
    "from selenium.webdriver.common.keys import Keys\n",
    "import time\n",
    "from selenium.common.exceptions import NoSuchElementException\n",
    "from selenium.common.exceptions import StaleElementReferenceException\n",
    "from bs4 import BeautifulSoup\n",
    "import pickle\n",
    "import sys\n",
    "import re\n",
    "\n",
    "modulename = 'selenium.webdriver.common.keys'\n",
    "if modulename not in sys.modules:\n",
    "    print('You have not imported the {} module'.format(modulename))\n",
    "else:\n",
    "    print('You have imported the {} module'.format(modulename))"
   ]
  },
  {
   "cell_type": "code",
   "execution_count": null,
   "metadata": {},
   "outputs": [],
   "source": [
    "driver = webdriver.Firefox()\n",
    "driver.implicitly_wait(30)\n",
    "driver.maximize_window()"
   ]
  },
  {
   "cell_type": "code",
   "execution_count": null,
   "metadata": {},
   "outputs": [],
   "source": [
    "hrefs2 = []\n",
    "#a login only is required for accessing the articles --> refer to tagesanzeiger_contentgetter.ipynb"
   ]
  },
  {
   "cell_type": "code",
   "execution_count": null,
   "metadata": {},
   "outputs": [],
   "source": [
    "def getter(placeholder):\n",
    "    try:\n",
    "        driver.get(placeholder)\n",
    "        time.sleep(2)\n",
    "        \n",
    "        ### ziile 5 bis 8\n",
    "        html = driver.page_source\n",
    "        time.sleep(1)\n",
    "        soup = BeautifulSoup(html, \"html.parser\")\n",
    "        \n",
    "        suppe = soup.find_all(\"a\", class_=\"ArticleTeaser_link__3K6PH\")\n",
    "        \n",
    "        for x in suppe:\n",
    "            link = x[\"href\"]\n",
    "            if link[0] == \"/\":  #also filters out bad links to non text\n",
    "                if link not in hrefs2:\n",
    "                    hrefs2.append(link)                \n",
    "        \n",
    "        blub = driver.find_element_by_tag_name('html')\n",
    "        blub.send_keys(Keys.END)\n",
    "        html = driver.page_source\n",
    "        time.sleep(1)\n",
    "        soupe = BeautifulSoup(html, \"html.parser\")\n",
    "        next_site = soupe.find(\"a\", class_=re.compile(\"DefaultButton_root__2Zxi3 default-button\"))\n",
    "        blobber = next_site[\"href\"]\n",
    "        nexty = \"https://www.tagesanzeiger.ch\"+blobber\n",
    "        print(nexty)\n",
    "        time.sleep(4)\n",
    "        getter(nexty)\n",
    "    except TypeError:\n",
    "        print(\"Wir sind fertig\")"
   ]
  },
  {
   "cell_type": "code",
   "execution_count": null,
   "metadata": {},
   "outputs": [],
   "source": [
    "getter(\"https://www.tagesanzeiger.ch/coronavirus/2021/01/07\")"
   ]
  },
  {
   "cell_type": "code",
   "execution_count": null,
   "metadata": {},
   "outputs": [],
   "source": [
    "final_pages = []\n",
    "for element in hrefs2:\n",
    "    finale = \"https://www.tagesanzeiger.ch\"+element\n",
    "    final_pages.append(finale)"
   ]
  },
  {
   "cell_type": "code",
   "execution_count": null,
   "metadata": {},
   "outputs": [],
   "source": [
    "with open(\"tagesanzeiger_output.bin\", \"wb\") as output:\n",
    "    pickle.dump(final_pages, output)"
   ]
  }
 ],
 "metadata": {
  "kernelspec": {
   "display_name": "Python 3",
   "language": "python",
   "name": "python3"
  },
  "language_info": {
   "codemirror_mode": {
    "name": "ipython",
    "version": 3
   },
   "file_extension": ".py",
   "mimetype": "text/x-python",
   "name": "python",
   "nbconvert_exporter": "python",
   "pygments_lexer": "ipython3",
   "version": "3.8.5"
  }
 },
 "nbformat": 4,
 "nbformat_minor": 4
}
