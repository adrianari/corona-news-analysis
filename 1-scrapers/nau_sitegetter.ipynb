{
 "cells": [
  {
   "cell_type": "markdown",
   "metadata": {},
   "source": [
    "The below code bases upon the assumption that nau_sitegetter has been executed. The below code will get all data from the defined Nau sites:"
   ]
  },
  {
   "cell_type": "code",
   "execution_count": null,
   "metadata": {},
   "outputs": [],
   "source": [
    "from selenium import webdriver\n",
    "from selenium.webdriver.common.keys import Keys\n",
    "import time\n",
    "from selenium.common.exceptions import NoSuchElementException\n",
    "from selenium.common.exceptions import StaleElementReferenceException\n",
    "from bs4 import BeautifulSoup\n",
    "import pickle\n",
    "import sys\n",
    "import re\n",
    "import requests"
   ]
  },
  {
   "cell_type": "code",
   "execution_count": null,
   "metadata": {},
   "outputs": [],
   "source": [
    "driver = webdriver.Firefox()\n",
    "driver.implicitly_wait(30)\n",
    "driver.maximize_window()\n",
    "driver.get(\"https://www.nau.ch/news/coronavirus\")"
   ]
  },
  {
   "cell_type": "code",
   "execution_count": null,
   "metadata": {},
   "outputs": [],
   "source": [
    "#p = pickle.dump(driver.get_cookies() , open(\"nau_cookies.pkl\",\"wb\"))"
   ]
  },
  {
   "cell_type": "code",
   "execution_count": null,
   "metadata": {},
   "outputs": [],
   "source": [
    "time.sleep(5)\n",
    "cookies = pickle.load(open(\"nau_cookies.pkl\", \"rb\"))\n",
    "for cookie in cookies:\n",
    "    driver.add_cookie(cookie)"
   ]
  },
  {
   "cell_type": "code",
   "execution_count": null,
   "metadata": {},
   "outputs": [],
   "source": [
    "driver.refresh()"
   ]
  },
  {
   "cell_type": "code",
   "execution_count": null,
   "metadata": {},
   "outputs": [],
   "source": [
    "#sys.sleep(5)\n",
    "#cookie_button = driver.find_element_by_xpath(\"//button[contains(.,'NEIN DANKE')]\")\n",
    "#cookie_button.click()"
   ]
  },
  {
   "cell_type": "code",
   "execution_count": null,
   "metadata": {},
   "outputs": [],
   "source": [
    "#cookie_button2 = driver.find_element_by_xpath(\"//button[contains(.,'OK')]\")\n",
    "#cookie_button2.click()"
   ]
  },
  {
   "cell_type": "code",
   "execution_count": null,
   "metadata": {},
   "outputs": [],
   "source": [
    "\n",
    "mehr_button = driver.find_element_by_xpath(\"//button[contains(.,'mehr Coronavirus')]\")\n",
    "mehr_button.click()"
   ]
  },
  {
   "cell_type": "code",
   "execution_count": null,
   "metadata": {},
   "outputs": [],
   "source": [
    "html = driver.page_source\n",
    "soup = BeautifulSoup(html, \"html.parser\")\n",
    "\n",
    "seiten = soup.find_all(\"a\", class_=re.compile(\"nau-u-c nau-u-bc\"))\n",
    "last_page = int(seiten[-1].get_text().strip())\n",
    "\n",
    "pages = []\n",
    "basis = \"https://www.nau.ch/news/coronavirus?p=\"\n",
    "for i in range(1,(last_page+1)):\n",
    "    final = basis + str(i)\n",
    "    pages.append(final)\n",
    "print(len(pages))\n",
    "\n",
    "#we now have the relative links to all the subpages containing stuff about coronavirus"
   ]
  },
  {
   "cell_type": "code",
   "execution_count": null,
   "metadata": {},
   "outputs": [],
   "source": [
    "hrefs = []\n",
    "\n",
    "for x in pages:\n",
    "    time.sleep(2)\n",
    "    driver.get(x)\n",
    "    html = driver.page_source\n",
    "    soup = BeautifulSoup(html, \"html.parser\")\n",
    "    for a in soup.find_all(\"a\", class_=re.compile(\"action-wrapper\")):\n",
    "        link_text = a[\"href\"]\n",
    "        if link_text[0] == \"/\":\n",
    "            if link_text not in hrefs:\n",
    "                hrefs.append(link_text)"
   ]
  },
  {
   "cell_type": "code",
   "execution_count": null,
   "metadata": {},
   "outputs": [],
   "source": [
    "           \n",
    "final_pages = []\n",
    "basis = \"https://www.nau.ch\"\n",
    "for element in hrefs:\n",
    "    thing = basis+element\n",
    "    final_pages.append(thing)"
   ]
  },
  {
   "cell_type": "code",
   "execution_count": null,
   "metadata": {},
   "outputs": [],
   "source": [
    "print(final_pages[2:4])"
   ]
  },
  {
   "cell_type": "code",
   "execution_count": null,
   "metadata": {},
   "outputs": [],
   "source": [
    "print(pages)"
   ]
  },
  {
   "cell_type": "code",
   "execution_count": null,
   "metadata": {},
   "outputs": [],
   "source": [
    "with open(\"nau_output.bin\", \"wb\") as output:\n",
    "    pickle.dump(final_pages, output)"
   ]
  },
  {
   "cell_type": "code",
   "execution_count": null,
   "metadata": {},
   "outputs": [],
   "source": [
    "driver.close()"
   ]
  }
 ],
 "metadata": {
  "kernelspec": {
   "display_name": "Python 3",
   "language": "python",
   "name": "python3"
  },
  "language_info": {
   "codemirror_mode": {
    "name": "ipython",
    "version": 3
   },
   "file_extension": ".py",
   "mimetype": "text/x-python",
   "name": "python",
   "nbconvert_exporter": "python",
   "pygments_lexer": "ipython3",
   "version": "3.8.5"
  }
 },
 "nbformat": 4,
 "nbformat_minor": 4
}
