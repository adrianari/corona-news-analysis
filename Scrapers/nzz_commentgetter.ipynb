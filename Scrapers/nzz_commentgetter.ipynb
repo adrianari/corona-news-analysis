{
 "cells": [
  {
   "cell_type": "code",
   "execution_count": null,
   "metadata": {},
   "outputs": [],
   "source": [
    "from selenium import webdriver\n",
    "from selenium.webdriver.common.keys import Keys\n",
    "import time\n",
    "from selenium.common.exceptions import NoSuchElementException\n",
    "from selenium.common.exceptions import StaleElementReferenceException\n",
    "from selenium.common.exceptions import TimeoutException\n",
    "from bs4 import BeautifulSoup\n",
    "import requests\n",
    "import pickle\n",
    "import sys\n",
    "import re\n",
    "import csv"
   ]
  },
  {
   "cell_type": "code",
   "execution_count": null,
   "metadata": {},
   "outputs": [],
   "source": [
    "kommentare = []\n",
    "\n",
    "class Kommentar:\n",
    "    def __init__(self, url, datum, text):\n",
    "        self.url = url\n",
    "        self.datum = datum\n",
    "        self.text = text"
   ]
  },
  {
   "cell_type": "code",
   "execution_count": null,
   "metadata": {},
   "outputs": [],
   "source": [
    "driver = webdriver.Firefox()\n",
    "driver.implicitly_wait(30)\n",
    "driver.maximize_window()"
   ]
  },
  {
   "cell_type": "code",
   "execution_count": null,
   "metadata": {},
   "outputs": [],
   "source": [
    "start_seite = \"https://www.nzz.ch/\"\n",
    "driver.get(start_seite)\n",
    "\n",
    "cookies = pickle.load(open(\"nzz_cookies.pkl\", \"rb\"))\n",
    "for cookie in cookies:\n",
    "    driver.add_cookie(cookie)\n",
    "    \n",
    "driver.refresh()"
   ]
  },
  {
   "cell_type": "code",
   "execution_count": null,
   "metadata": {},
   "outputs": [],
   "source": [
    "with open(\"nzz_output.bin\", \"rb\") as data:\n",
    "    ueb_pages = pickle.load(data)"
   ]
  },
  {
   "cell_type": "code",
   "execution_count": null,
   "metadata": {},
   "outputs": [],
   "source": [
    "urls = []\n",
    "for element in ueb_pages:\n",
    "    urlf = \"https://www.nzz.ch\" + element\n",
    "    urls.append(urlf)"
   ]
  },
  {
   "cell_type": "code",
   "execution_count": null,
   "metadata": {},
   "outputs": [],
   "source": [
    "def kommigetter():\n",
    "    try:\n",
    "        idtest = driver.find_element_by_id(\"coral_community_iframe\")\n",
    "        bm = idtest.get_attribute(\"src\")\n",
    "        driver.get(bm)\n",
    "\n",
    "        kommis = driver.find_elements_by_class_name(\"talk-stream-comment-wrapper\")\n",
    "        for comment in kommis:\n",
    "            date = comment.find_element_by_class_name(\"CommentTimestamp__timestamp___2Ejbf\")\n",
    "            textlichs = comment.find_element_by_class_name(\"talk-plugin-rich-text-text\")\n",
    "            datum = date.get_attribute(\"title\")\n",
    "            text = textlichs.text\n",
    "            text = text.replace(\"\\n\", \" \")\n",
    "            print(page)\n",
    "\n",
    "            crawled_kom = Kommentar(page, datum, text)\n",
    "            kommentare.append(crawled_kom)\n",
    "    except TimeoutError:\n",
    "        print(\"Time Out\")"
   ]
  },
  {
   "cell_type": "code",
   "execution_count": null,
   "metadata": {},
   "outputs": [],
   "source": [
    "for page in urls:    \n",
    "    time.sleep(2)\n",
    "    driver.get(page)\n",
    "    try:\n",
    "        x = driver.find_element_by_class_name(\"metainfo__item.metainfo__item--comments\")\n",
    "        x.click()\n",
    "        kommigetter()\n",
    "    except NoSuchElementException:\n",
    "        print(\"No such element - we go on\")\n",
    "        "
   ]
  },
  {
   "cell_type": "code",
   "execution_count": null,
   "metadata": {},
   "outputs": [],
   "source": [
    "with open('nzz_kom1.csv', 'w', newline='', encoding=\"utf8\") as csvfile:\n",
    "    blogwriter_kom = csv.writer(csvfile, delimiter='|', quotechar='\"')\n",
    "                                \n",
    "    for element in kommentare:\n",
    "        blogwriter_kom.writerow( [element.url, element.datum, element.text] )\n"
   ]
  },
  {
   "cell_type": "code",
   "execution_count": null,
   "metadata": {},
   "outputs": [],
   "source": [
    "#driver.get(\"https://www.nzz.ch/meinung/jedes-weitere-warten-auf-die-zulassung-der-astrazeneca-vakzine-gegen-sars-cov-2-kostet-leben-ld.1604705\")\n",
    "#\n",
    "#\n",
    "#x = driver.find_element_by_class_name(\"metainfo__item.metainfo__item--comments\")\n",
    "#x.click()\n",
    "#idtest = driver.find_element_by_id(\"coral_community_iframe\")\n",
    "#bm = idtest.get_attribute(\"src\")\n",
    "#driver.get(bm)\n",
    "#\n",
    "#kommis = driver.find_elements_by_class_name(\"talk-stream-comment-wrapper\")\n",
    "#for comment in kommis:\n",
    "#    date = comment.find_element_by_class_name(\"CommentTimestamp__timestamp___2Ejbf\")\n",
    "#    textlichs = comment.find_element_by_class_name(\"talk-plugin-rich-text-text\")\n",
    "#    print(date.get_attribute(\"title\"))\n",
    "#    print(textlichs.text)\n",
    "\n"
   ]
  },
  {
   "cell_type": "code",
   "execution_count": null,
   "metadata": {},
   "outputs": [],
   "source": [
    "#driver.get(\"https://kommentare.nzz.ch/embed/stream?asset_id=1603441&asset_url=https%3A%2F%2Fwww.nzz.ch%2Fzuerich%2Fdas-gastgewerbe-kaempft-gegen-die-corona-krise-und-mit-sich-ld.1603441&initialWidth=528&childId=coral_community&parentTitle=Das%20Gastgewerbe%20k%C3%A4mpft%20gegen%20die%20Corona-Krise%20und%20mit%20sich&parentUrl=https%3A%2F%2Fwww.nzz.ch%2Fzuerich%2Fdas-gastgewerbe-kaempft-gegen-die-corona-krise-und-mit-sich-ld.1603441\")\n",
    "#y = driver.find_element_by_class_name(\"Comment__commentContainer___3sJdg\")"
   ]
  },
  {
   "cell_type": "code",
   "execution_count": null,
   "metadata": {},
   "outputs": [],
   "source": [
    "driver.quit()"
   ]
  }
 ],
 "metadata": {
  "kernelspec": {
   "display_name": "Python 3",
   "language": "python",
   "name": "python3"
  },
  "language_info": {
   "codemirror_mode": {
    "name": "ipython",
    "version": 3
   },
   "file_extension": ".py",
   "mimetype": "text/x-python",
   "name": "python",
   "nbconvert_exporter": "python",
   "pygments_lexer": "ipython3",
   "version": "3.8.5"
  }
 },
 "nbformat": 4,
 "nbformat_minor": 4
}
