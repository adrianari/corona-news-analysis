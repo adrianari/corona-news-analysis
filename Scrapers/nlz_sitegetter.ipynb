{
 "cells": [
  {
   "cell_type": "code",
   "execution_count": 7,
   "metadata": {},
   "outputs": [
    {
     "name": "stdout",
     "output_type": "stream",
     "text": [
      "You have not imported the selenium.webdriver.common.exceptions module\n"
     ]
    }
   ],
   "source": [
    "from selenium import webdriver\n",
    "from selenium.webdriver.common.keys import Keys\n",
    "import time\n",
    "from selenium.common.exceptions import NoSuchElementException\n",
    "from selenium.common.exceptions import StaleElementReferenceException\n",
    "from bs4 import BeautifulSoup\n",
    "import pickle\n",
    "import sys\n",
    "\n",
    "modulename = 'selenium.webdriver.common.exceptions'\n",
    "if modulename not in sys.modules:\n",
    "    print('You have not imported the {} module'.format(modulename))\n",
    "else:\n",
    "    print('You have imported the {} module'.format(modulename))"
   ]
  },
  {
   "cell_type": "code",
   "execution_count": 2,
   "metadata": {},
   "outputs": [],
   "source": [
    "driver = webdriver.Firefox()\n",
    "driver.implicitly_wait(30)\n",
    "driver.maximize_window()"
   ]
  },
  {
   "cell_type": "code",
   "execution_count": null,
   "metadata": {},
   "outputs": [],
   "source": [
    "driver.get(\"https://abo.luzernerzeitung.ch/registrieren/?sso=1&target=https%3A%2F%2Fwww.luzernerzeitung.ch%2F\")"
   ]
  },
  {
   "cell_type": "code",
   "execution_count": null,
   "metadata": {},
   "outputs": [],
   "source": [
    "mailfield = driver.find_element_by_id(\"c1-login-field\")\n",
    "time.sleep(3)\n",
    "mailfield.send_keys(\"YourMailAdresse@Here.com\")\n",
    "time.sleep(5)\n",
    "mailfield.send_keys(Keys.RETURN)"
   ]
  },
  {
   "cell_type": "code",
   "execution_count": null,
   "metadata": {},
   "outputs": [],
   "source": [
    "time.sleep(3)\n",
    "driver.get(driver.current_url)"
   ]
  },
  {
   "cell_type": "code",
   "execution_count": null,
   "metadata": {},
   "outputs": [],
   "source": [
    "pwfield = driver.find_element_by_id(\"YourPasswordHere\")\n",
    "time.sleep(3)\n",
    "pwfield.send_keys(\"Stipvo\")\n",
    "time.sleep(5)\n",
    "pwfield.send_keys(Keys.RETURN)"
   ]
  },
  {
   "cell_type": "code",
   "execution_count": null,
   "metadata": {},
   "outputs": [],
   "source": [
    "time.sleep(5)\n",
    "p = pickle.dump(driver.get_cookies() , open(\"nlz_cookies.pkl\",\"wb\"))"
   ]
  },
  {
   "cell_type": "code",
   "execution_count": 4,
   "metadata": {},
   "outputs": [],
   "source": [
    "driver.get(\"https://www.luzernerzeitung.ch/\")\n",
    "time.sleep(3)\n",
    "\n",
    "cookies = pickle.load(open(\"nlz_cookies.pkl\", \"rb\"))\n",
    "for cookie in cookies:\n",
    "    driver.add_cookie(cookie)\n",
    "    \n",
    "driver.refresh()\n"
   ]
  },
  {
   "cell_type": "code",
   "execution_count": 8,
   "metadata": {},
   "outputs": [],
   "source": [
    "#hrefs = []\n",
    "def sitegetter(input):\n",
    "    time.sleep(3)\n",
    "    driver.get(input)\n",
    "\n",
    "    # load more buttons\n",
    "\n",
    "    while True:\n",
    "        try:\n",
    "            x = driver.find_element_by_xpath(\"//button[contains(.,'Weitere Ergebnisse')]\")\n",
    "            time.sleep(1)\n",
    "            x.click()\n",
    "        except (NoSuchElementException, StaleElementReferenceException):\n",
    "            break\n",
    "            \n",
    "\n",
    "    html = driver.page_source\n",
    "    soup = BeautifulSoup(html, \"html.parser\")\n",
    "\n",
    "    for a in soup.find_all(\"a\", class_=\"teaser__link\"):\n",
    "        link_text = a[\"href\"]\n",
    "        if link_text[0] == \"/\":\n",
    "            if link_text not in hrefs:\n",
    "                hrefs.append(link_text)"
   ]
  },
  {
   "cell_type": "code",
   "execution_count": 13,
   "metadata": {},
   "outputs": [],
   "source": [
    "zu_suchen = [\"https://www.luzernerzeitung.ch/suche?q=covid-19&filter=\"]\n",
    "#\"https://www.luzernerzeitung.ch/suche?q=coronavirus&filter=\"]\n",
    "\n",
    "for seite in zu_suchen:\n",
    "    sitegetter(seite)"
   ]
  },
  {
   "cell_type": "code",
   "execution_count": 9,
   "metadata": {},
   "outputs": [],
   "source": [
    "#below cell can be deleted if successful \n",
    "while True:\n",
    "    try:\n",
    "        x = driver.find_element_by_xpath(\"//button[contains(.,'Weitere Ergebnisse')]\")\n",
    "        time.sleep(1)\n",
    "        x.click()\n",
    "    except (NoSuchElementException, StaleElementReferenceException):\n",
    "        break          "
   ]
  },
  {
   "cell_type": "code",
   "execution_count": 10,
   "metadata": {},
   "outputs": [
    {
     "name": "stdout",
     "output_type": "stream",
     "text": [
      "2347\n"
     ]
    }
   ],
   "source": [
    "html = driver.page_source\n",
    "soup = BeautifulSoup(html, \"html.parser\")\n",
    "\n",
    "for a in soup.find_all(\"a\", class_=\"teaser__link\"):\n",
    "    link_text = a[\"href\"]\n",
    "    if link_text[0] == \"/\":\n",
    "        if link_text not in hrefs:\n",
    "            hrefs.append(link_text)\n",
    "\n"
   ]
  },
  {
   "cell_type": "code",
   "execution_count": 15,
   "metadata": {},
   "outputs": [],
   "source": [
    "with open(\"nlz_output.bin\", \"wb\") as output:\n",
    "    pickle.dump(hrefs, output)"
   ]
  },
  {
   "cell_type": "code",
   "execution_count": null,
   "metadata": {},
   "outputs": [],
   "source": [
    "driver.quit()"
   ]
  }
 ],
 "metadata": {
  "kernelspec": {
   "display_name": "Python 3",
   "language": "python",
   "name": "python3"
  },
  "language_info": {
   "codemirror_mode": {
    "name": "ipython",
    "version": 3
   },
   "file_extension": ".py",
   "mimetype": "text/x-python",
   "name": "python",
   "nbconvert_exporter": "python",
   "pygments_lexer": "ipython3",
   "version": "3.8.5"
  }
 },
 "nbformat": 4,
 "nbformat_minor": 4
}
