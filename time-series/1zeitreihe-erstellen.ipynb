{
 "cells": [
  {
   "cell_type": "code",
   "execution_count": 1,
   "metadata": {},
   "outputs": [
    {
     "name": "stderr",
     "output_type": "stream",
     "text": [
      "/home/adriana/snap/jupyter/common/lib/python3.7/site-packages/joblib/_multiprocessing_helpers.py:45: UserWarning: [Errno 13] Permission denied.  joblib will operate in serial mode\n",
      "  warnings.warn('%s.  joblib will operate in serial mode' % (e,))\n"
     ]
    }
   ],
   "source": [
    "import pymysql as mariadb\n",
    "import pandas as pd\n",
    "import matplotlib\n",
    "from sklearn.feature_extraction.text import TfidfVectorizer\n",
    "import nltk\n",
    "import random\n",
    "from sklearn.cluster import KMeans\n",
    "import re\n",
    "from wordcloud import WordCloud\n",
    "import seaborn as sns\n",
    "import numpy as np\n",
    "import matplotlib.pyplot as plt"
   ]
  },
  {
   "cell_type": "markdown",
   "metadata": {},
   "source": [
    "# Zeitreihe erstellen\n",
    "\n",
    "Der nachfolgende Code erstellt basierend auf den gescrapten Artikel und Kommentare als auch den Daten vom BAG eine Zeitreihe."
   ]
  },
  {
   "cell_type": "code",
   "execution_count": 2,
   "metadata": {},
   "outputs": [],
   "source": [
    "#get all days as a list\n",
    "\n",
    "from datetime import date, timedelta\n",
    "\n",
    "sdate = date(2020, 1, 1)   # start date\n",
    "edate = date(2020, 12, 31)   # end date\n",
    "\n",
    "delta = edate - sdate       # as timedelta\n",
    "\n",
    "kalender = []\n",
    "for i in range(delta.days + 1):\n",
    "    day = sdate + timedelta(days=i)\n",
    "    kalender.append(day)"
   ]
  },
  {
   "cell_type": "code",
   "execution_count": 3,
   "metadata": {},
   "outputs": [
    {
     "data": {
      "text/html": [
       "<div>\n",
       "<style scoped>\n",
       "    .dataframe tbody tr th:only-of-type {\n",
       "        vertical-align: middle;\n",
       "    }\n",
       "\n",
       "    .dataframe tbody tr th {\n",
       "        vertical-align: top;\n",
       "    }\n",
       "\n",
       "    .dataframe thead th {\n",
       "        text-align: right;\n",
       "    }\n",
       "</style>\n",
       "<table border=\"1\" class=\"dataframe\">\n",
       "  <thead>\n",
       "    <tr style=\"text-align: right;\">\n",
       "      <th></th>\n",
       "      <th>tage</th>\n",
       "    </tr>\n",
       "    <tr>\n",
       "      <th>0</th>\n",
       "      <th></th>\n",
       "    </tr>\n",
       "  </thead>\n",
       "  <tbody>\n",
       "    <tr>\n",
       "      <th>2020-01-01</th>\n",
       "      <td>2020-01-01</td>\n",
       "    </tr>\n",
       "    <tr>\n",
       "      <th>2020-01-02</th>\n",
       "      <td>2020-01-02</td>\n",
       "    </tr>\n",
       "    <tr>\n",
       "      <th>2020-01-03</th>\n",
       "      <td>2020-01-03</td>\n",
       "    </tr>\n",
       "    <tr>\n",
       "      <th>2020-01-04</th>\n",
       "      <td>2020-01-04</td>\n",
       "    </tr>\n",
       "    <tr>\n",
       "      <th>2020-01-05</th>\n",
       "      <td>2020-01-05</td>\n",
       "    </tr>\n",
       "    <tr>\n",
       "      <th>...</th>\n",
       "      <td>...</td>\n",
       "    </tr>\n",
       "    <tr>\n",
       "      <th>2020-12-27</th>\n",
       "      <td>2020-12-27</td>\n",
       "    </tr>\n",
       "    <tr>\n",
       "      <th>2020-12-28</th>\n",
       "      <td>2020-12-28</td>\n",
       "    </tr>\n",
       "    <tr>\n",
       "      <th>2020-12-29</th>\n",
       "      <td>2020-12-29</td>\n",
       "    </tr>\n",
       "    <tr>\n",
       "      <th>2020-12-30</th>\n",
       "      <td>2020-12-30</td>\n",
       "    </tr>\n",
       "    <tr>\n",
       "      <th>2020-12-31</th>\n",
       "      <td>2020-12-31</td>\n",
       "    </tr>\n",
       "  </tbody>\n",
       "</table>\n",
       "<p>366 rows × 1 columns</p>\n",
       "</div>"
      ],
      "text/plain": [
       "                  tage\n",
       "0                     \n",
       "2020-01-01  2020-01-01\n",
       "2020-01-02  2020-01-02\n",
       "2020-01-03  2020-01-03\n",
       "2020-01-04  2020-01-04\n",
       "2020-01-05  2020-01-05\n",
       "...                ...\n",
       "2020-12-27  2020-12-27\n",
       "2020-12-28  2020-12-28\n",
       "2020-12-29  2020-12-29\n",
       "2020-12-30  2020-12-30\n",
       "2020-12-31  2020-12-31\n",
       "\n",
       "[366 rows x 1 columns]"
      ]
     },
     "execution_count": 3,
     "metadata": {},
     "output_type": "execute_result"
    }
   ],
   "source": [
    "#establish dataframe from list\n",
    "df = pd.DataFrame(kalender)\n",
    "df = df.set_index(df[0]).astype(str)\n",
    "df = df.rename({0: \"tage\"}, axis = \"columns\")\n",
    "df"
   ]
  },
  {
   "cell_type": "code",
   "execution_count": 4,
   "metadata": {},
   "outputs": [],
   "source": [
    "#artikel\n",
    "connection = mariadb.connect(host=\"localhost\", database=\"masterarbeit\",\n",
    "                            user=\"USER\", password=\"PASSWORD\")\n",
    "\n",
    "#filtering out the datasources where there are no comments or comments without date\n",
    "sql = (\"SELECT * \"\n",
    "       \"FROM article \"\n",
    "       \"WHERE newsoutlet NOT Like 'nau' \"\n",
    "       \"AND newsoutlet NOT like 'nlz' \"\n",
    "       \"AND newsoutlet NOT like 'woz' \")\n",
    "\n",
    "df_artikel = pd.read_sql_query(sql, connection)\n",
    "\n",
    "df_artikel_onlywithdate = df_artikel\n",
    "df_artikel_onlywithdate[\"date\"] = df_artikel_onlywithdate[\"art_datum\"].astype(str)\n",
    "df_artikel_onlywithdate = df_artikel_onlywithdate.sort_values(by=\"date\")\n",
    "df_artikel_onlywithdate = df_artikel_onlywithdate.mask(df_artikel_onlywithdate.eq('None')).dropna(subset=[\"date\"])\n",
    "\n",
    "df_artikel_onlywithdate = df_artikel_onlywithdate.set_index(\"date\")\n",
    "\n",
    "df_art_zf = df_artikel_onlywithdate.groupby([\"date\"]).size()\n",
    "df_art_zf  = df_art_zf.to_frame()"
   ]
  },
  {
   "cell_type": "code",
   "execution_count": 7,
   "metadata": {},
   "outputs": [],
   "source": [
    "#connecting to commentaires\n",
    "sql2 = (\"SELECT * \"\n",
    "        \"FROM comment \"\n",
    "        \"WHERE outlet NOT Like 'nau' \")\n",
    "\n",
    "df_komm = pd.read_sql_query(sql2, connection)\n",
    "\n",
    "df_komm_onlywithdate = df_komm\n",
    "df_komm_onlywithdate[\"date\"] = df_komm_onlywithdate[\"kom_datum\"].astype(str)\n",
    "\n",
    "df_komm_onlywithdate = df_komm_onlywithdate.sort_values(by=\"date\")\n",
    "df_komm_onlywithdate = df_komm_onlywithdate.set_index(\"date\")\n",
    "\n",
    "df_komm_zf = df_komm_onlywithdate.groupby([\"date\"]).size()\n",
    "df_komm_zf = df_komm_zf.to_frame()"
   ]
  },
  {
   "cell_type": "code",
   "execution_count": null,
   "metadata": {},
   "outputs": [],
   "source": [
    "#fallzahlen\n",
    "\n",
    "sql3 = (\"SELECT * \"\n",
    "       \"FROM bag_fallzahlen \"\n",
    "       \"WHERE geoRegion = 'CH'\")\n",
    "\n",
    "df_fallzahlen = pd.read_sql_query(sql3, connection)\n",
    "\n",
    "df_fallzahlen = df_fallzahlen.sort_values(by = \"datum\", ascending = True)\n",
    "df_fallzahlen[\"datum\"] = df_fallzahlen[\"datum\"].astype(str)\n",
    "df_fallzahlen\n",
    "df_fallzahlen = df_fallzahlen.rename(columns = {\"entries\": \"entries_fall\"})\n",
    "df_fall2 = df_fallzahlen[[\"datum\", \"entries_fall\"]].copy()"
   ]
  },
  {
   "cell_type": "code",
   "execution_count": null,
   "metadata": {},
   "outputs": [],
   "source": [
    "#hospzahlen\n",
    "\n",
    "sql3 = (\"SELECT * \"\n",
    "       \"FROM bag_hospzahlen \"\n",
    "       \"WHERE geoRegion = 'CH'\")\n",
    "\n",
    "df_hospzahlen = pd.read_sql_query(sql3, connection)\n",
    "\n",
    "df_hospzahlen[\"hosp_datum\"] = pd.to_datetime(df_hospzahlen[\"hosp_datum\"])\n",
    "df_hospzahlen[\"hosp_datum\"] = df_hospzahlen[\"hosp_datum\"].astype(str)\n",
    "df_hospzahlen = df_hospzahlen.rename(columns = {\"entries\": \"entries_hosp\"})\n",
    "df_hosp2 = df_hospzahlen[[\"hosp_datum\", \"entries_hosp\"]].copy()"
   ]
  },
  {
   "cell_type": "code",
   "execution_count": null,
   "metadata": {},
   "outputs": [],
   "source": [
    "#todeszahlen\n",
    "\n",
    "sql4 = (\"SELECT * \"\n",
    "       \"FROM bag_todzahlen \"\n",
    "       \"WHERE geoRegion = 'CH'\")\n",
    "\n",
    "df_todzahlen = pd.read_sql_query(sql4, connection)\n",
    "df_todzahlen[\"datum\"] = pd.to_datetime(df_todzahlen[\"datum\"], format=\"%d.%m.%Y\")\n",
    "df_todzahlen[\"datum\"] = df_todzahlen[\"datum\"].astype(str)\n",
    "df_todzahlen = df_todzahlen.rename(columns = {\"entries\": \"entries_tod\"})\n",
    "df_tod = df_todzahlen[[\"datum\", \"entries_tod\"]]"
   ]
  },
  {
   "cell_type": "code",
   "execution_count": null,
   "metadata": {},
   "outputs": [],
   "source": [
    "df_tod"
   ]
  },
  {
   "cell_type": "code",
   "execution_count": null,
   "metadata": {
    "scrolled": false
   },
   "outputs": [],
   "source": [
    "final = df.merge(df_art_zf, right_on = \"date\", left_on = \"tage\", how =\"left\")\n",
    "#final = df_komm_zf"
   ]
  },
  {
   "cell_type": "code",
   "execution_count": null,
   "metadata": {},
   "outputs": [],
   "source": [
    "final = final.merge(df_komm_zf, right_on = \"date\", left_on = \"tage\", how = \"left\", suffixes = (None, \"_kom\"))"
   ]
  },
  {
   "cell_type": "code",
   "execution_count": null,
   "metadata": {},
   "outputs": [],
   "source": [
    "final = final.merge(df_fall2, left_on = \"tage\", right_on=\"datum\", how = \"left\")"
   ]
  },
  {
   "cell_type": "code",
   "execution_count": null,
   "metadata": {},
   "outputs": [],
   "source": [
    "final = final.merge(df_hosp2, left_on = \"tage\", right_on=\"hosp_datum\", how=\"left\")"
   ]
  },
  {
   "cell_type": "code",
   "execution_count": null,
   "metadata": {},
   "outputs": [],
   "source": [
    "final = final.merge(df_tod, left_on = \"tage\", right_on=\"datum\", how=\"left\")"
   ]
  },
  {
   "cell_type": "code",
   "execution_count": null,
   "metadata": {},
   "outputs": [],
   "source": [
    "final"
   ]
  },
  {
   "cell_type": "code",
   "execution_count": null,
   "metadata": {},
   "outputs": [],
   "source": [
    "final = final.drop(['datum_x', 'hosp_datum', 'datum_y'], axis=1)"
   ]
  },
  {
   "cell_type": "code",
   "execution_count": null,
   "metadata": {},
   "outputs": [],
   "source": [
    "final.to_csv(\"zeitreihe.csv\", header = True, index = False)"
   ]
  }
 ],
 "metadata": {
  "kernelspec": {
   "display_name": "Python 3",
   "language": "python",
   "name": "python3"
  },
  "language_info": {
   "codemirror_mode": {
    "name": "ipython",
    "version": 3
   },
   "file_extension": ".py",
   "mimetype": "text/x-python",
   "name": "python",
   "nbconvert_exporter": "python",
   "pygments_lexer": "ipython3",
   "version": "3.8.5"
  }
 },
 "nbformat": 4,
 "nbformat_minor": 2
}
