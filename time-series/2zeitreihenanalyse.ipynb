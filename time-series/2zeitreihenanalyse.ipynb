{
 "cells": [
  {
   "cell_type": "code",
   "execution_count": 1,
   "metadata": {},
   "outputs": [],
   "source": [
    "#importing libraries\n",
    "import statsmodels.tsa.stattools\n",
    "import statsmodels.graphics.tsaplots\n",
    "from statsmodels.tsa.api import VAR\n",
    "from statsmodels.tsa.stattools import grangercausalitytests\n",
    "from statsmodels.stats.stattools import durbin_watson\n",
    "#from statsmodels.tools.sm_exceptions import InfeasibleTestError\n",
    "import scipy.stats\n",
    "import pandas as pd\n",
    "import numpy as np\n",
    "import scipy.signal\n",
    "import seaborn as sns\n",
    "import matplotlib as plt\n",
    "import matplotlib.pyplot as plty\n",
    "plty.rcParams['figure.figsize'] = (14,11)\n",
    "plt.rcParams['figure.figsize'] = (14,11)"
   ]
  },
  {
   "cell_type": "code",
   "execution_count": 2,
   "metadata": {},
   "outputs": [],
   "source": [
    "#if this is the first time running the script, please let the next two lines commented to make sure the code works.\n",
    "#If the code runs, please feel free to uncomment and let the code rerun to ignore any warnings\n",
    "\n",
    "import warnings\n",
    "warnings.filterwarnings('ignore')"
   ]
  },
  {
   "cell_type": "markdown",
   "metadata": {},
   "source": [
    "# Get Time Frame\n",
    "\n",
    "Indicate below the range of months you are interested in. \n",
    "\n",
    "<b> Important </b> <br>\n",
    "<ul> \n",
    "<li> indicate the month indication in a non Python-way <br>\n",
    "    Code has been created in such a way that input will be interpreted as such. If you are interested in the entire year, do not put df_maker(1,13) (as you would do in a Python way) but df_maker(1,12). The code will understand.\n",
    "    <p>\n",
    "<li> code is implemented as range <br>\n",
    "    If you are interested in single months, you will need to establish two variables with single range.\n",
    "    Example: <br>\n",
    "    january = df_maker(1,1) <br>\n",
    "    august = df_maker(8,8) <br>\n",
    "    Kindly note that in this case, code will need to be run for each variable\n",
    "    <p>\n",
    "<li> comparison needs to be done manually <br>\n",
    "    if you are interested in comparing two different time frames, you will need to this manually\n",
    "    \n",
    "</ul>\n",
    "    \n",
    "<br>\n",
    "\n",
    "<b> Examples </b> <br>\n",
    "1,12 = entire year (January to December)<br>\n",
    "1,6 = first wave (January to June) <br>\n",
    "7, 12 = second wave (July to December) <br>\n",
    "3,5 = March to May<br>\n"
   ]
  },
  {
   "cell_type": "code",
   "execution_count": 3,
   "metadata": {},
   "outputs": [
    {
     "name": "stdout",
     "output_type": "stream",
     "text": [
      "Please enter the starting month as a full number. (E.g. for January = 1)1\n",
      "Please enter the ending month as a full number. (E.g. for December = 12)12\n"
     ]
    }
   ],
   "source": [
    "a = input(\"Please enter the starting month as a full number. (E.g. for January = 1)\")\n",
    "b = input(\"Please enter the ending month as a full number. (E.g. for December = 12)\")\n",
    "\n",
    "a = int(a)\n",
    "b = int(b)"
   ]
  },
  {
   "cell_type": "markdown",
   "metadata": {},
   "source": [
    "# Set Up / Establishing Functions\n",
    "\n",
    "Below, functions and other parts for the code are established. No need to change anything, just let the cells run. Insights and results follow in the next part \"Analysis\"."
   ]
  },
  {
   "cell_type": "code",
   "execution_count": 4,
   "metadata": {},
   "outputs": [],
   "source": [
    "#read in data and data cleaning\n",
    "df = pd.read_csv(\"weekly.csv\")"
   ]
  },
  {
   "cell_type": "code",
   "execution_count": 5,
   "metadata": {},
   "outputs": [],
   "source": [
    "df = df.set_index(\"tage\")\n",
    "df = df.rename(columns = {\"0\": \"artikel_zahlen\", \n",
    "                          \"0_kom\" : \"kom_zahlen\", \n",
    "                          \"entries_fall\": \"bag_zahlen\", \n",
    "                          \"entries_hosp\" : \"hosp_zahlen\",\n",
    "                          \"entries_tod\": \"tod_zahlen\"})\n",
    "df = df.reset_index()\n",
    "df[\"month\"] = pd.to_datetime(df[\"tage\"]).dt.month"
   ]
  },
  {
   "cell_type": "code",
   "execution_count": 6,
   "metadata": {},
   "outputs": [],
   "source": [
    "def df_maker(a,b):\n",
    "    \"\"\"\n",
    "    Creates the df based on the month range of interest\n",
    "    \"\"\"\n",
    "    months_of_interest = [x for x in range(a,b+1)]\n",
    "\n",
    "    df1 = df[df[\"month\"].isin(months_of_interest)].set_index(\"tage\").drop([\"month\"], axis = 1)\n",
    "    return df1"
   ]
  },
  {
   "cell_type": "code",
   "execution_count": 7,
   "metadata": {},
   "outputs": [],
   "source": [
    "def single_values(df): \n",
    "    \n",
    "    \"\"\"\n",
    "    Calculates the metrics for the undifferentiated dataset.\n",
    "    \"\"\"\n",
    "    \n",
    "    #shapiro\n",
    "    shapiro_dict = {\"name\" : [\"shapiro-statistic\", \"shapiro-pvalue\"]}\n",
    "    for column in df:\n",
    "        x = column\n",
    "        y = scipy.stats.shapiro(df[column])\n",
    "        shapiro_dict[x] = [y.statistic, y.pvalue]\n",
    "\n",
    "    shapiro_df = pd.DataFrame.from_dict(shapiro_dict)\n",
    "    main_df = shapiro_df\n",
    "    \n",
    "    \n",
    "    #test for stationarity via Augmented Dicky Fuller\n",
    "\n",
    "    adf_dict = {\"name\" : [\"adf-statistics\", \"adf-pvalue\", \"adf-lags\", \"adf-nobs\", \"adf-critical-values\"]}\n",
    "    for column in df:\n",
    "        x = column\n",
    "        y = statsmodels.tsa.stattools.adfuller(df[column])\n",
    "        adf_dict[x] = [y[0], y[1], y[2], y[3], y[4]]\n",
    "\n",
    "    adf_df = pd.DataFrame.from_dict(adf_dict)\n",
    "    main_df = main_df.append(adf_df)\n",
    "    \n",
    "    #test for stationarity via KPSS\n",
    "    kpss_dict = {\"name\" : [\"kpss-statistics\", \"kpss-pvalue\", \"kpss-lags\", \"kpss-critvalues\"]}\n",
    "    for column in df:\n",
    "        x = column\n",
    "        y = statsmodels.tsa.stattools.kpss(df[column])\n",
    "        kpss_dict[x] = [y[0], y[1], y[2], y[3]]\n",
    "\n",
    "    kpss_df = pd.DataFrame.from_dict(kpss_dict)\n",
    "    main_df = main_df.append(kpss_df)\n",
    "    return main_df"
   ]
  },
  {
   "cell_type": "code",
   "execution_count": 8,
   "metadata": {},
   "outputs": [],
   "source": [
    "def correlater(df):\n",
    "\n",
    "    #Spearman correlation\n",
    "\n",
    "    todo = [[df.bag_zahlen, df.artikel_zahlen], [df.bag_zahlen, df.kom_zahlen], \n",
    "            [df.tod_zahlen, df.artikel_zahlen], [df.tod_zahlen, df.kom_zahlen],\n",
    "            [df.hosp_zahlen, df.artikel_zahlen], [df.hosp_zahlen, df.kom_zahlen],\n",
    "            [df.artikel_zahlen, df.kom_zahlen]]\n",
    "    cor_dict = {\"name\" : [\"spearman-statistic\", \"spearman-pvalue\"]}\n",
    "\n",
    "    for element in todo:\n",
    "        a = element[0].name\n",
    "        b = element[1].name\n",
    "        x = element[0]\n",
    "        y = element[1]\n",
    "        z = scipy.stats.spearmanr(x,y)\n",
    "        cor_dict[(a, b)] = [\"{:.6f}\".format(float(z.correlation)), \"{:.6f}\".format(float(z.pvalue))]\n",
    "\n",
    "    cor_df = pd.DataFrame.from_dict(cor_dict)\n",
    "    \n",
    "    \n",
    "    #just for fun we check pearson nonetheless\n",
    "\n",
    "    pearson_dict = {\"name\" : [\"pearson-tail1\", \"pearson-tail2\"]}\n",
    "\n",
    "    for element in todo:\n",
    "        a = element[0].name\n",
    "        b = element[1].name\n",
    "        x = element[0]\n",
    "        y = element[1]\n",
    "        z = scipy.stats.pearsonr(x,y)\n",
    "        pearson_dict[(a, b)] = z\n",
    "\n",
    "    pearson_df = pd.DataFrame.from_dict(pearson_dict)\n",
    "    cor_df = cor_df.append(pearson_df)\n",
    "    cor_df = cor_df.reset_index()\n",
    "    cor_df = cor_df.drop(columns = \"index\")\n",
    "    return cor_df"
   ]
  },
  {
   "cell_type": "code",
   "execution_count": 9,
   "metadata": {},
   "outputs": [],
   "source": [
    "#diffentiating \n",
    "\n",
    "def differentiate(df):\n",
    "    \"\"\"\n",
    "    Differentiates all columns in the dataframe\n",
    "    \"\"\"\n",
    "\n",
    "    diff_bag = np.diff(df[\"bag_zahlen\"])\n",
    "    diff_artikel = np.diff(df.artikel_zahlen)\n",
    "    diff_kom = np.diff(df.kom_zahlen)\n",
    "    diff_tod = np.diff(df.tod_zahlen)\n",
    "    diff_hosp = np.diff(df.hosp_zahlen)\n",
    "\n",
    "\n",
    "\n",
    "    diff_df = pd.DataFrame(data = [diff_artikel, diff_kom, diff_bag, diff_tod, diff_hosp])\n",
    "    diff_df = diff_df.transpose()\n",
    "    diff_df = diff_df.rename(columns = {0:\"diff_artikel\", 1:\"diff_komm\", 2:\"diff_bag\", 3:\"diff_tod\", 4:\"diff_hosp\"})\n",
    "\n",
    "    for x in diff_df:\n",
    "        diff_df[x] = diff_df[x].astype(float)\n",
    "    \n",
    "    return diff_df\n"
   ]
  },
  {
   "cell_type": "code",
   "execution_count": 10,
   "metadata": {},
   "outputs": [],
   "source": [
    "def difference_tester(diff_df):\n",
    "    \"\"\"\n",
    "    Tests a (differentiated) dataframe for stationarity only. (Without the correlation etc. from the previous function)\n",
    "    \"\"\"\n",
    "    #retesting for stationarity (ADF)\n",
    "    diff_adf_dict = {\"name\" : [\"adf-statistics-diff\", \"adf-pvalue-diff\", \"adf-lags-diff\", \"adf-nobs-diff\", \"adf-critical-values-diff\"]}\n",
    "    for column in diff_df:\n",
    "        x = column\n",
    "        y = statsmodels.tsa.stattools.adfuller(diff_df[column])\n",
    "        diff_adf_dict[x] = [y[0], y[1], y[2], y[3], y[4]]\n",
    "\n",
    "    diff_adf_df = pd.DataFrame.from_dict(diff_adf_dict)\n",
    "    diff_main_df = diff_adf_df\n",
    "    \n",
    "    #test for stationarity via KPSS\n",
    "    diff_kpss_dict = {\"name\" : [\"kpss-statistics-diff\", \"kpss-pvalue-diff\", \"kpss-lags-diff\", \"kpss-critvalues-diff\"]}\n",
    "    for column in diff_df:\n",
    "        x = column\n",
    "        y = statsmodels.tsa.stattools.kpss(diff_df[column])\n",
    "        diff_kpss_dict[x] = [y[0], y[1], y[2], y[3]]\n",
    "\n",
    "    diff_kpss_df = pd.DataFrame.from_dict(diff_kpss_dict)\n",
    "    diff_main_df = diff_main_df.append(diff_kpss_df)\n",
    "    \n",
    "    return diff_main_df"
   ]
  },
  {
   "cell_type": "code",
   "execution_count": 11,
   "metadata": {},
   "outputs": [],
   "source": [
    "def acf_maker(x_diff):\n",
    "    \"\"\"\n",
    "    Shows the auto-correlation of the single time series.\n",
    "    \"\"\"\n",
    "    \n",
    "    acf_list = [x_diff.diff_bag, x_diff.diff_artikel, x_diff.diff_komm, x_diff.diff_tod, x_diff.diff_hosp]\n",
    "\n",
    "    for y in acf_list:\n",
    "        fig, ax2 = plty.subplots(1, 1)\n",
    "        fig.set_size_inches(11, 8)\n",
    "        ax2.acorr(y, usevlines=True, normed=True, maxlags=12, lw=2)\n",
    "        try:\n",
    "            fig.suptitle(str(y.name))\n",
    "        except AttributeError:\n",
    "            fig.suptitle(\"BAG Diff Diff\")\n",
    "        ax2.grid(True)\n",
    "\n",
    "        plty.show()"
   ]
  },
  {
   "cell_type": "code",
   "execution_count": 12,
   "metadata": {},
   "outputs": [],
   "source": [
    "def pacf_maker(x_diff):\n",
    "    \"\"\"\n",
    "    Shows the partial auto-correlation of the single time series.\n",
    "    \"\"\"\n",
    "    \n",
    "    pacf_list = [x_diff.diff_bag, x_diff.diff_artikel, x_diff.diff_komm, x_diff.diff_tod, x_diff.diff_hosp]\n",
    "\n",
    "    for y in pacf_list:\n",
    "        try:\n",
    "            statsmodels.graphics.tsaplots.plot_pacf(y, lags = 11, title = \"Partial Autocorrelation - \" + str(y.name))\n",
    "        except np.linalg.LinAlgError:\n",
    "            print(\"Insufficient data for at least 1 column. Try a wider time range or skip this part to get the information for all data points\")\n",
    "    "
   ]
  },
  {
   "cell_type": "code",
   "execution_count": 13,
   "metadata": {},
   "outputs": [],
   "source": [
    "def cross_correlate(diff_df):\n",
    "    \n",
    "    \"\"\"\n",
    "    OPTIONAL TO GET MORE INSIGHT.\n",
    "    Get the crosscorrelation.\n",
    "    Input should be a stationary dataframe.\n",
    "    \n",
    "    Visualizes the different crosscorrelations in one illustration as well as makes a pairplot of the columns as descirbed here\n",
    "    https://towardsdatascience.com/visualizing-data-with-pair-plots-in-python-f228cf529166\n",
    "    \"\"\"\n",
    "    \n",
    "    #Cross correlation\n",
    "\n",
    "    todo_diff = [[diff_df.diff_bag, diff_df.diff_artikel], [diff_df.diff_bag, diff_df.diff_komm], \n",
    "                 [diff_df.diff_tod, diff_df.diff_artikel], [diff_df.diff_tod, diff_df.diff_komm],\n",
    "                 [diff_df.diff_hosp, diff_df.diff_artikel],  [diff_df.diff_hosp,diff_df.diff_komm],\n",
    "                 [diff_df.diff_artikel, diff_df.diff_komm]]\n",
    "    ccf_dict = {}\n",
    "\n",
    "    for element in todo_diff:\n",
    "        a = element[0].name\n",
    "        b = element[1].name\n",
    "        x = element[0]\n",
    "        y = element[1]\n",
    "        z = statsmodels.tsa.stattools.ccf(x,y)\n",
    "        ccf_dict[str(a) + \"-\" + str(b)] = z\n",
    "\n",
    "    ccf_df = pd.DataFrame.from_dict(ccf_dict)\n",
    "    ccf_df.to_csv(\"cross_correlations_full.csv\", sep= \";\")\n",
    "    \n",
    "    ccf_df.plot()\n",
    "    sns.pairplot(diff_df)  \n",
    "    "
   ]
  },
  {
   "cell_type": "code",
   "execution_count": 14,
   "metadata": {},
   "outputs": [],
   "source": [
    "#FALLZAHLEN\n",
    "def fall(diff_df):\n",
    "    \n",
    "    fig, axs = plty.subplots(nrows = 2, sharey = True)\n",
    "    fig.suptitle('Kreuzkorrelation ∆Fallzahlen <-> ∆Artikelzahlen (oben), ∆Kommentarzahlen(unten)', fontsize=22)\n",
    "    fig.set_size_inches(20, 15)\n",
    "    \n",
    "    axs[0].xcorr(diff_df.diff_bag, \n",
    "                     diff_df.diff_artikel)    \n",
    "    axs[1].xcorr(diff_df.diff_bag, diff_df.diff_komm)\n",
    "\n",
    "\n",
    "\n",
    "#TODESZAHLEN\n",
    "def tod(diff_df):  \n",
    "    \n",
    "    fig, axs = plty.subplots(nrows = 2, sharey = True)\n",
    "    fig.suptitle('Kreuzkorrelation ∆Todeszahlen <-> ∆Artikelzahlen (oben), ∆Kommentarzahlen(unten)', fontsize=22)\n",
    "    fig.set_size_inches(20, 15)\n",
    "\n",
    "    axs[0].xcorr(diff_df.diff_tod, diff_df.diff_artikel)\n",
    "    axs[1].xcorr(diff_df.diff_tod, diff_df.diff_komm)\n",
    "    \n",
    "    \n",
    "#HOSPITALISIERUNGSZAHLEN\n",
    "def hosp(diff_df):\n",
    "    \n",
    "    fig, axs = plty.subplots(nrows = 2, sharey = True)\n",
    "    fig.suptitle('Kreuzkorrelation ∆Hospitalisierungszahlen <-> ∆Artikelzahlen (oben), ∆Kommentarzahlen(unten)', fontsize=22)\n",
    "    fig.set_size_inches(20, 15)\n",
    "\n",
    "    axs[0].xcorr(diff_df.diff_hosp, diff_df.diff_artikel)\n",
    "\n",
    "    axs[1].xcorr(diff_df.diff_hosp, diff_df.diff_komm)\n",
    "\n",
    "    \n",
    "    \n",
    "#ARTIKEL\n",
    "def art_komm(diff_df):\n",
    "    \n",
    "    \n",
    "    plt.pyplot.xcorr(diff_df.diff_artikel, diff_df.diff_komm)\n",
    "    plt.pyplot.title(\"Kreuzkorrelation ∆Artikelzahlen <-> ∆Kommentarzahlen\", fontsize=22)\n",
    "    "
   ]
  },
  {
   "cell_type": "code",
   "execution_count": 15,
   "metadata": {},
   "outputs": [],
   "source": [
    "def cor_shower(df):\n",
    "    \"\"\"\n",
    "    Shows all the crosscorrelation plots, based on the assumption that the columns in the dataframe need to be\n",
    "    differentiated once\n",
    "    \"\"\"\n",
    "    art_komm(differentiate(df))\n",
    "    fall(differentiate(df))\n",
    "    hosp(differentiate(df))\n",
    "    tod(differentiate(df))\n"
   ]
  },
  {
   "cell_type": "code",
   "execution_count": 16,
   "metadata": {},
   "outputs": [],
   "source": [
    "def lagger(x):\n",
    "    \n",
    "    \"\"\"\n",
    "    Get the number of lags.\n",
    "    We work here with the undifferentiated dataset!\n",
    "    \"\"\"\n",
    "    \n",
    "    \n",
    "    model = VAR(x)\n",
    "    darste = []\n",
    "    nummer = []\n",
    "    for i in [1,2,3,4,5,6,7,8,9,10, 11, 12]:\n",
    "        result = model.fit(i)\n",
    "        try:\n",
    "            #print('Lag Order =', i)\n",
    "            #print('AIC : ', result.aic)\n",
    "            \n",
    "            darste.append(result.aic)\n",
    "            nummer.append(i)\n",
    "    #        print('BIC : ', result.bic)\n",
    "     #       print('FPE : ', result.fpe)\n",
    "      #      print('HQIC: ', result.hqic, '\\n')\n",
    "        except:\n",
    "            print(nummer)\n",
    "            print(darste)\n",
    "            continue\n",
    "\n",
    "    plty.title(\"Akaike Information Criterion, indicating optimal lag\")\n",
    "    plty.plot(nummer, darste)\n",
    "    plty.grid(axis = 'x')"
   ]
  },
  {
   "cell_type": "code",
   "execution_count": 17,
   "metadata": {},
   "outputs": [],
   "source": [
    "def fitter(x_diff,y):    \n",
    "    \n",
    "    \"\"\"\n",
    "    input of this function = optimal number of lags as from lagger(x_diff)\n",
    "    \"\"\"\n",
    "    model = VAR(x_diff)\n",
    "    model_fitted = model.fit(y)\n",
    "    model_fitted\n",
    "\n",
    "\n",
    "    out = durbin_watson(model_fitted.resid)\n",
    "\n",
    "    \n",
    "    print(\"Serial Correlation of Residuals using Durbin Watson Statistic\")\n",
    "    for col, val in zip(x_diff.columns, out):\n",
    "        print(col, ':', round(val, 2))"
   ]
  },
  {
   "cell_type": "code",
   "execution_count": 18,
   "metadata": {},
   "outputs": [],
   "source": [
    "def grangers_causation_matrix(data, variables, test='ssr_chi2test', verbose=False):\n",
    "    \n",
    "    #https://rishi-a.github.io/2020/05/25/granger-causality.html\n",
    "    \n",
    "    \"\"\"Check Granger Causality of all possible combinations of the Time series.\n",
    "    The rows are the response variable, columns are predictors. The values in the table \n",
    "    are the P-Values. P-Values lesser than the significance level (0.05), implies \n",
    "    the Null Hypothesis that the coefficients of the corresponding past values is \n",
    "    zero, that is, the X does not cause Y can be rejected.\n",
    "\n",
    "    data      : pandas dataframe containing the time series variables\n",
    "    variables : list containing names of the time series variables.\n",
    "    \"\"\"\n",
    "    try:\n",
    "        df = pd.DataFrame(np.zeros((len(variables), len(variables))), columns=variables, index=variables)\n",
    "        for c in df.columns:\n",
    "            for r in df.index:\n",
    "                test_result = grangercausalitytests(data[[r, c]], maxlag=maxlag, verbose=False)\n",
    "                p_values = [round(test_result[i+1][0][test][1],4) for i in range(maxlag)]\n",
    "                if verbose: \n",
    "                    print(f'Y = {r}, X = {c}, P Values = {p_values}')\n",
    "                min_p_value = np.min(p_values)\n",
    "                df.loc[r, c] = min_p_value\n",
    "        df.columns = [var + '_x' for var in variables]\n",
    "        df.index = [var + '_y' for var in variables]\n",
    "        return df\n",
    "    \n",
    "    except InfeasibleTestError:\n",
    "        print(\"Please enlargen the dataset time frame window / include more months to get valuable insights.\")"
   ]
  },
  {
   "cell_type": "markdown",
   "metadata": {},
   "source": [
    "# Analysis\n",
    "\n",
    "We now get to the results. Below cell creates a timeframe according to your input in the top of this notebook.\n"
   ]
  },
  {
   "cell_type": "code",
   "execution_count": 19,
   "metadata": {},
   "outputs": [],
   "source": [
    "x = df_maker(\n",
    "    a,    #starting month\n",
    "    b    #ending month\n",
    ")\n",
    "\n",
    "y = df_maker(1,6)\n",
    "z = df_maker(7,12)"
   ]
  },
  {
   "cell_type": "markdown",
   "metadata": {},
   "source": [
    "## Key Figures\n",
    "\n",
    "Get key figures such as correlation and stationarity."
   ]
  },
  {
   "cell_type": "code",
   "execution_count": 20,
   "metadata": {},
   "outputs": [
    {
     "data": {
      "text/html": [
       "<div>\n",
       "<style scoped>\n",
       "    .dataframe tbody tr th:only-of-type {\n",
       "        vertical-align: middle;\n",
       "    }\n",
       "\n",
       "    .dataframe tbody tr th {\n",
       "        vertical-align: top;\n",
       "    }\n",
       "\n",
       "    .dataframe thead th {\n",
       "        text-align: right;\n",
       "    }\n",
       "</style>\n",
       "<table border=\"1\" class=\"dataframe\">\n",
       "  <thead>\n",
       "    <tr style=\"text-align: right;\">\n",
       "      <th></th>\n",
       "      <th>name</th>\n",
       "      <th>artikel_zahlen</th>\n",
       "      <th>kom_zahlen</th>\n",
       "      <th>bag_zahlen</th>\n",
       "      <th>hosp_zahlen</th>\n",
       "      <th>tod_zahlen</th>\n",
       "    </tr>\n",
       "  </thead>\n",
       "  <tbody>\n",
       "    <tr>\n",
       "      <th>0</th>\n",
       "      <td>shapiro-statistic</td>\n",
       "      <td>0.925207</td>\n",
       "      <td>0.955165</td>\n",
       "      <td>0.652114</td>\n",
       "      <td>0.718368</td>\n",
       "      <td>0.66503</td>\n",
       "    </tr>\n",
       "    <tr>\n",
       "      <th>1</th>\n",
       "      <td>shapiro-pvalue</td>\n",
       "      <td>0.002636</td>\n",
       "      <td>0.045048</td>\n",
       "      <td>0.0</td>\n",
       "      <td>0.0</td>\n",
       "      <td>0.0</td>\n",
       "    </tr>\n",
       "    <tr>\n",
       "      <th>0</th>\n",
       "      <td>adf-statistics</td>\n",
       "      <td>-1.767747</td>\n",
       "      <td>-2.430391</td>\n",
       "      <td>-1.629494</td>\n",
       "      <td>-1.885378</td>\n",
       "      <td>-3.723383</td>\n",
       "    </tr>\n",
       "    <tr>\n",
       "      <th>1</th>\n",
       "      <td>adf-pvalue</td>\n",
       "      <td>0.396588</td>\n",
       "      <td>0.133342</td>\n",
       "      <td>0.467756</td>\n",
       "      <td>0.338971</td>\n",
       "      <td>0.003796</td>\n",
       "    </tr>\n",
       "    <tr>\n",
       "      <th>2</th>\n",
       "      <td>adf-lags</td>\n",
       "      <td>0</td>\n",
       "      <td>0</td>\n",
       "      <td>3</td>\n",
       "      <td>2</td>\n",
       "      <td>6</td>\n",
       "    </tr>\n",
       "    <tr>\n",
       "      <th>3</th>\n",
       "      <td>adf-nobs</td>\n",
       "      <td>52</td>\n",
       "      <td>52</td>\n",
       "      <td>49</td>\n",
       "      <td>50</td>\n",
       "      <td>46</td>\n",
       "    </tr>\n",
       "    <tr>\n",
       "      <th>4</th>\n",
       "      <td>adf-critical-values</td>\n",
       "      <td>{'1%': -3.562878534649522, '5%': -2.9189732840...</td>\n",
       "      <td>{'1%': -3.562878534649522, '5%': -2.9189732840...</td>\n",
       "      <td>{'1%': -3.5714715250448363, '5%': -2.922629480...</td>\n",
       "      <td>{'1%': -3.568485864, '5%': -2.92135992, '10%':...</td>\n",
       "      <td>{'1%': -3.5812576580093696, '5%': -2.926784912...</td>\n",
       "    </tr>\n",
       "    <tr>\n",
       "      <th>0</th>\n",
       "      <td>kpss-statistics</td>\n",
       "      <td>0.093225</td>\n",
       "      <td>0.18726</td>\n",
       "      <td>0.378523</td>\n",
       "      <td>0.329161</td>\n",
       "      <td>0.311455</td>\n",
       "    </tr>\n",
       "    <tr>\n",
       "      <th>1</th>\n",
       "      <td>kpss-pvalue</td>\n",
       "      <td>0.1</td>\n",
       "      <td>0.1</td>\n",
       "      <td>0.086413</td>\n",
       "      <td>0.1</td>\n",
       "      <td>0.1</td>\n",
       "    </tr>\n",
       "    <tr>\n",
       "      <th>2</th>\n",
       "      <td>kpss-lags</td>\n",
       "      <td>11</td>\n",
       "      <td>11</td>\n",
       "      <td>11</td>\n",
       "      <td>11</td>\n",
       "      <td>11</td>\n",
       "    </tr>\n",
       "    <tr>\n",
       "      <th>3</th>\n",
       "      <td>kpss-critvalues</td>\n",
       "      <td>{'10%': 0.347, '5%': 0.463, '2.5%': 0.574, '1%...</td>\n",
       "      <td>{'10%': 0.347, '5%': 0.463, '2.5%': 0.574, '1%...</td>\n",
       "      <td>{'10%': 0.347, '5%': 0.463, '2.5%': 0.574, '1%...</td>\n",
       "      <td>{'10%': 0.347, '5%': 0.463, '2.5%': 0.574, '1%...</td>\n",
       "      <td>{'10%': 0.347, '5%': 0.463, '2.5%': 0.574, '1%...</td>\n",
       "    </tr>\n",
       "  </tbody>\n",
       "</table>\n",
       "</div>"
      ],
      "text/plain": [
       "                  name                                     artikel_zahlen  \\\n",
       "0    shapiro-statistic                                           0.925207   \n",
       "1       shapiro-pvalue                                           0.002636   \n",
       "0       adf-statistics                                          -1.767747   \n",
       "1           adf-pvalue                                           0.396588   \n",
       "2             adf-lags                                                  0   \n",
       "3             adf-nobs                                                 52   \n",
       "4  adf-critical-values  {'1%': -3.562878534649522, '5%': -2.9189732840...   \n",
       "0      kpss-statistics                                           0.093225   \n",
       "1          kpss-pvalue                                                0.1   \n",
       "2            kpss-lags                                                 11   \n",
       "3      kpss-critvalues  {'10%': 0.347, '5%': 0.463, '2.5%': 0.574, '1%...   \n",
       "\n",
       "                                          kom_zahlen  \\\n",
       "0                                           0.955165   \n",
       "1                                           0.045048   \n",
       "0                                          -2.430391   \n",
       "1                                           0.133342   \n",
       "2                                                  0   \n",
       "3                                                 52   \n",
       "4  {'1%': -3.562878534649522, '5%': -2.9189732840...   \n",
       "0                                            0.18726   \n",
       "1                                                0.1   \n",
       "2                                                 11   \n",
       "3  {'10%': 0.347, '5%': 0.463, '2.5%': 0.574, '1%...   \n",
       "\n",
       "                                          bag_zahlen  \\\n",
       "0                                           0.652114   \n",
       "1                                                0.0   \n",
       "0                                          -1.629494   \n",
       "1                                           0.467756   \n",
       "2                                                  3   \n",
       "3                                                 49   \n",
       "4  {'1%': -3.5714715250448363, '5%': -2.922629480...   \n",
       "0                                           0.378523   \n",
       "1                                           0.086413   \n",
       "2                                                 11   \n",
       "3  {'10%': 0.347, '5%': 0.463, '2.5%': 0.574, '1%...   \n",
       "\n",
       "                                         hosp_zahlen  \\\n",
       "0                                           0.718368   \n",
       "1                                                0.0   \n",
       "0                                          -1.885378   \n",
       "1                                           0.338971   \n",
       "2                                                  2   \n",
       "3                                                 50   \n",
       "4  {'1%': -3.568485864, '5%': -2.92135992, '10%':...   \n",
       "0                                           0.329161   \n",
       "1                                                0.1   \n",
       "2                                                 11   \n",
       "3  {'10%': 0.347, '5%': 0.463, '2.5%': 0.574, '1%...   \n",
       "\n",
       "                                          tod_zahlen  \n",
       "0                                            0.66503  \n",
       "1                                                0.0  \n",
       "0                                          -3.723383  \n",
       "1                                           0.003796  \n",
       "2                                                  6  \n",
       "3                                                 46  \n",
       "4  {'1%': -3.5812576580093696, '5%': -2.926784912...  \n",
       "0                                           0.311455  \n",
       "1                                                0.1  \n",
       "2                                                 11  \n",
       "3  {'10%': 0.347, '5%': 0.463, '2.5%': 0.574, '1%...  "
      ]
     },
     "execution_count": 20,
     "metadata": {},
     "output_type": "execute_result"
    }
   ],
   "source": [
    "x_sin = single_values(x)\n",
    "x_sin"
   ]
  },
  {
   "cell_type": "code",
   "execution_count": 21,
   "metadata": {},
   "outputs": [
    {
     "data": {
      "text/plain": [
       "<AxesSubplot:xlabel='tage'>"
      ]
     },
     "execution_count": 21,
     "metadata": {},
     "output_type": "execute_result"
    },
    {
     "data": {
      "image/png": "[encoded data removed]",
      "text/plain": [
       "<Figure size 432x288 with 1 Axes>"
      ]
     },
     "metadata": {
      "needs_background": "light"
     },
     "output_type": "display_data"
    }
   ],
   "source": [
    "x.plot()"
   ]
  },
  {
   "cell_type": "markdown",
   "metadata": {},
   "source": [
    "## Correlation\n",
    "\n",
    "We check the correlation of the time series of interest in terms of Pearson as well as Spearman."
   ]
  },
  {
   "cell_type": "code",
   "execution_count": 22,
   "metadata": {},
   "outputs": [
    {
     "data": {
      "text/html": [
       "<div>\n",
       "<style scoped>\n",
       "    .dataframe tbody tr th:only-of-type {\n",
       "        vertical-align: middle;\n",
       "    }\n",
       "\n",
       "    .dataframe tbody tr th {\n",
       "        vertical-align: top;\n",
       "    }\n",
       "\n",
       "    .dataframe thead th {\n",
       "        text-align: right;\n",
       "    }\n",
       "</style>\n",
       "<table border=\"1\" class=\"dataframe\">\n",
       "  <thead>\n",
       "    <tr style=\"text-align: right;\">\n",
       "      <th></th>\n",
       "      <th>name</th>\n",
       "      <th>(bag_zahlen, artikel_zahlen)</th>\n",
       "      <th>(bag_zahlen, kom_zahlen)</th>\n",
       "      <th>(tod_zahlen, artikel_zahlen)</th>\n",
       "      <th>(tod_zahlen, kom_zahlen)</th>\n",
       "      <th>(hosp_zahlen, artikel_zahlen)</th>\n",
       "      <th>(hosp_zahlen, kom_zahlen)</th>\n",
       "      <th>(artikel_zahlen, kom_zahlen)</th>\n",
       "    </tr>\n",
       "  </thead>\n",
       "  <tbody>\n",
       "    <tr>\n",
       "      <th>0</th>\n",
       "      <td>spearman-statistic</td>\n",
       "      <td>0.464633</td>\n",
       "      <td>0.669898</td>\n",
       "      <td>0.671422</td>\n",
       "      <td>0.836647</td>\n",
       "      <td>0.586366</td>\n",
       "      <td>0.719263</td>\n",
       "      <td>0.882819</td>\n",
       "    </tr>\n",
       "    <tr>\n",
       "      <th>1</th>\n",
       "      <td>spearman-pvalue</td>\n",
       "      <td>0.000457</td>\n",
       "      <td>0.000000</td>\n",
       "      <td>0.000000</td>\n",
       "      <td>0.000000</td>\n",
       "      <td>0.000004</td>\n",
       "      <td>0.000000</td>\n",
       "      <td>0.000000</td>\n",
       "    </tr>\n",
       "    <tr>\n",
       "      <th>2</th>\n",
       "      <td>pearson-tail1</td>\n",
       "      <td>0.14639</td>\n",
       "      <td>0.483997</td>\n",
       "      <td>0.343354</td>\n",
       "      <td>0.657334</td>\n",
       "      <td>0.376147</td>\n",
       "      <td>0.605504</td>\n",
       "      <td>0.80126</td>\n",
       "    </tr>\n",
       "    <tr>\n",
       "      <th>3</th>\n",
       "      <td>pearson-tail2</td>\n",
       "      <td>0.295573</td>\n",
       "      <td>0.000241</td>\n",
       "      <td>0.011833</td>\n",
       "      <td>0.0</td>\n",
       "      <td>0.005506</td>\n",
       "      <td>0.000002</td>\n",
       "      <td>0.0</td>\n",
       "    </tr>\n",
       "  </tbody>\n",
       "</table>\n",
       "</div>"
      ],
      "text/plain": [
       "                 name (bag_zahlen, artikel_zahlen) (bag_zahlen, kom_zahlen)  \\\n",
       "0  spearman-statistic                     0.464633                 0.669898   \n",
       "1     spearman-pvalue                     0.000457                 0.000000   \n",
       "2       pearson-tail1                      0.14639                 0.483997   \n",
       "3       pearson-tail2                     0.295573                 0.000241   \n",
       "\n",
       "  (tod_zahlen, artikel_zahlen) (tod_zahlen, kom_zahlen)  \\\n",
       "0                     0.671422                 0.836647   \n",
       "1                     0.000000                 0.000000   \n",
       "2                     0.343354                 0.657334   \n",
       "3                     0.011833                      0.0   \n",
       "\n",
       "  (hosp_zahlen, artikel_zahlen) (hosp_zahlen, kom_zahlen)  \\\n",
       "0                      0.586366                  0.719263   \n",
       "1                      0.000004                  0.000000   \n",
       "2                      0.376147                  0.605504   \n",
       "3                      0.005506                  0.000002   \n",
       "\n",
       "  (artikel_zahlen, kom_zahlen)  \n",
       "0                     0.882819  \n",
       "1                     0.000000  \n",
       "2                      0.80126  \n",
       "3                          0.0  "
      ]
     },
     "execution_count": 22,
     "metadata": {},
     "output_type": "execute_result"
    }
   ],
   "source": [
    "correlater(x)"
   ]
  },
  {
   "cell_type": "markdown",
   "metadata": {},
   "source": [
    "## Differentiating\n",
    "\n",
    "This step is done under the assumption that the previous step showed the input to be non-stationary and thus differentiates the time series."
   ]
  },
  {
   "cell_type": "code",
   "execution_count": 23,
   "metadata": {},
   "outputs": [],
   "source": [
    "x_diff = differentiate(x)"
   ]
  },
  {
   "cell_type": "markdown",
   "metadata": {},
   "source": [
    "## Retest for stationiarity\n",
    "\n",
    "We retest for stationarity - now with the freshly differentiated input."
   ]
  },
  {
   "cell_type": "code",
   "execution_count": 24,
   "metadata": {},
   "outputs": [
    {
     "data": {
      "text/html": [
       "<div>\n",
       "<style scoped>\n",
       "    .dataframe tbody tr th:only-of-type {\n",
       "        vertical-align: middle;\n",
       "    }\n",
       "\n",
       "    .dataframe tbody tr th {\n",
       "        vertical-align: top;\n",
       "    }\n",
       "\n",
       "    .dataframe thead th {\n",
       "        text-align: right;\n",
       "    }\n",
       "</style>\n",
       "<table border=\"1\" class=\"dataframe\">\n",
       "  <thead>\n",
       "    <tr style=\"text-align: right;\">\n",
       "      <th></th>\n",
       "      <th>name</th>\n",
       "      <th>diff_artikel</th>\n",
       "      <th>diff_komm</th>\n",
       "      <th>diff_bag</th>\n",
       "      <th>diff_tod</th>\n",
       "      <th>diff_hosp</th>\n",
       "    </tr>\n",
       "  </thead>\n",
       "  <tbody>\n",
       "    <tr>\n",
       "      <th>0</th>\n",
       "      <td>adf-statistics-diff</td>\n",
       "      <td>-4.726512</td>\n",
       "      <td>-8.042276</td>\n",
       "      <td>-3.546431</td>\n",
       "      <td>-3.106367</td>\n",
       "      <td>-4.372848</td>\n",
       "    </tr>\n",
       "    <tr>\n",
       "      <th>1</th>\n",
       "      <td>adf-pvalue-diff</td>\n",
       "      <td>0.000075</td>\n",
       "      <td>0.0</td>\n",
       "      <td>0.006872</td>\n",
       "      <td>0.026086</td>\n",
       "      <td>0.000331</td>\n",
       "    </tr>\n",
       "    <tr>\n",
       "      <th>2</th>\n",
       "      <td>adf-lags-diff</td>\n",
       "      <td>0</td>\n",
       "      <td>0</td>\n",
       "      <td>2</td>\n",
       "      <td>1</td>\n",
       "      <td>1</td>\n",
       "    </tr>\n",
       "    <tr>\n",
       "      <th>3</th>\n",
       "      <td>adf-nobs-diff</td>\n",
       "      <td>51</td>\n",
       "      <td>51</td>\n",
       "      <td>49</td>\n",
       "      <td>50</td>\n",
       "      <td>50</td>\n",
       "    </tr>\n",
       "    <tr>\n",
       "      <th>4</th>\n",
       "      <td>adf-critical-values-diff</td>\n",
       "      <td>{'1%': -3.5656240522121956, '5%': -2.920142229...</td>\n",
       "      <td>{'1%': -3.5656240522121956, '5%': -2.920142229...</td>\n",
       "      <td>{'1%': -3.5714715250448363, '5%': -2.922629480...</td>\n",
       "      <td>{'1%': -3.568485864, '5%': -2.92135992, '10%':...</td>\n",
       "      <td>{'1%': -3.568485864, '5%': -2.92135992, '10%':...</td>\n",
       "    </tr>\n",
       "    <tr>\n",
       "      <th>0</th>\n",
       "      <td>kpss-statistics-diff</td>\n",
       "      <td>0.16544</td>\n",
       "      <td>0.128062</td>\n",
       "      <td>0.099921</td>\n",
       "      <td>0.099289</td>\n",
       "      <td>0.094257</td>\n",
       "    </tr>\n",
       "    <tr>\n",
       "      <th>1</th>\n",
       "      <td>kpss-pvalue-diff</td>\n",
       "      <td>0.1</td>\n",
       "      <td>0.1</td>\n",
       "      <td>0.1</td>\n",
       "      <td>0.1</td>\n",
       "      <td>0.1</td>\n",
       "    </tr>\n",
       "    <tr>\n",
       "      <th>2</th>\n",
       "      <td>kpss-lags-diff</td>\n",
       "      <td>11</td>\n",
       "      <td>11</td>\n",
       "      <td>11</td>\n",
       "      <td>11</td>\n",
       "      <td>11</td>\n",
       "    </tr>\n",
       "    <tr>\n",
       "      <th>3</th>\n",
       "      <td>kpss-critvalues-diff</td>\n",
       "      <td>{'10%': 0.347, '5%': 0.463, '2.5%': 0.574, '1%...</td>\n",
       "      <td>{'10%': 0.347, '5%': 0.463, '2.5%': 0.574, '1%...</td>\n",
       "      <td>{'10%': 0.347, '5%': 0.463, '2.5%': 0.574, '1%...</td>\n",
       "      <td>{'10%': 0.347, '5%': 0.463, '2.5%': 0.574, '1%...</td>\n",
       "      <td>{'10%': 0.347, '5%': 0.463, '2.5%': 0.574, '1%...</td>\n",
       "    </tr>\n",
       "  </tbody>\n",
       "</table>\n",
       "</div>"
      ],
      "text/plain": [
       "                       name  \\\n",
       "0       adf-statistics-diff   \n",
       "1           adf-pvalue-diff   \n",
       "2             adf-lags-diff   \n",
       "3             adf-nobs-diff   \n",
       "4  adf-critical-values-diff   \n",
       "0      kpss-statistics-diff   \n",
       "1          kpss-pvalue-diff   \n",
       "2            kpss-lags-diff   \n",
       "3      kpss-critvalues-diff   \n",
       "\n",
       "                                        diff_artikel  \\\n",
       "0                                          -4.726512   \n",
       "1                                           0.000075   \n",
       "2                                                  0   \n",
       "3                                                 51   \n",
       "4  {'1%': -3.5656240522121956, '5%': -2.920142229...   \n",
       "0                                            0.16544   \n",
       "1                                                0.1   \n",
       "2                                                 11   \n",
       "3  {'10%': 0.347, '5%': 0.463, '2.5%': 0.574, '1%...   \n",
       "\n",
       "                                           diff_komm  \\\n",
       "0                                          -8.042276   \n",
       "1                                                0.0   \n",
       "2                                                  0   \n",
       "3                                                 51   \n",
       "4  {'1%': -3.5656240522121956, '5%': -2.920142229...   \n",
       "0                                           0.128062   \n",
       "1                                                0.1   \n",
       "2                                                 11   \n",
       "3  {'10%': 0.347, '5%': 0.463, '2.5%': 0.574, '1%...   \n",
       "\n",
       "                                            diff_bag  \\\n",
       "0                                          -3.546431   \n",
       "1                                           0.006872   \n",
       "2                                                  2   \n",
       "3                                                 49   \n",
       "4  {'1%': -3.5714715250448363, '5%': -2.922629480...   \n",
       "0                                           0.099921   \n",
       "1                                                0.1   \n",
       "2                                                 11   \n",
       "3  {'10%': 0.347, '5%': 0.463, '2.5%': 0.574, '1%...   \n",
       "\n",
       "                                            diff_tod  \\\n",
       "0                                          -3.106367   \n",
       "1                                           0.026086   \n",
       "2                                                  1   \n",
       "3                                                 50   \n",
       "4  {'1%': -3.568485864, '5%': -2.92135992, '10%':...   \n",
       "0                                           0.099289   \n",
       "1                                                0.1   \n",
       "2                                                 11   \n",
       "3  {'10%': 0.347, '5%': 0.463, '2.5%': 0.574, '1%...   \n",
       "\n",
       "                                           diff_hosp  \n",
       "0                                          -4.372848  \n",
       "1                                           0.000331  \n",
       "2                                                  1  \n",
       "3                                                 50  \n",
       "4  {'1%': -3.568485864, '5%': -2.92135992, '10%':...  \n",
       "0                                           0.094257  \n",
       "1                                                0.1  \n",
       "2                                                 11  \n",
       "3  {'10%': 0.347, '5%': 0.463, '2.5%': 0.574, '1%...  "
      ]
     },
     "execution_count": 24,
     "metadata": {},
     "output_type": "execute_result"
    }
   ],
   "source": [
    "difference_tester(x_diff)"
   ]
  },
  {
   "cell_type": "code",
   "execution_count": 25,
   "metadata": {},
   "outputs": [
    {
     "data": {
      "text/plain": [
       "<AxesSubplot:>"
      ]
     },
     "execution_count": 25,
     "metadata": {},
     "output_type": "execute_result"
    },
    {
     "data": {
      "image/png": "[encoded data removed]",
      "text/plain": [
       "<Figure size 432x288 with 1 Axes>"
      ]
     },
     "metadata": {
      "needs_background": "light"
     },
     "output_type": "display_data"
    }
   ],
   "source": [
    "x_diff.plot()"
   ]
  },
  {
   "cell_type": "markdown",
   "metadata": {},
   "source": [
    "## Autocorrelation\n",
    "\n",
    "We check whether the time series correlate with themselves."
   ]
  },
  {
   "cell_type": "code",
   "execution_count": 26,
   "metadata": {
    "scrolled": false
   },
   "outputs": [
    {
     "data": {
      "image/png": "[encoded data removed]",
      "text/plain": [
       "<Figure size 792x576 with 1 Axes>"
      ]
     },
     "metadata": {
      "needs_background": "light"
     },
     "output_type": "display_data"
    },
    {
     "data": {
      "image/png": "[encoded data removed]",
      "text/plain": [
       "<Figure size 792x576 with 1 Axes>"
      ]
     },
     "metadata": {
      "needs_background": "light"
     },
     "output_type": "display_data"
    },
    {
     "data": {
      "image/png": "[encoded data removed]",
      "text/plain": [
       "<Figure size 792x576 with 1 Axes>"
      ]
     },
     "metadata": {
      "needs_background": "light"
     },
     "output_type": "display_data"
    },
    {
     "data": {
      "image/png": "[encoded data removed]",
      "text/plain": [
       "<Figure size 792x576 with 1 Axes>"
      ]
     },
     "metadata": {
      "needs_background": "light"
     },
     "output_type": "display_data"
    },
    {
     "data": {
      "image/png": "[encoded data removed]",
      "text/plain": [
       "<Figure size 792x576 with 1 Axes>"
      ]
     },
     "metadata": {
      "needs_background": "light"
     },
     "output_type": "display_data"
    }
   ],
   "source": [
    "acf_maker(x_diff)"
   ]
  },
  {
   "cell_type": "markdown",
   "metadata": {},
   "source": [
    "## Partial Autocorrelation"
   ]
  },
  {
   "cell_type": "code",
   "execution_count": 27,
   "metadata": {
    "scrolled": false
   },
   "outputs": [
    {
     "data": {
      "image/png": "[encoded data removed]",
      "text/plain": [
       "<Figure size 432x288 with 1 Axes>"
      ]
     },
     "metadata": {
      "needs_background": "light"
     },
     "output_type": "display_data"
    },
    {
     "data": {
      "image/png": "[encoded data removed]",
      "text/plain": [
       "<Figure size 432x288 with 1 Axes>"
      ]
     },
     "metadata": {
      "needs_background": "light"
     },
     "output_type": "display_data"
    },
    {
     "data": {
      "image/png": "[encoded data removed]",
      "text/plain": [
       "<Figure size 432x288 with 1 Axes>"
      ]
     },
     "metadata": {
      "needs_background": "light"
     },
     "output_type": "display_data"
    },
    {
     "data": {
      "image/png": "[encoded data removed]",
      "text/plain": [
       "<Figure size 432x288 with 1 Axes>"
      ]
     },
     "metadata": {
      "needs_background": "light"
     },
     "output_type": "display_data"
    },
    {
     "data": {
      "image/png": "[encoded data removed]",
      "text/plain": [
       "<Figure size 432x288 with 1 Axes>"
      ]
     },
     "metadata": {
      "needs_background": "light"
     },
     "output_type": "display_data"
    }
   ],
   "source": [
    "pacf_maker(x_diff)"
   ]
  },
  {
   "cell_type": "markdown",
   "metadata": {},
   "source": [
    "## Cross Correlation"
   ]
  },
  {
   "cell_type": "code",
   "execution_count": 28,
   "metadata": {
    "scrolled": false
   },
   "outputs": [
    {
     "data": {
      "image/png": "[encoded data removed]",
      "text/plain": [
       "<Figure size 432x288 with 1 Axes>"
      ]
     },
     "metadata": {
      "needs_background": "light"
     },
     "output_type": "display_data"
    },
    {
     "data": {
      "image/png": "[encoded data removed]",
      "text/plain": [
       "<Figure size 1440x1080 with 2 Axes>"
      ]
     },
     "metadata": {
      "needs_background": "light"
     },
     "output_type": "display_data"
    },
    {
     "data": {
      "image/png": "[encoded data removed]",
      "text/plain": [
       "<Figure size 1440x1080 with 2 Axes>"
      ]
     },
     "metadata": {
      "needs_background": "light"
     },
     "output_type": "display_data"
    },
    {
     "data": {
      "image/png": "[encoded data removed]",
      "text/plain": [
       "<Figure size 1440x1080 with 2 Axes>"
      ]
     },
     "metadata": {
      "needs_background": "light"
     },
     "output_type": "display_data"
    }
   ],
   "source": [
    "cor_shower(x)"
   ]
  },
  {
   "cell_type": "markdown",
   "metadata": {},
   "source": [
    "## Granger Causality\n",
    "\n",
    "#### Getting the number of lags"
   ]
  },
  {
   "cell_type": "code",
   "execution_count": 29,
   "metadata": {},
   "outputs": [
    {
     "name": "stdout",
     "output_type": "stream",
     "text": [
      "[1, 2, 3]\n",
      "[49.059736466654755, 48.10476886581817, 45.234880604131966]\n"
     ]
    },
    {
     "data": {
      "image/png": "[encoded data removed]",
      "text/plain": [
       "<Figure size 432x288 with 1 Axes>"
      ]
     },
     "metadata": {
      "needs_background": "light"
     },
     "output_type": "display_data"
    }
   ],
   "source": [
    "lagger(z)"
   ]
  },
  {
   "cell_type": "code",
   "execution_count": 30,
   "metadata": {},
   "outputs": [
    {
     "name": "stdout",
     "output_type": "stream",
     "text": [
      "Serial Correlation of Residuals using Durbin Watson Statistic\n",
      "diff_artikel : 2.01\n",
      "diff_komm : 2.17\n",
      "diff_bag : 2.18\n",
      "diff_tod : 1.96\n",
      "diff_hosp : 1.87\n"
     ]
    }
   ],
   "source": [
    "maxlag = 5                       #basing on the plot and the elbow from lagger(x_diff), we take 9 (in the example). \n",
    "fitter(x_diff, maxlag)            #In case the plot shows something different to you, use this number"
   ]
  },
  {
   "cell_type": "markdown",
   "metadata": {},
   "source": [
    "#### Actual Granger Causality"
   ]
  },
  {
   "cell_type": "code",
   "execution_count": 31,
   "metadata": {},
   "outputs": [
    {
     "data": {
      "text/html": [
       "<div>\n",
       "<style scoped>\n",
       "    .dataframe tbody tr th:only-of-type {\n",
       "        vertical-align: middle;\n",
       "    }\n",
       "\n",
       "    .dataframe tbody tr th {\n",
       "        vertical-align: top;\n",
       "    }\n",
       "\n",
       "    .dataframe thead th {\n",
       "        text-align: right;\n",
       "    }\n",
       "</style>\n",
       "<table border=\"1\" class=\"dataframe\">\n",
       "  <thead>\n",
       "    <tr style=\"text-align: right;\">\n",
       "      <th></th>\n",
       "      <th>diff_artikel_x</th>\n",
       "      <th>diff_komm_x</th>\n",
       "      <th>diff_bag_x</th>\n",
       "      <th>diff_tod_x</th>\n",
       "      <th>diff_hosp_x</th>\n",
       "    </tr>\n",
       "  </thead>\n",
       "  <tbody>\n",
       "    <tr>\n",
       "      <th>diff_artikel_y</th>\n",
       "      <td>1.0000</td>\n",
       "      <td>0.1653</td>\n",
       "      <td>0.0452</td>\n",
       "      <td>0.1075</td>\n",
       "      <td>0.0021</td>\n",
       "    </tr>\n",
       "    <tr>\n",
       "      <th>diff_komm_y</th>\n",
       "      <td>0.0340</td>\n",
       "      <td>1.0000</td>\n",
       "      <td>0.0093</td>\n",
       "      <td>0.4617</td>\n",
       "      <td>0.0002</td>\n",
       "    </tr>\n",
       "    <tr>\n",
       "      <th>diff_bag_y</th>\n",
       "      <td>0.0224</td>\n",
       "      <td>0.3116</td>\n",
       "      <td>1.0000</td>\n",
       "      <td>0.0001</td>\n",
       "      <td>0.5308</td>\n",
       "    </tr>\n",
       "    <tr>\n",
       "      <th>diff_tod_y</th>\n",
       "      <td>0.0000</td>\n",
       "      <td>0.0000</td>\n",
       "      <td>0.0000</td>\n",
       "      <td>1.0000</td>\n",
       "      <td>0.0000</td>\n",
       "    </tr>\n",
       "    <tr>\n",
       "      <th>diff_hosp_y</th>\n",
       "      <td>0.0117</td>\n",
       "      <td>0.0151</td>\n",
       "      <td>0.0016</td>\n",
       "      <td>0.0066</td>\n",
       "      <td>1.0000</td>\n",
       "    </tr>\n",
       "  </tbody>\n",
       "</table>\n",
       "</div>"
      ],
      "text/plain": [
       "                diff_artikel_x  diff_komm_x  diff_bag_x  diff_tod_x  \\\n",
       "diff_artikel_y          1.0000       0.1653      0.0452      0.1075   \n",
       "diff_komm_y             0.0340       1.0000      0.0093      0.4617   \n",
       "diff_bag_y              0.0224       0.3116      1.0000      0.0001   \n",
       "diff_tod_y              0.0000       0.0000      0.0000      1.0000   \n",
       "diff_hosp_y             0.0117       0.0151      0.0016      0.0066   \n",
       "\n",
       "                diff_hosp_x  \n",
       "diff_artikel_y       0.0021  \n",
       "diff_komm_y          0.0002  \n",
       "diff_bag_y           0.5308  \n",
       "diff_tod_y           0.0000  \n",
       "diff_hosp_y          1.0000  "
      ]
     },
     "execution_count": 31,
     "metadata": {},
     "output_type": "execute_result"
    }
   ],
   "source": [
    "o = grangers_causation_matrix(x_diff, variables = x_diff.columns)  \n",
    "o"
   ]
  },
  {
   "cell_type": "markdown",
   "metadata": {},
   "source": [
    "# "
   ]
  },
  {
   "cell_type": "code",
   "execution_count": null,
   "metadata": {},
   "outputs": [],
   "source": []
  }
 ],
 "metadata": {
  "kernelspec": {
   "display_name": "Python 3",
   "language": "python",
   "name": "python3"
  },
  "language_info": {
   "codemirror_mode": {
    "name": "ipython",
    "version": 3
   },
   "file_extension": ".py",
   "mimetype": "text/x-python",
   "name": "python",
   "nbconvert_exporter": "python",
   "pygments_lexer": "ipython3",
   "version": "3.7.3"
  }
 },
 "nbformat": 4,
 "nbformat_minor": 4
}
