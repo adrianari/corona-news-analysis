{
 "cells": [
  {
   "cell_type": "code",
   "execution_count": 1,
   "metadata": {},
   "outputs": [],
   "source": [
    "#importing libraries\n",
    "import statsmodels.tsa.stattools\n",
    "import statsmodels.graphics.tsaplots\n",
    "from statsmodels.tsa.api import VAR\n",
    "from statsmodels.tsa.stattools import grangercausalitytests\n",
    "from statsmodels.stats.stattools import durbin_watson\n",
    "import scipy.stats\n",
    "import pandas as pd\n",
    "import numpy as np\n",
    "import scipy.signal\n",
    "import seaborn as sns\n",
    "import matplotlib as plt\n",
    "import matplotlib.pyplot as plty"
   ]
  },
  {
   "cell_type": "code",
   "execution_count": 2,
   "metadata": {},
   "outputs": [],
   "source": [
    "#if this is the first time running the script, please let the next two lines commented to make sure the code works.\n",
    "#If the code runs, please feel free to uncomment and let the code rerun to ignore any warnings\n",
    "\n",
    "import warnings\n",
    "warnings.filterwarnings('ignore')"
   ]
  },
  {
   "cell_type": "markdown",
   "metadata": {},
   "source": [
    "# Get Time Frame\n",
    "\n",
    "Indicate below the range of months you are interested in. \n",
    "\n",
    "<b> Important </b> <br>\n",
    "<ul> \n",
    "<li> indicate the month indication in a non Python-way <br>\n",
    "    Code has been created in such a way that input will be interpreted as such. If you are interested in the entire year, do not put df_maker(1,13) (as you would do in a Python way) but df_maker(1,12). The code will understand.\n",
    "    <p>\n",
    "<li> code is implemented as range <br>\n",
    "    If you are interested in single months, you will need to establish two variables with single range.\n",
    "    Example: <br>\n",
    "    january = df_maker(1,1) <br>\n",
    "    august = df_maker(8,8) <br>\n",
    "    Kindly note that in this case, code will need to be run for each variable\n",
    "    <p>\n",
    "<li> comparison needs to be done manually <br>\n",
    "    if you are interested in comparing two different time frames, you will need to this manually\n",
    "    \n",
    "</ul>\n",
    "    \n",
    "<br>\n",
    "\n",
    "<b> Examples </b> <br>\n",
    "1,12 = entire year (January to December)<br>\n",
    "1,6 = first wave (January to June) <br>\n",
    "7, 12 = second wave (July to December) <br>\n",
    "3,5 = March to May<br>\n"
   ]
  },
  {
   "cell_type": "code",
   "execution_count": 3,
   "metadata": {},
   "outputs": [
    {
     "name": "stdout",
     "output_type": "stream",
     "text": [
      "Please enter the starting month as a full number. (E.g. for January = 1)1\n",
      "Please enter the ending month as a full number. (E.g. for December = 12)12\n"
     ]
    }
   ],
   "source": [
    "a = input(\"Please enter the starting month as a full number. (E.g. for January = 1)\")\n",
    "b = input(\"Please enter the ending month as a full number. (E.g. for December = 12)\")\n",
    "\n",
    "a = int(a)\n",
    "b = int(b)"
   ]
  },
  {
   "cell_type": "markdown",
   "metadata": {},
   "source": [
    "# Set Up / Establishing Functions\n",
    "\n",
    "Below, functions and other parts for the code are established. No need to change anything, just let the cells run."
   ]
  },
  {
   "cell_type": "code",
   "execution_count": 4,
   "metadata": {},
   "outputs": [],
   "source": [
    "#read in data and data cleaning\n",
    "df = pd.read_csv(\"zeitreihe.csv\", delimiter = \",\")\n",
    "df = df.set_index(\"tage\")\n",
    "df = df.rename(columns = {\"0\": \"artikel_zahlen\", \n",
    "                          \"0_kom\" : \"kom_zahlen\", \n",
    "                          \"entries_fall\": \"bag_zahlen\", \n",
    "                          \"entries_hosp\" : \"hosp_zahlen\",\n",
    "                          \"entries_tod\": \"tod_zahlen\"})\n",
    "df = df.fillna(0)\n",
    "df = df.reset_index()\n",
    "df[\"month\"] = pd.to_datetime(df[\"tage\"]).dt.month"
   ]
  },
  {
   "cell_type": "code",
   "execution_count": 5,
   "metadata": {},
   "outputs": [],
   "source": [
    "def df_maker(a,b):\n",
    "    \"\"\"\n",
    "    Creates the df based on the month range of interest\n",
    "    \"\"\"\n",
    "    months_of_interest = [x for x in range(a,b+1)]\n",
    "\n",
    "    df1 = df[df[\"month\"].isin(months_of_interest)].set_index(\"tage\").drop([\"month\"], axis = 1)\n",
    "    return df1"
   ]
  },
  {
   "cell_type": "code",
   "execution_count": 6,
   "metadata": {},
   "outputs": [],
   "source": [
    "def single_values(df): \n",
    "    \n",
    "    \"\"\"\n",
    "    Calculates the metrics for the undifferentiated dataset.\n",
    "    \"\"\"\n",
    "    \n",
    "    #shapiro\n",
    "    shapiro_dict = {\"name\" : [\"shapiro-statistic\", \"shapiro-pvalue\"]}\n",
    "    for column in df:\n",
    "        x = column\n",
    "        y = scipy.stats.shapiro(df[column])\n",
    "        shapiro_dict[x] = [y.statistic, y.pvalue]\n",
    "\n",
    "    shapiro_df = pd.DataFrame.from_dict(shapiro_dict)\n",
    "    main_df = shapiro_df\n",
    "    \n",
    "    \n",
    "    #test for stationarity via Augmented Dicky Fuller\n",
    "\n",
    "    adf_dict = {\"name\" : [\"adf-statistics\", \"adf-pvalue\", \"adf-lags\", \"adf-nobs\", \"adf-critical-values\"]}\n",
    "    for column in df:\n",
    "        x = column\n",
    "        y = statsmodels.tsa.stattools.adfuller(df[column])\n",
    "        adf_dict[x] = [y[0], y[1], y[2], y[3], y[4]]\n",
    "\n",
    "    adf_df = pd.DataFrame.from_dict(adf_dict)\n",
    "    main_df = main_df.append(adf_df)\n",
    "    \n",
    "    #test for stationarity via KPSS\n",
    "    kpss_dict = {\"name\" : [\"kpss-statistics\", \"kpss-pvalue\", \"kpss-lags\", \"kpss-critvalues\"]}\n",
    "    for column in df:\n",
    "        x = column\n",
    "        y = statsmodels.tsa.stattools.kpss(df[column])\n",
    "        kpss_dict[x] = [y[0], y[1], y[2], y[3]]\n",
    "\n",
    "    kpss_df = pd.DataFrame.from_dict(kpss_dict)\n",
    "    main_df = main_df.append(kpss_df)\n",
    "    return main_df"
   ]
  },
  {
   "cell_type": "code",
   "execution_count": 7,
   "metadata": {},
   "outputs": [],
   "source": [
    "def correlater(df):\n",
    "\n",
    "    #Spearman correlation\n",
    "\n",
    "    todo = [[df.bag_zahlen, df.artikel_zahlen], [df.bag_zahlen, df.kom_zahlen], \n",
    "            [df.tod_zahlen, df.artikel_zahlen], [df.tod_zahlen, df.kom_zahlen],\n",
    "            [df.hosp_zahlen, df.artikel_zahlen], [df.hosp_zahlen, df.kom_zahlen],\n",
    "            [df.artikel_zahlen, df.kom_zahlen]]\n",
    "    cor_dict = {\"name\" : [\"spearman-statistic\", \"spearman-pvalue\"]}\n",
    "\n",
    "    for element in todo:\n",
    "        a = element[0].name\n",
    "        b = element[1].name\n",
    "        x = element[0]\n",
    "        y = element[1]\n",
    "        z = scipy.stats.spearmanr(x,y)\n",
    "        cor_dict[(a, b)] = [\"{:.6f}\".format(float(z.correlation)), \"{:.6f}\".format(float(z.pvalue))]\n",
    "\n",
    "    cor_df = pd.DataFrame.from_dict(cor_dict)\n",
    "    \n",
    "    \n",
    "    #just for fun we check pearson nonetheless\n",
    "\n",
    "    pearson_dict = {\"name\" : [\"pearson-tail1\", \"pearson-tail2\"]}\n",
    "\n",
    "    for element in todo:\n",
    "        a = element[0].name\n",
    "        b = element[1].name\n",
    "        x = element[0]\n",
    "        y = element[1]\n",
    "        z = scipy.stats.pearsonr(x,y)\n",
    "        pearson_dict[(a, b)] = z\n",
    "\n",
    "    pearson_df = pd.DataFrame.from_dict(pearson_dict)\n",
    "    cor_df = cor_df.append(pearson_df)\n",
    "    cor_df = cor_df.reset_index()\n",
    "    cor_df = cor_df.drop(columns = \"index\")\n",
    "    return cor_df"
   ]
  },
  {
   "cell_type": "code",
   "execution_count": 8,
   "metadata": {},
   "outputs": [],
   "source": [
    "#diffentiating \n",
    "\n",
    "def differentiate(df):\n",
    "    \"\"\"\n",
    "    Differentiates all columns in the dataframe\n",
    "    \"\"\"\n",
    "\n",
    "    diff_bag = np.diff(df[\"bag_zahlen\"])\n",
    "    diff_artikel = np.diff(df.artikel_zahlen)\n",
    "    diff_kom = np.diff(df.kom_zahlen)\n",
    "    diff_tod = np.diff(df.tod_zahlen)\n",
    "    diff_hosp = np.diff(df.hosp_zahlen)\n",
    "\n",
    "\n",
    "\n",
    "    diff_df = pd.DataFrame(data = [diff_artikel, diff_kom, diff_bag, diff_tod, diff_hosp])\n",
    "    diff_df = diff_df.transpose()\n",
    "    diff_df = diff_df.rename(columns = {0:\"diff_artikel\", 1:\"diff_komm\", 2:\"diff_bag\", 3:\"diff_tod\", 4:\"diff_hosp\"})\n",
    "\n",
    "    for x in diff_df:\n",
    "        diff_df[x] = diff_df[x].astype(float)\n",
    "    \n",
    "    return diff_df\n"
   ]
  },
  {
   "cell_type": "code",
   "execution_count": 9,
   "metadata": {},
   "outputs": [],
   "source": [
    "def difference_tester(diff_df):\n",
    "    \"\"\"\n",
    "    Tests a (differentiated) dataframe for stationarity only. (Without the correlation etc. from the previous function)\n",
    "    \"\"\"\n",
    "    #retesting for stationarity (ADF)\n",
    "    diff_adf_dict = {\"name\" : [\"adf-statistics-diff\", \"adf-pvalue-diff\", \"adf-lags-diff\", \"adf-nobs-diff\", \"adf-critical-values-diff\"]}\n",
    "    for column in diff_df:\n",
    "        x = column\n",
    "        y = statsmodels.tsa.stattools.adfuller(diff_df[column])\n",
    "        diff_adf_dict[x] = [y[0], y[1], y[2], y[3], y[4]]\n",
    "\n",
    "    diff_adf_df = pd.DataFrame.from_dict(diff_adf_dict)\n",
    "    diff_main_df = diff_adf_df\n",
    "    \n",
    "    #test for stationarity via KPSS\n",
    "    diff_kpss_dict = {\"name\" : [\"kpss-statistics-diff\", \"kpss-pvalue-diff\", \"kpss-lags-diff\", \"kpss-critvalues-diff\"]}\n",
    "    for column in diff_df:\n",
    "        x = column\n",
    "        y = statsmodels.tsa.stattools.kpss(diff_df[column])\n",
    "        diff_kpss_dict[x] = [y[0], y[1], y[2], y[3]]\n",
    "\n",
    "    diff_kpss_df = pd.DataFrame.from_dict(diff_kpss_dict)\n",
    "    diff_main_df = diff_main_df.append(diff_kpss_df)\n",
    "    \n",
    "    return diff_main_df"
   ]
  },
  {
   "cell_type": "code",
   "execution_count": 10,
   "metadata": {},
   "outputs": [],
   "source": [
    "def acf_maker(x_diff):\n",
    "    \"\"\"\n",
    "    Shows the auto-correlation of the single time series.\n",
    "    \"\"\"\n",
    "    \n",
    "    acf_list = [x_diff.diff_bag, x_diff.diff_artikel, x_diff.diff_komm, x_diff.diff_tod, x_diff.diff_hosp]\n",
    "\n",
    "    for y in acf_list:\n",
    "        fig, ax2 = plty.subplots(1, 1)\n",
    "        ax2.acorr(y, usevlines=True, normed=True, maxlags=28, lw=2)\n",
    "        try:\n",
    "            fig.suptitle(str(y.name))\n",
    "        except AttributeError:\n",
    "            fig.suptitle(\"BAG Diff Diff\")\n",
    "        ax2.grid(True)\n",
    "\n",
    "        plty.show()"
   ]
  },
  {
   "cell_type": "code",
   "execution_count": 11,
   "metadata": {},
   "outputs": [],
   "source": [
    "def pacf_maker(x_diff):\n",
    "    \"\"\"\n",
    "    Shows the partial auto-correlation of the single time series.\n",
    "    \"\"\"\n",
    "    \n",
    "    pacf_list = [x_diff.diff_bag, x_diff.diff_artikel, x_diff.diff_komm, x_diff.diff_tod, x_diff.diff_hosp]\n",
    "\n",
    "    for y in pacf_list:\n",
    "        statsmodels.graphics.tsaplots.plot_pacf(y, title = \"Partial Autocorrelation - \" + str(y.name))\n",
    "    "
   ]
  },
  {
   "cell_type": "code",
   "execution_count": 12,
   "metadata": {},
   "outputs": [],
   "source": [
    "def cross_correlate(diff_df):\n",
    "    \n",
    "    \"\"\"\n",
    "    OPTIONAL TO GET MORE INSIGHT.\n",
    "    Get the crosscorrelation.\n",
    "    Input should be a stationary dataframe.\n",
    "    \n",
    "    Visualizes the different crosscorrelations in one illustration as well as makes a pairplot of the columns as descirbed here\n",
    "    https://towardsdatascience.com/visualizing-data-with-pair-plots-in-python-f228cf529166\n",
    "    \"\"\"\n",
    "    \n",
    "    #Cross correlation\n",
    "\n",
    "    todo_diff = [[diff_df.diff_bag, diff_df.diff_artikel], [diff_df.diff_bag, diff_df.diff_komm], \n",
    "                 [diff_df.diff_tod, diff_df.diff_artikel], [diff_df.diff_tod, diff_df.diff_komm],\n",
    "                 [diff_df.diff_hosp, diff_df.diff_artikel],  [diff_df.diff_hosp,diff_df.diff_komm],\n",
    "                 [diff_df.diff_artikel, diff_df.diff_komm]]\n",
    "    ccf_dict = {}\n",
    "\n",
    "    for element in todo_diff:\n",
    "        a = element[0].name\n",
    "        b = element[1].name\n",
    "        x = element[0]\n",
    "        y = element[1]\n",
    "        z = statsmodels.tsa.stattools.ccf(x,y)\n",
    "        ccf_dict[str(a) + \"-\" + str(b)] = z\n",
    "\n",
    "    ccf_df = pd.DataFrame.from_dict(ccf_dict)\n",
    "    ccf_df.to_csv(\"cross_correlations_full.csv\", sep= \";\")\n",
    "    \n",
    "    ccf_df.plot()\n",
    "    sns.pairplot(diff_df)  \n",
    "    "
   ]
  },
  {
   "cell_type": "code",
   "execution_count": 13,
   "metadata": {},
   "outputs": [],
   "source": [
    "#FALLZAHLEN\n",
    "def fall(diff_df):\n",
    "    \n",
    "    fig, axs = plty.subplots(nrows = 2, sharey = True)\n",
    "    fig.suptitle('Kreuzkorrelation ∆Fallzahlen <-> ∆Artikelzahlen (oben), ∆Kommentarzahlen(unten)')\n",
    "    \n",
    "    axs[0].xcorr(diff_df.diff_bag, \n",
    "                     diff_df.diff_artikel)    \n",
    "    axs[1].xcorr(diff_df.diff_bag, diff_df.diff_komm)\n",
    "\n",
    "\n",
    "\n",
    "#TODESZAHLEN\n",
    "def tod(diff_df):  \n",
    "    \n",
    "    fig, axs = plty.subplots(nrows = 2, sharey = True)\n",
    "    fig.suptitle('Kreuzkorrelation ∆Todeszahlen <-> ∆Artikelzahlen (oben), ∆Kommentarzahlen(unten)')\n",
    "    \n",
    "    axs[0].xcorr(diff_df.diff_tod, diff_df.diff_artikel)\n",
    "    axs[1].xcorr(diff_df.diff_tod, diff_df.diff_komm)\n",
    "    \n",
    "    \n",
    "#HOSPITALISIERUNGSZAHLEN\n",
    "def hosp(diff_df):\n",
    "    \n",
    "    fig, axs = plty.subplots(nrows = 2, sharey = True)\n",
    "    fig.suptitle('Kreuzkorrelation ∆Hospitalisierungszahlen <-> ∆Artikelzahlen (oben), ∆Kommentarzahlen(unten)')\n",
    "    \n",
    "\n",
    "    axs[0].xcorr(diff_df.diff_hosp, diff_df.diff_artikel)\n",
    "\n",
    "    axs[1].xcorr(diff_df.diff_hosp, diff_df.diff_komm)\n",
    "\n",
    "    \n",
    "    \n",
    "#ARTIKEL\n",
    "def art_komm(diff_df):\n",
    "    \n",
    "    \n",
    "    plt.pyplot.xcorr(diff_df.diff_artikel, diff_df.diff_komm)\n",
    "    plt.pyplot.title(\"Kreuzkorrelation ∆Artikelzahlen <-> ∆Kommentarzahlen\")\n",
    "    "
   ]
  },
  {
   "cell_type": "code",
   "execution_count": 14,
   "metadata": {},
   "outputs": [],
   "source": [
    "def cor_shower(df):\n",
    "    \"\"\"\n",
    "    Shows all the crosscorrelation plots, based on the assumption that the columns in the dataframe need to be\n",
    "    differentiated once\n",
    "    \"\"\"\n",
    "    art_komm(differentiate(df))\n",
    "    fall(differentiate(df))\n",
    "    hosp(differentiate(df))\n",
    "    tod(differentiate(df))\n"
   ]
  },
  {
   "cell_type": "code",
   "execution_count": 15,
   "metadata": {},
   "outputs": [],
   "source": [
    "def lagger(x):\n",
    "    \n",
    "    \"\"\"\n",
    "    Get the number of lags.\n",
    "    We work here with the undifferentiated dataset!\n",
    "    \"\"\"\n",
    "    \n",
    "    \n",
    "    model = VAR(x)\n",
    "    darste = []\n",
    "    nummer = []\n",
    "    for i in [1,2,3,4,5,6,7,8,9,10, 11, 12, 13, 14, 15, 16, 17, 18 ,19, 20, 21,22, 23,24]:\n",
    "        result = model.fit(i)\n",
    "        try:\n",
    "            #print('Lag Order =', i)\n",
    "            #print('AIC : ', result.aic)\n",
    "            nummer.append(i)\n",
    "            darste.append(result.aic)\n",
    "    #        print('BIC : ', result.bic)\n",
    "     #       print('FPE : ', result.fpe)\n",
    "      #      print('HQIC: ', result.hqic, '\\n')\n",
    "        except:\n",
    "            continue\n",
    "\n",
    "    plty.title(\"Akaike Information Criterion, indicating optimal lag\")\n",
    "    plty.plot(nummer, darste)\n",
    "    plty.grid(axis = 'x')"
   ]
  },
  {
   "cell_type": "code",
   "execution_count": 16,
   "metadata": {},
   "outputs": [],
   "source": [
    "def fitter(x_diff,y):    \n",
    "    \n",
    "    \"\"\"\n",
    "    input of this function = optimal number of lags as from lagger(x_diff)\n",
    "    \"\"\"\n",
    "    model = VAR(x_diff)\n",
    "    model_fitted = model.fit(y)\n",
    "    model_fitted\n",
    "\n",
    "\n",
    "    out = durbin_watson(model_fitted.resid)\n",
    "\n",
    "    \n",
    "    print(\"Serial Correlation of Residuals using Durbin Watson Statistic\")\n",
    "    for col, val in zip(x_diff.columns, out):\n",
    "        print(col, ':', round(val, 2))"
   ]
  },
  {
   "cell_type": "code",
   "execution_count": 17,
   "metadata": {},
   "outputs": [],
   "source": [
    "def grangers_causation_matrix(data, variables, test='ssr_chi2test', verbose=False):\n",
    "    \n",
    "    #https://rishi-a.github.io/2020/05/25/granger-causality.html\n",
    "    \n",
    "    \"\"\"Check Granger Causality of all possible combinations of the Time series.\n",
    "    The rows are the response variable, columns are predictors. The values in the table \n",
    "    are the P-Values. P-Values lesser than the significance level (0.05), implies \n",
    "    the Null Hypothesis that the coefficients of the corresponding past values is \n",
    "    zero, that is, the X does not cause Y can be rejected.\n",
    "\n",
    "    data      : pandas dataframe containing the time series variables\n",
    "    variables : list containing names of the time series variables.\n",
    "    \"\"\"\n",
    "    \n",
    "    df = pd.DataFrame(np.zeros((len(variables), len(variables))), columns=variables, index=variables)\n",
    "    for c in df.columns:\n",
    "        for r in df.index:\n",
    "            test_result = grangercausalitytests(data[[r, c]], maxlag=maxlag, verbose=False)\n",
    "            p_values = [round(test_result[i+1][0][test][1],4) for i in range(maxlag)]\n",
    "            if verbose: \n",
    "                print(f'Y = {r}, X = {c}, P Values = {p_values}')\n",
    "            min_p_value = np.min(p_values)\n",
    "            df.loc[r, c] = min_p_value\n",
    "    df.columns = [var + '_x' for var in variables]\n",
    "    df.index = [var + '_y' for var in variables]\n",
    "    return df"
   ]
  },
  {
   "cell_type": "markdown",
   "metadata": {},
   "source": [
    "# Analysis\n",
    "\n",
    "We now get to the results. Below cell creates a timeframe according to your input in the top of this notebook.\n"
   ]
  },
  {
   "cell_type": "code",
   "execution_count": 18,
   "metadata": {},
   "outputs": [],
   "source": [
    "x = df_maker(\n",
    "    a,    #starting month\n",
    "    b    #ending month\n",
    ")"
   ]
  },
  {
   "cell_type": "markdown",
   "metadata": {},
   "source": [
    "## Key Figures\n",
    "\n",
    "Get key figures such as correlation and stationarity."
   ]
  },
  {
   "cell_type": "code",
   "execution_count": 19,
   "metadata": {},
   "outputs": [
    {
     "data": {
      "text/html": [
       "<div>\n",
       "<style scoped>\n",
       "    .dataframe tbody tr th:only-of-type {\n",
       "        vertical-align: middle;\n",
       "    }\n",
       "\n",
       "    .dataframe tbody tr th {\n",
       "        vertical-align: top;\n",
       "    }\n",
       "\n",
       "    .dataframe thead th {\n",
       "        text-align: right;\n",
       "    }\n",
       "</style>\n",
       "<table border=\"1\" class=\"dataframe\">\n",
       "  <thead>\n",
       "    <tr style=\"text-align: right;\">\n",
       "      <th></th>\n",
       "      <th>name</th>\n",
       "      <th>artikel_zahlen</th>\n",
       "      <th>kom_zahlen</th>\n",
       "      <th>bag_zahlen</th>\n",
       "      <th>hosp_zahlen</th>\n",
       "      <th>tod_zahlen</th>\n",
       "    </tr>\n",
       "  </thead>\n",
       "  <tbody>\n",
       "    <tr>\n",
       "      <th>0</th>\n",
       "      <td>shapiro-statistic</td>\n",
       "      <td>0.913471</td>\n",
       "      <td>0.943725</td>\n",
       "      <td>0.625046</td>\n",
       "      <td>0.719658</td>\n",
       "      <td>0.666773</td>\n",
       "    </tr>\n",
       "    <tr>\n",
       "      <th>1</th>\n",
       "      <td>shapiro-pvalue</td>\n",
       "      <td>0.0</td>\n",
       "      <td>0.0</td>\n",
       "      <td>0.0</td>\n",
       "      <td>0.0</td>\n",
       "      <td>0.0</td>\n",
       "    </tr>\n",
       "    <tr>\n",
       "      <th>0</th>\n",
       "      <td>adf-statistics</td>\n",
       "      <td>-2.487077</td>\n",
       "      <td>-1.848276</td>\n",
       "      <td>-0.970487</td>\n",
       "      <td>-1.80647</td>\n",
       "      <td>-1.276386</td>\n",
       "    </tr>\n",
       "    <tr>\n",
       "      <th>1</th>\n",
       "      <td>adf-pvalue</td>\n",
       "      <td>0.11865</td>\n",
       "      <td>0.356771</td>\n",
       "      <td>0.763876</td>\n",
       "      <td>0.377254</td>\n",
       "      <td>0.639905</td>\n",
       "    </tr>\n",
       "    <tr>\n",
       "      <th>2</th>\n",
       "      <td>adf-lags</td>\n",
       "      <td>15</td>\n",
       "      <td>13</td>\n",
       "      <td>17</td>\n",
       "      <td>15</td>\n",
       "      <td>11</td>\n",
       "    </tr>\n",
       "    <tr>\n",
       "      <th>3</th>\n",
       "      <td>adf-nobs</td>\n",
       "      <td>350</td>\n",
       "      <td>352</td>\n",
       "      <td>348</td>\n",
       "      <td>350</td>\n",
       "      <td>354</td>\n",
       "    </tr>\n",
       "    <tr>\n",
       "      <th>4</th>\n",
       "      <td>adf-critical-values</td>\n",
       "      <td>{'1%': -3.4491725955218655, '5%': -2.869833497...</td>\n",
       "      <td>{'1%': -3.4490648539347544, '5%': -2.869786169...</td>\n",
       "      <td>{'1%': -3.4492815848836296, '5%': -2.869881371...</td>\n",
       "      <td>{'1%': -3.4491725955218655, '5%': -2.869833497...</td>\n",
       "      <td>{'1%': -3.4489583388155194, '5%': -2.869739378...</td>\n",
       "    </tr>\n",
       "    <tr>\n",
       "      <th>0</th>\n",
       "      <td>kpss-statistics</td>\n",
       "      <td>0.192615</td>\n",
       "      <td>0.409227</td>\n",
       "      <td>1.115397</td>\n",
       "      <td>0.907774</td>\n",
       "      <td>0.826019</td>\n",
       "    </tr>\n",
       "    <tr>\n",
       "      <th>1</th>\n",
       "      <td>kpss-pvalue</td>\n",
       "      <td>0.1</td>\n",
       "      <td>0.073178</td>\n",
       "      <td>0.01</td>\n",
       "      <td>0.01</td>\n",
       "      <td>0.01</td>\n",
       "    </tr>\n",
       "    <tr>\n",
       "      <th>2</th>\n",
       "      <td>kpss-lags</td>\n",
       "      <td>17</td>\n",
       "      <td>17</td>\n",
       "      <td>17</td>\n",
       "      <td>17</td>\n",
       "      <td>17</td>\n",
       "    </tr>\n",
       "    <tr>\n",
       "      <th>3</th>\n",
       "      <td>kpss-critvalues</td>\n",
       "      <td>{'10%': 0.347, '5%': 0.463, '2.5%': 0.574, '1%...</td>\n",
       "      <td>{'10%': 0.347, '5%': 0.463, '2.5%': 0.574, '1%...</td>\n",
       "      <td>{'10%': 0.347, '5%': 0.463, '2.5%': 0.574, '1%...</td>\n",
       "      <td>{'10%': 0.347, '5%': 0.463, '2.5%': 0.574, '1%...</td>\n",
       "      <td>{'10%': 0.347, '5%': 0.463, '2.5%': 0.574, '1%...</td>\n",
       "    </tr>\n",
       "  </tbody>\n",
       "</table>\n",
       "</div>"
      ],
      "text/plain": [
       "                  name                                     artikel_zahlen  \\\n",
       "0    shapiro-statistic                                           0.913471   \n",
       "1       shapiro-pvalue                                                0.0   \n",
       "0       adf-statistics                                          -2.487077   \n",
       "1           adf-pvalue                                            0.11865   \n",
       "2             adf-lags                                                 15   \n",
       "3             adf-nobs                                                350   \n",
       "4  adf-critical-values  {'1%': -3.4491725955218655, '5%': -2.869833497...   \n",
       "0      kpss-statistics                                           0.192615   \n",
       "1          kpss-pvalue                                                0.1   \n",
       "2            kpss-lags                                                 17   \n",
       "3      kpss-critvalues  {'10%': 0.347, '5%': 0.463, '2.5%': 0.574, '1%...   \n",
       "\n",
       "                                          kom_zahlen  \\\n",
       "0                                           0.943725   \n",
       "1                                                0.0   \n",
       "0                                          -1.848276   \n",
       "1                                           0.356771   \n",
       "2                                                 13   \n",
       "3                                                352   \n",
       "4  {'1%': -3.4490648539347544, '5%': -2.869786169...   \n",
       "0                                           0.409227   \n",
       "1                                           0.073178   \n",
       "2                                                 17   \n",
       "3  {'10%': 0.347, '5%': 0.463, '2.5%': 0.574, '1%...   \n",
       "\n",
       "                                          bag_zahlen  \\\n",
       "0                                           0.625046   \n",
       "1                                                0.0   \n",
       "0                                          -0.970487   \n",
       "1                                           0.763876   \n",
       "2                                                 17   \n",
       "3                                                348   \n",
       "4  {'1%': -3.4492815848836296, '5%': -2.869881371...   \n",
       "0                                           1.115397   \n",
       "1                                               0.01   \n",
       "2                                                 17   \n",
       "3  {'10%': 0.347, '5%': 0.463, '2.5%': 0.574, '1%...   \n",
       "\n",
       "                                         hosp_zahlen  \\\n",
       "0                                           0.719658   \n",
       "1                                                0.0   \n",
       "0                                           -1.80647   \n",
       "1                                           0.377254   \n",
       "2                                                 15   \n",
       "3                                                350   \n",
       "4  {'1%': -3.4491725955218655, '5%': -2.869833497...   \n",
       "0                                           0.907774   \n",
       "1                                               0.01   \n",
       "2                                                 17   \n",
       "3  {'10%': 0.347, '5%': 0.463, '2.5%': 0.574, '1%...   \n",
       "\n",
       "                                          tod_zahlen  \n",
       "0                                           0.666773  \n",
       "1                                                0.0  \n",
       "0                                          -1.276386  \n",
       "1                                           0.639905  \n",
       "2                                                 11  \n",
       "3                                                354  \n",
       "4  {'1%': -3.4489583388155194, '5%': -2.869739378...  \n",
       "0                                           0.826019  \n",
       "1                                               0.01  \n",
       "2                                                 17  \n",
       "3  {'10%': 0.347, '5%': 0.463, '2.5%': 0.574, '1%...  "
      ]
     },
     "execution_count": 19,
     "metadata": {},
     "output_type": "execute_result"
    }
   ],
   "source": [
    "x_sin = single_values(x)\n",
    "x_sin"
   ]
  },
  {
   "cell_type": "markdown",
   "metadata": {},
   "source": [
    "## Correlation\n",
    "\n",
    "We check the correlation of the time series of interest in terms of Pearson as well as Spearman."
   ]
  },
  {
   "cell_type": "code",
   "execution_count": 20,
   "metadata": {},
   "outputs": [
    {
     "data": {
      "text/html": [
       "<div>\n",
       "<style scoped>\n",
       "    .dataframe tbody tr th:only-of-type {\n",
       "        vertical-align: middle;\n",
       "    }\n",
       "\n",
       "    .dataframe tbody tr th {\n",
       "        vertical-align: top;\n",
       "    }\n",
       "\n",
       "    .dataframe thead th {\n",
       "        text-align: right;\n",
       "    }\n",
       "</style>\n",
       "<table border=\"1\" class=\"dataframe\">\n",
       "  <thead>\n",
       "    <tr style=\"text-align: right;\">\n",
       "      <th></th>\n",
       "      <th>name</th>\n",
       "      <th>(bag_zahlen, artikel_zahlen)</th>\n",
       "      <th>(bag_zahlen, kom_zahlen)</th>\n",
       "      <th>(tod_zahlen, artikel_zahlen)</th>\n",
       "      <th>(tod_zahlen, kom_zahlen)</th>\n",
       "      <th>(hosp_zahlen, artikel_zahlen)</th>\n",
       "      <th>(hosp_zahlen, kom_zahlen)</th>\n",
       "      <th>(artikel_zahlen, kom_zahlen)</th>\n",
       "    </tr>\n",
       "  </thead>\n",
       "  <tbody>\n",
       "    <tr>\n",
       "      <th>0</th>\n",
       "      <td>spearman-statistic</td>\n",
       "      <td>0.471847</td>\n",
       "      <td>0.617171</td>\n",
       "      <td>0.579544</td>\n",
       "      <td>0.710094</td>\n",
       "      <td>0.550171</td>\n",
       "      <td>0.657673</td>\n",
       "      <td>0.787703</td>\n",
       "    </tr>\n",
       "    <tr>\n",
       "      <th>1</th>\n",
       "      <td>spearman-pvalue</td>\n",
       "      <td>0.000000</td>\n",
       "      <td>0.000000</td>\n",
       "      <td>0.000000</td>\n",
       "      <td>0.000000</td>\n",
       "      <td>0.000000</td>\n",
       "      <td>0.000000</td>\n",
       "      <td>0.000000</td>\n",
       "    </tr>\n",
       "    <tr>\n",
       "      <th>2</th>\n",
       "      <td>pearson-tail1</td>\n",
       "      <td>0.167457</td>\n",
       "      <td>0.419514</td>\n",
       "      <td>0.321303</td>\n",
       "      <td>0.585419</td>\n",
       "      <td>0.362562</td>\n",
       "      <td>0.539588</td>\n",
       "      <td>0.695919</td>\n",
       "    </tr>\n",
       "    <tr>\n",
       "      <th>3</th>\n",
       "      <td>pearson-tail2</td>\n",
       "      <td>0.001303</td>\n",
       "      <td>0.0</td>\n",
       "      <td>0.0</td>\n",
       "      <td>0.0</td>\n",
       "      <td>0.0</td>\n",
       "      <td>0.0</td>\n",
       "      <td>0.0</td>\n",
       "    </tr>\n",
       "  </tbody>\n",
       "</table>\n",
       "</div>"
      ],
      "text/plain": [
       "                 name (bag_zahlen, artikel_zahlen) (bag_zahlen, kom_zahlen)  \\\n",
       "0  spearman-statistic                     0.471847                 0.617171   \n",
       "1     spearman-pvalue                     0.000000                 0.000000   \n",
       "2       pearson-tail1                     0.167457                 0.419514   \n",
       "3       pearson-tail2                     0.001303                      0.0   \n",
       "\n",
       "  (tod_zahlen, artikel_zahlen) (tod_zahlen, kom_zahlen)  \\\n",
       "0                     0.579544                 0.710094   \n",
       "1                     0.000000                 0.000000   \n",
       "2                     0.321303                 0.585419   \n",
       "3                          0.0                      0.0   \n",
       "\n",
       "  (hosp_zahlen, artikel_zahlen) (hosp_zahlen, kom_zahlen)  \\\n",
       "0                      0.550171                  0.657673   \n",
       "1                      0.000000                  0.000000   \n",
       "2                      0.362562                  0.539588   \n",
       "3                           0.0                       0.0   \n",
       "\n",
       "  (artikel_zahlen, kom_zahlen)  \n",
       "0                     0.787703  \n",
       "1                     0.000000  \n",
       "2                     0.695919  \n",
       "3                          0.0  "
      ]
     },
     "execution_count": 20,
     "metadata": {},
     "output_type": "execute_result"
    }
   ],
   "source": [
    "correlater(x)"
   ]
  },
  {
   "cell_type": "markdown",
   "metadata": {},
   "source": [
    "## Differentiating\n",
    "\n",
    "This step is done under the assumption that the previous step showed the input to be non-stationary and thus differentiates the time series."
   ]
  },
  {
   "cell_type": "code",
   "execution_count": 21,
   "metadata": {},
   "outputs": [],
   "source": [
    "x_diff = differentiate(x)"
   ]
  },
  {
   "cell_type": "markdown",
   "metadata": {},
   "source": [
    "## Retest for stationiarity\n",
    "\n",
    "We retest for stationarity - now with the freshly differentiated input."
   ]
  },
  {
   "cell_type": "code",
   "execution_count": 22,
   "metadata": {},
   "outputs": [
    {
     "data": {
      "text/html": [
       "<div>\n",
       "<style scoped>\n",
       "    .dataframe tbody tr th:only-of-type {\n",
       "        vertical-align: middle;\n",
       "    }\n",
       "\n",
       "    .dataframe tbody tr th {\n",
       "        vertical-align: top;\n",
       "    }\n",
       "\n",
       "    .dataframe thead th {\n",
       "        text-align: right;\n",
       "    }\n",
       "</style>\n",
       "<table border=\"1\" class=\"dataframe\">\n",
       "  <thead>\n",
       "    <tr style=\"text-align: right;\">\n",
       "      <th></th>\n",
       "      <th>name</th>\n",
       "      <th>diff_artikel</th>\n",
       "      <th>diff_komm</th>\n",
       "      <th>diff_bag</th>\n",
       "      <th>diff_tod</th>\n",
       "      <th>diff_hosp</th>\n",
       "    </tr>\n",
       "  </thead>\n",
       "  <tbody>\n",
       "    <tr>\n",
       "      <th>0</th>\n",
       "      <td>adf-statistics-diff</td>\n",
       "      <td>-3.885684</td>\n",
       "      <td>-7.701643</td>\n",
       "      <td>-5.045733</td>\n",
       "      <td>-3.458804</td>\n",
       "      <td>-4.066785</td>\n",
       "    </tr>\n",
       "    <tr>\n",
       "      <th>1</th>\n",
       "      <td>adf-pvalue-diff</td>\n",
       "      <td>0.002143</td>\n",
       "      <td>0.0</td>\n",
       "      <td>0.000018</td>\n",
       "      <td>0.00911</td>\n",
       "      <td>0.001098</td>\n",
       "    </tr>\n",
       "    <tr>\n",
       "      <th>2</th>\n",
       "      <td>adf-lags-diff</td>\n",
       "      <td>14</td>\n",
       "      <td>12</td>\n",
       "      <td>16</td>\n",
       "      <td>17</td>\n",
       "      <td>17</td>\n",
       "    </tr>\n",
       "    <tr>\n",
       "      <th>3</th>\n",
       "      <td>adf-nobs-diff</td>\n",
       "      <td>350</td>\n",
       "      <td>352</td>\n",
       "      <td>348</td>\n",
       "      <td>347</td>\n",
       "      <td>347</td>\n",
       "    </tr>\n",
       "    <tr>\n",
       "      <th>4</th>\n",
       "      <td>adf-critical-values-diff</td>\n",
       "      <td>{'1%': -3.4491725955218655, '5%': -2.869833497...</td>\n",
       "      <td>{'1%': -3.4490648539347544, '5%': -2.869786169...</td>\n",
       "      <td>{'1%': -3.4492815848836296, '5%': -2.869881371...</td>\n",
       "      <td>{'1%': -3.449336554273722, '5%': -2.8699055166...</td>\n",
       "      <td>{'1%': -3.449336554273722, '5%': -2.8699055166...</td>\n",
       "    </tr>\n",
       "    <tr>\n",
       "      <th>0</th>\n",
       "      <td>kpss-statistics-diff</td>\n",
       "      <td>0.104956</td>\n",
       "      <td>0.057941</td>\n",
       "      <td>0.044768</td>\n",
       "      <td>0.143692</td>\n",
       "      <td>0.059716</td>\n",
       "    </tr>\n",
       "    <tr>\n",
       "      <th>1</th>\n",
       "      <td>kpss-pvalue-diff</td>\n",
       "      <td>0.1</td>\n",
       "      <td>0.1</td>\n",
       "      <td>0.1</td>\n",
       "      <td>0.1</td>\n",
       "      <td>0.1</td>\n",
       "    </tr>\n",
       "    <tr>\n",
       "      <th>2</th>\n",
       "      <td>kpss-lags-diff</td>\n",
       "      <td>17</td>\n",
       "      <td>17</td>\n",
       "      <td>17</td>\n",
       "      <td>17</td>\n",
       "      <td>17</td>\n",
       "    </tr>\n",
       "    <tr>\n",
       "      <th>3</th>\n",
       "      <td>kpss-critvalues-diff</td>\n",
       "      <td>{'10%': 0.347, '5%': 0.463, '2.5%': 0.574, '1%...</td>\n",
       "      <td>{'10%': 0.347, '5%': 0.463, '2.5%': 0.574, '1%...</td>\n",
       "      <td>{'10%': 0.347, '5%': 0.463, '2.5%': 0.574, '1%...</td>\n",
       "      <td>{'10%': 0.347, '5%': 0.463, '2.5%': 0.574, '1%...</td>\n",
       "      <td>{'10%': 0.347, '5%': 0.463, '2.5%': 0.574, '1%...</td>\n",
       "    </tr>\n",
       "  </tbody>\n",
       "</table>\n",
       "</div>"
      ],
      "text/plain": [
       "                       name  \\\n",
       "0       adf-statistics-diff   \n",
       "1           adf-pvalue-diff   \n",
       "2             adf-lags-diff   \n",
       "3             adf-nobs-diff   \n",
       "4  adf-critical-values-diff   \n",
       "0      kpss-statistics-diff   \n",
       "1          kpss-pvalue-diff   \n",
       "2            kpss-lags-diff   \n",
       "3      kpss-critvalues-diff   \n",
       "\n",
       "                                        diff_artikel  \\\n",
       "0                                          -3.885684   \n",
       "1                                           0.002143   \n",
       "2                                                 14   \n",
       "3                                                350   \n",
       "4  {'1%': -3.4491725955218655, '5%': -2.869833497...   \n",
       "0                                           0.104956   \n",
       "1                                                0.1   \n",
       "2                                                 17   \n",
       "3  {'10%': 0.347, '5%': 0.463, '2.5%': 0.574, '1%...   \n",
       "\n",
       "                                           diff_komm  \\\n",
       "0                                          -7.701643   \n",
       "1                                                0.0   \n",
       "2                                                 12   \n",
       "3                                                352   \n",
       "4  {'1%': -3.4490648539347544, '5%': -2.869786169...   \n",
       "0                                           0.057941   \n",
       "1                                                0.1   \n",
       "2                                                 17   \n",
       "3  {'10%': 0.347, '5%': 0.463, '2.5%': 0.574, '1%...   \n",
       "\n",
       "                                            diff_bag  \\\n",
       "0                                          -5.045733   \n",
       "1                                           0.000018   \n",
       "2                                                 16   \n",
       "3                                                348   \n",
       "4  {'1%': -3.4492815848836296, '5%': -2.869881371...   \n",
       "0                                           0.044768   \n",
       "1                                                0.1   \n",
       "2                                                 17   \n",
       "3  {'10%': 0.347, '5%': 0.463, '2.5%': 0.574, '1%...   \n",
       "\n",
       "                                            diff_tod  \\\n",
       "0                                          -3.458804   \n",
       "1                                            0.00911   \n",
       "2                                                 17   \n",
       "3                                                347   \n",
       "4  {'1%': -3.449336554273722, '5%': -2.8699055166...   \n",
       "0                                           0.143692   \n",
       "1                                                0.1   \n",
       "2                                                 17   \n",
       "3  {'10%': 0.347, '5%': 0.463, '2.5%': 0.574, '1%...   \n",
       "\n",
       "                                           diff_hosp  \n",
       "0                                          -4.066785  \n",
       "1                                           0.001098  \n",
       "2                                                 17  \n",
       "3                                                347  \n",
       "4  {'1%': -3.449336554273722, '5%': -2.8699055166...  \n",
       "0                                           0.059716  \n",
       "1                                                0.1  \n",
       "2                                                 17  \n",
       "3  {'10%': 0.347, '5%': 0.463, '2.5%': 0.574, '1%...  "
      ]
     },
     "execution_count": 22,
     "metadata": {},
     "output_type": "execute_result"
    }
   ],
   "source": [
    "difference_tester(x_diff)"
   ]
  },
  {
   "cell_type": "markdown",
   "metadata": {},
   "source": [
    "## Autocorrelation\n",
    "\n",
    "We check whether the time series correlate with themselves."
   ]
  },
  {
   "cell_type": "code",
   "execution_count": 23,
   "metadata": {},
   "outputs": [
    {
     "data": {
      "image/png": "[encoded data removed]",
      "text/plain": [
       "<Figure size 432x288 with 1 Axes>"
      ]
     },
     "metadata": {
      "needs_background": "light"
     },
     "output_type": "display_data"
    },
    {
     "data": {
      "image/png": "[encoded data removed]",
      "text/plain": [
       "<Figure size 432x288 with 1 Axes>"
      ]
     },
     "metadata": {
      "needs_background": "light"
     },
     "output_type": "display_data"
    },
    {
     "data": {
      "image/png": "[encoded data removed]",
      "text/plain": [
       "<Figure size 432x288 with 1 Axes>"
      ]
     },
     "metadata": {
      "needs_background": "light"
     },
     "output_type": "display_data"
    },
    {
     "data": {
      "image/png": "[encoded data removed]",
      "text/plain": [
       "<Figure size 432x288 with 1 Axes>"
      ]
     },
     "metadata": {
      "needs_background": "light"
     },
     "output_type": "display_data"
    },
    {
     "data": {
      "image/png": "[encoded data removed]",
      "text/plain": [
       "<Figure size 432x288 with 1 Axes>"
      ]
     },
     "metadata": {
      "needs_background": "light"
     },
     "output_type": "display_data"
    }
   ],
   "source": [
    "acf_maker(x_diff)"
   ]
  },
  {
   "cell_type": "markdown",
   "metadata": {},
   "source": [
    "## Partial Autocorrelation"
   ]
  },
  {
   "cell_type": "code",
   "execution_count": 24,
   "metadata": {},
   "outputs": [
    {
     "data": {
      "image/png": "[encoded data removed]",
      "text/plain": [
       "<Figure size 432x288 with 1 Axes>"
      ]
     },
     "metadata": {
      "needs_background": "light"
     },
     "output_type": "display_data"
    },
    {
     "data": {
      "image/png": "[encoded data removed]",
      "text/plain": [
       "<Figure size 432x288 with 1 Axes>"
      ]
     },
     "metadata": {
      "needs_background": "light"
     },
     "output_type": "display_data"
    },
    {
     "data": {
      "image/png": "[encoded data removed]",
      "text/plain": [
       "<Figure size 432x288 with 1 Axes>"
      ]
     },
     "metadata": {
      "needs_background": "light"
     },
     "output_type": "display_data"
    },
    {
     "data": {
      "image/png": "[encoded data removed]",
      "text/plain": [
       "<Figure size 432x288 with 1 Axes>"
      ]
     },
     "metadata": {
      "needs_background": "light"
     },
     "output_type": "display_data"
    },
    {
     "data": {
      "image/png": "[encoded data removed]",
      "text/plain": [
       "<Figure size 432x288 with 1 Axes>"
      ]
     },
     "metadata": {
      "needs_background": "light"
     },
     "output_type": "display_data"
    }
   ],
   "source": [
    "pacf_maker(x_diff)"
   ]
  },
  {
   "cell_type": "markdown",
   "metadata": {},
   "source": [
    "## Cross Correlation"
   ]
  },
  {
   "cell_type": "code",
   "execution_count": 25,
   "metadata": {
    "scrolled": false
   },
   "outputs": [
    {
     "data": {
      "image/png": "[encoded data removed]",
      "text/plain": [
       "<Figure size 432x288 with 1 Axes>"
      ]
     },
     "metadata": {
      "needs_background": "light"
     },
     "output_type": "display_data"
    },
    {
     "data": {
      "image/png": "[encoded data removed]",
      "text/plain": [
       "<Figure size 432x288 with 2 Axes>"
      ]
     },
     "metadata": {
      "needs_background": "light"
     },
     "output_type": "display_data"
    },
    {
     "data": {
      "image/png": "[encoded data removed]",
      "text/plain": [
       "<Figure size 432x288 with 2 Axes>"
      ]
     },
     "metadata": {
      "needs_background": "light"
     },
     "output_type": "display_data"
    },
    {
     "data": {
      "image/png": "[encoded data removed]",
      "text/plain": [
       "<Figure size 432x288 with 2 Axes>"
      ]
     },
     "metadata": {
      "needs_background": "light"
     },
     "output_type": "display_data"
    }
   ],
   "source": [
    "cor_shower(x)"
   ]
  },
  {
   "cell_type": "markdown",
   "metadata": {},
   "source": [
    "## Granger Causality\n",
    "\n",
    "#### Getting the number of lags"
   ]
  },
  {
   "cell_type": "code",
   "execution_count": 26,
   "metadata": {},
   "outputs": [
    {
     "name": "stdout",
     "output_type": "stream",
     "text": [
      "Serial Correlation of Residuals using Durbin Watson Statistic\n",
      "diff_artikel : 2.03\n",
      "diff_komm : 2.04\n",
      "diff_bag : 2.0\n",
      "diff_tod : 2.15\n",
      "diff_hosp : 2.1\n"
     ]
    },
    {
     "data": {
      "image/png": "[encoded data removed]",
      "text/plain": [
       "<Figure size 432x288 with 1 Axes>"
      ]
     },
     "metadata": {
      "needs_background": "light"
     },
     "output_type": "display_data"
    }
   ],
   "source": [
    "lagger(x)\n",
    "\n",
    "fitter(x_diff, 7)   #basing on the plot and the elbow from lagger(x_diff), we take 7 (in the example). \n",
    "                    #In case the plot shows something different to you, use this number"
   ]
  },
  {
   "cell_type": "markdown",
   "metadata": {},
   "source": [
    "#### Actual Granger Causality"
   ]
  },
  {
   "cell_type": "code",
   "execution_count": 27,
   "metadata": {},
   "outputs": [
    {
     "data": {
      "text/html": [
       "<div>\n",
       "<style scoped>\n",
       "    .dataframe tbody tr th:only-of-type {\n",
       "        vertical-align: middle;\n",
       "    }\n",
       "\n",
       "    .dataframe tbody tr th {\n",
       "        vertical-align: top;\n",
       "    }\n",
       "\n",
       "    .dataframe thead th {\n",
       "        text-align: right;\n",
       "    }\n",
       "</style>\n",
       "<table border=\"1\" class=\"dataframe\">\n",
       "  <thead>\n",
       "    <tr style=\"text-align: right;\">\n",
       "      <th></th>\n",
       "      <th>diff_artikel_x</th>\n",
       "      <th>diff_komm_x</th>\n",
       "      <th>diff_bag_x</th>\n",
       "      <th>diff_tod_x</th>\n",
       "      <th>diff_hosp_x</th>\n",
       "    </tr>\n",
       "  </thead>\n",
       "  <tbody>\n",
       "    <tr>\n",
       "      <th>diff_artikel_y</th>\n",
       "      <td>1.0000</td>\n",
       "      <td>0.0000</td>\n",
       "      <td>0.0042</td>\n",
       "      <td>0.6964</td>\n",
       "      <td>0.0012</td>\n",
       "    </tr>\n",
       "    <tr>\n",
       "      <th>diff_komm_y</th>\n",
       "      <td>0.0013</td>\n",
       "      <td>1.0000</td>\n",
       "      <td>0.0000</td>\n",
       "      <td>0.0111</td>\n",
       "      <td>0.0002</td>\n",
       "    </tr>\n",
       "    <tr>\n",
       "      <th>diff_bag_y</th>\n",
       "      <td>0.0273</td>\n",
       "      <td>0.0000</td>\n",
       "      <td>1.0000</td>\n",
       "      <td>0.0029</td>\n",
       "      <td>0.0000</td>\n",
       "    </tr>\n",
       "    <tr>\n",
       "      <th>diff_tod_y</th>\n",
       "      <td>0.0010</td>\n",
       "      <td>0.0056</td>\n",
       "      <td>0.0000</td>\n",
       "      <td>1.0000</td>\n",
       "      <td>0.0000</td>\n",
       "    </tr>\n",
       "    <tr>\n",
       "      <th>diff_hosp_y</th>\n",
       "      <td>0.0000</td>\n",
       "      <td>0.0002</td>\n",
       "      <td>0.0000</td>\n",
       "      <td>0.0003</td>\n",
       "      <td>1.0000</td>\n",
       "    </tr>\n",
       "  </tbody>\n",
       "</table>\n",
       "</div>"
      ],
      "text/plain": [
       "                diff_artikel_x  diff_komm_x  diff_bag_x  diff_tod_x  \\\n",
       "diff_artikel_y          1.0000       0.0000      0.0042      0.6964   \n",
       "diff_komm_y             0.0013       1.0000      0.0000      0.0111   \n",
       "diff_bag_y              0.0273       0.0000      1.0000      0.0029   \n",
       "diff_tod_y              0.0010       0.0056      0.0000      1.0000   \n",
       "diff_hosp_y             0.0000       0.0002      0.0000      0.0003   \n",
       "\n",
       "                diff_hosp_x  \n",
       "diff_artikel_y       0.0012  \n",
       "diff_komm_y          0.0002  \n",
       "diff_bag_y           0.0000  \n",
       "diff_tod_y           0.0000  \n",
       "diff_hosp_y          1.0000  "
      ]
     },
     "execution_count": 27,
     "metadata": {},
     "output_type": "execute_result"
    }
   ],
   "source": [
    "maxlag = 8\n",
    "o = grangers_causation_matrix(x_diff, variables = x_diff.columns)  \n",
    "o"
   ]
  }
 ],
 "metadata": {
  "kernelspec": {
   "display_name": "Python 3",
   "language": "python",
   "name": "python3"
  },
  "language_info": {
   "codemirror_mode": {
    "name": "ipython",
    "version": 3
   },
   "file_extension": ".py",
   "mimetype": "text/x-python",
   "name": "python",
   "nbconvert_exporter": "python",
   "pygments_lexer": "ipython3",
   "version": "3.7.3"
  }
 },
 "nbformat": 4,
 "nbformat_minor": 4
}
