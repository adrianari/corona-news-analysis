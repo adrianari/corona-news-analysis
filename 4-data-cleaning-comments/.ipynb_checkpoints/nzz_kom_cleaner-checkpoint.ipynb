{
 "cells": [
  {
   "cell_type": "code",
   "execution_count": null,
   "metadata": {},
   "outputs": [],
   "source": [
    "import pandas as pd\n",
    "import numpy as np\n",
    "import pickle\n",
    "import re"
   ]
  },
  {
   "cell_type": "code",
   "execution_count": null,
   "metadata": {},
   "outputs": [],
   "source": [
    "df_kom = pd.read_csv(\"nzz_kom1.csv\", delimiter = \"|\", header = None)"
   ]
  },
  {
   "cell_type": "code",
   "execution_count": null,
   "metadata": {},
   "outputs": [],
   "source": [
    "df_kom"
   ]
  },
  {
   "cell_type": "code",
   "execution_count": null,
   "metadata": {},
   "outputs": [],
   "source": [
    "df_kom = df_kom.drop_duplicates(keep = \"last\")"
   ]
  },
  {
   "cell_type": "code",
   "execution_count": null,
   "metadata": {},
   "outputs": [],
   "source": [
    "date_indy = df_kom[1].str.split(\",\", expand = True)"
   ]
  },
  {
   "cell_type": "code",
   "execution_count": null,
   "metadata": {},
   "outputs": [],
   "source": [
    "df_kom[3] = date_indy[0]\n",
    "df_kom[4] = date_indy[1]\n",
    "df_kom[3] = pd.to_datetime(df_kom[3])\n",
    "df_kom[5] = df_kom[3].dt.year\n",
    "df_kom = df_kom[df_kom[5] != 2021]"
   ]
  },
  {
   "cell_type": "code",
   "execution_count": null,
   "metadata": {},
   "outputs": [],
   "source": [
    "df_kom = df_kom.drop(columns = [1,5])"
   ]
  },
  {
   "cell_type": "code",
   "execution_count": null,
   "metadata": {},
   "outputs": [],
   "source": [
    "df_kom[0] = df_kom[0].str.strip()\n",
    "df_kom[2] = df_kom[2].str.strip()\n",
    "df_kom[10] = \"nzz\""
   ]
  },
  {
   "cell_type": "code",
   "execution_count": null,
   "metadata": {},
   "outputs": [],
   "source": [
    "#remove emojis and other things\n",
    "\n",
    "emoji_pattern = re.compile(\"[\"\n",
    "        u\"\\U0001F600-\\U0001F64F\"  # emoticons\n",
    "        u\"\\U0001F900-\\U0001F980\"\n",
    "        u\"\\U0001F923\"\n",
    "        u\"\\U0001F92A\"\n",
    "        u\"\\U0001F917\"\n",
    "        u\"\\U0001F912\"\n",
    "        u\"\\U0001F976\"\n",
    "        u\"\\U0001F929\"\n",
    "        u\"\\U0001F300-\\U0001F5FF\"  # symbols & pictographs\n",
    "        u\"\\U0001F680-\\U0001F6FF\"  # transport & map symbols\n",
    "        u\"\\U0001F1E0-\\U0001F1FF\"  # flags (iOS)\n",
    "                           \"]+\", flags=re.UNICODE)\n",
    "\n",
    "\n",
    "df_kom[2] = df_kom[2].str.replace(emoji_pattern, \"\")\n",
    "df_kom[2] = df_kom[2].str.replace(\"\\n\", \" \")\n",
    "df_kom[2] = df_kom[2].str.replace(\"\\ß\", \"ss\")\n",
    "\n",
    "df_kom = df_kom.dropna(subset = [2])\n",
    "df_kom = df_kom.dropna(subset = [0])"
   ]
  },
  {
   "cell_type": "code",
   "execution_count": null,
   "metadata": {},
   "outputs": [],
   "source": [
    "#weekdays\n",
    "weekdays = []\n",
    "for index, rows in df_kom.iterrows():\n",
    "    weekdays.append(rows[3].weekday())\n",
    "    \n",
    "df_kom[11] = weekdays"
   ]
  },
  {
   "cell_type": "code",
   "execution_count": null,
   "metadata": {},
   "outputs": [],
   "source": [
    "#time category\n",
    "\n",
    "df_kom[12] = df_kom[4].str.split(\":\").str[0]"
   ]
  },
  {
   "cell_type": "code",
   "execution_count": null,
   "metadata": {},
   "outputs": [],
   "source": [
    "#length\n",
    "df_kom[13] = df_kom[2].str.len()"
   ]
  },
  {
   "cell_type": "code",
   "execution_count": null,
   "metadata": {},
   "outputs": [],
   "source": [
    "df_kom[4] = df_kom[4].str[:-3]"
   ]
  },
  {
   "cell_type": "code",
   "execution_count": null,
   "metadata": {},
   "outputs": [],
   "source": [
    "df_kom.to_csv(\"nzz_kom.csv\", header = None, sep = \"|\", index = False)"
   ]
  },
  {
   "cell_type": "code",
   "execution_count": null,
   "metadata": {},
   "outputs": [],
   "source": []
  }
 ],
 "metadata": {
  "kernelspec": {
   "display_name": "Python 3",
   "language": "python",
   "name": "python3"
  },
  "language_info": {
   "codemirror_mode": {
    "name": "ipython",
    "version": 3
   },
   "file_extension": ".py",
   "mimetype": "text/x-python",
   "name": "python",
   "nbconvert_exporter": "python",
   "pygments_lexer": "ipython3",
   "version": "3.8.5"
  }
 },
 "nbformat": 4,
 "nbformat_minor": 4
}
