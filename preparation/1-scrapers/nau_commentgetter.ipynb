{
 "cells": [
  {
   "cell_type": "markdown",
   "metadata": {},
   "source": [
    "The below code bases upon the assumption that nau_sitegetter has been executed. The below code will get all data from the defined Nau sites:"
   ]
  },
  {
   "cell_type": "code",
   "execution_count": null,
   "metadata": {},
   "outputs": [],
   "source": [
    "from selenium import webdriver\n",
    "from selenium.webdriver.common.keys import Keys\n",
    "import time\n",
    "from selenium.common.exceptions import NoSuchElementException\n",
    "from selenium.common.exceptions import StaleElementReferenceException\n",
    "from selenium.common.exceptions import TimeoutException\n",
    "from bs4 import BeautifulSoup\n",
    "import requests\n",
    "import pickle\n",
    "import sys\n",
    "import re\n",
    "import csv"
   ]
  },
  {
   "cell_type": "code",
   "execution_count": null,
   "metadata": {},
   "outputs": [],
   "source": [
    "driver = webdriver.Firefox()\n",
    "driver.implicitly_wait(30)\n",
    "driver.maximize_window()"
   ]
  },
  {
   "cell_type": "code",
   "execution_count": null,
   "metadata": {},
   "outputs": [],
   "source": [
    "start_seite = \"https://www.nau.ch/politik/regional/prozess-gegen-pierre-maudet-in-genf-eroffnet-65871426\"\n",
    "driver.get(start_seite)\n",
    "\n",
    "cookies = pickle.load(open(\"nau_cookies.pkl\", \"rb\"))\n",
    "for cookie in cookies:\n",
    "    driver.add_cookie(cookie)\n",
    "    \n",
    "driver.refresh()"
   ]
  },
  {
   "cell_type": "code",
   "execution_count": null,
   "metadata": {},
   "outputs": [],
   "source": [
    "with open(\"nau_output.bin\", \"rb\") as data:\n",
    "    ueb_pages = pickle.load(data)\n",
    "\n",
    "uebung = ueb_pages"
   ]
  },
  {
   "cell_type": "code",
   "execution_count": null,
   "metadata": {},
   "outputs": [],
   "source": [
    "kommi = []"
   ]
  },
  {
   "cell_type": "code",
   "execution_count": null,
   "metadata": {},
   "outputs": [],
   "source": [
    "for site in ueb_pages:\n",
    "    driver.get(site)\n",
    "    time.sleep(2)\n",
    "    try:\n",
    "        rigi = driver.find_element_by_class_name(\"total-comments-counter\")\n",
    "        rigi = float(rigi.text)\n",
    "        if rigi == 0:\n",
    "            pass\n",
    "        else:\n",
    "            x = driver.find_element_by_xpath(\"//button[contains(.,' Jetzt mitdiskutieren ')]\")\n",
    "            time.sleep(1)\n",
    "            x.click()\n",
    "            html = driver.find_element_by_tag_name('html')\n",
    "            html.send_keys(Keys.PAGE_DOWN)\n",
    "            time.sleep(1)\n",
    "            html.send_keys(Keys.END)\n",
    "            time.sleep(1)\n",
    "            html.send_keys(Keys.END)\n",
    "            selen = driver.find_elements_by_class_name(\"comment.ng-star-inserted\")\n",
    "            time.sleep(1)\n",
    "            for nessel in selen:\n",
    "                element = nessel.text\n",
    "                element = element.replace(\"\\n\", \"|\")\n",
    "                element += \"|\" + site\n",
    "                kommi.append(element)\n",
    "    except NoSuchElementException:\n",
    "        pass\n"
   ]
  },
  {
   "cell_type": "code",
   "execution_count": null,
   "metadata": {},
   "outputs": [],
   "source": [
    "with open('nau_kom.csv', 'w', newline='', encoding=\"utf8\") as file:\n",
    "    for l in kommi:\n",
    "        file.write(l)\n",
    "        file.write('\\n')"
   ]
  },
  {
   "cell_type": "code",
   "execution_count": null,
   "metadata": {},
   "outputs": [],
   "source": [
    "driver.close()"
   ]
  }
 ],
 "metadata": {
  "kernelspec": {
   "display_name": "Python 3",
   "language": "python",
   "name": "python3"
  },
  "language_info": {
   "codemirror_mode": {
    "name": "ipython",
    "version": 3
   },
   "file_extension": ".py",
   "mimetype": "text/x-python",
   "name": "python",
   "nbconvert_exporter": "python",
   "pygments_lexer": "ipython3",
   "version": "3.8.5"
  }
 },
 "nbformat": 4,
 "nbformat_minor": 4
}
