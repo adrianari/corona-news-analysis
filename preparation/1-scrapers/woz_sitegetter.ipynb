{
 "cells": [
  {
   "cell_type": "code",
   "execution_count": 1,
   "metadata": {},
   "outputs": [
    {
     "name": "stdout",
     "output_type": "stream",
     "text": [
      "You have imported the selenium.webdriver.common.keys module\n"
     ]
    }
   ],
   "source": [
    "from selenium import webdriver\n",
    "from selenium.webdriver.common.keys import Keys\n",
    "import time\n",
    "from selenium.common.exceptions import NoSuchElementException\n",
    "from selenium.common.exceptions import StaleElementReferenceException\n",
    "from bs4 import BeautifulSoup\n",
    "import requests\n",
    "import pickle\n",
    "import sys\n",
    "\n",
    "modulename = 'selenium.webdriver.common.keys'\n",
    "if modulename not in sys.modules:\n",
    "    print('You have not imported the {} module'.format(modulename))\n",
    "else:\n",
    "    print('You have imported the {} module'.format(modulename))"
   ]
  },
  {
   "cell_type": "code",
   "execution_count": 2,
   "metadata": {},
   "outputs": [],
   "source": [
    "driver = webdriver.Firefox()\n",
    "driver.implicitly_wait(30)\n",
    "driver.maximize_window()"
   ]
  },
  {
   "cell_type": "code",
   "execution_count": 3,
   "metadata": {},
   "outputs": [],
   "source": [
    "#gets from all the sites (originating from the getter-function) all the final links to the articles\n",
    "def linker(seite):\n",
    "    time.sleep(2)\n",
    "    r = requests.get(seite)\n",
    "    soup = BeautifulSoup(r.text, \"html.parser\")\n",
    "    for filtering in soup.find_all(\"a\", class_=\"block-link\"):\n",
    "        seite = filtering.get(\"href\")\n",
    "        if seite not in hrefs2:    # to prevent double entries into the list\n",
    "            hrefs2.append(seite)\n",
    "\n",
    "#gets all sites that contain links for the linker-method            \n",
    "def getter(z):\n",
    "    driver.get(z)\n",
    "\n",
    "    html = driver.page_source\n",
    "    soup = BeautifulSoup(html, \"html.parser\")\n",
    "\n",
    "    lnks = []\n",
    "    for filtering in soup.find_all(\"a\"):\n",
    "        seite = filtering.get(\"href\")\n",
    "        lnks.append(seite)\n",
    "    lnk = lnks[61]\n",
    "    endpoint = int(lnk[-2:])\n",
    "    print(endpoint) #this print serves as a checkpoint \n",
    "    \n",
    "    pages.append(z)\n",
    "    for x in range (1,endpoint+1):\n",
    "        y = z + \"?page=\" + str(x)\n",
    "        pages.append(y)\n",
    "        \n",
    "zs = [\"https://www.woz.ch/archiv/covid*\", \"https://www.woz.ch/archiv/Coronavirus\"]\n",
    "hrefs2 = []\n",
    "seiten = []\n",
    "pages = []"
   ]
  },
  {
   "cell_type": "code",
   "execution_count": 4,
   "metadata": {},
   "outputs": [
    {
     "name": "stdout",
     "output_type": "stream",
     "text": [
      "20\n",
      "38\n"
     ]
    }
   ],
   "source": [
    "for element in zs:\n",
    "    getter(element)\n",
    "\n",
    "for page in pages:\n",
    "    linker(page)"
   ]
  },
  {
   "cell_type": "code",
   "execution_count": 5,
   "metadata": {},
   "outputs": [],
   "source": [
    "hrefs = []\n",
    "for element in hrefs2:\n",
    "    final = \"https://www.woz.ch\"+element\n",
    "    hrefs.append(final)    "
   ]
  },
  {
   "cell_type": "code",
   "execution_count": 6,
   "metadata": {},
   "outputs": [
    {
     "name": "stdout",
     "output_type": "stream",
     "text": [
      "466\n"
     ]
    }
   ],
   "source": [
    "print(len(hrefs))"
   ]
  },
  {
   "cell_type": "code",
   "execution_count": 7,
   "metadata": {},
   "outputs": [],
   "source": [
    "with open(\"woz_output.bin\", \"wb\") as output:\n",
    "    pickle.dump(hrefs, output)"
   ]
  },
  {
   "cell_type": "code",
   "execution_count": 8,
   "metadata": {},
   "outputs": [],
   "source": [
    "driver.close()"
   ]
  }
 ],
 "metadata": {
  "kernelspec": {
   "display_name": "Python 3",
   "language": "python",
   "name": "python3"
  },
  "language_info": {
   "codemirror_mode": {
    "name": "ipython",
    "version": 3
   },
   "file_extension": ".py",
   "mimetype": "text/x-python",
   "name": "python",
   "nbconvert_exporter": "python",
   "pygments_lexer": "ipython3",
   "version": "3.7.6"
  }
 },
 "nbformat": 4,
 "nbformat_minor": 4
}
