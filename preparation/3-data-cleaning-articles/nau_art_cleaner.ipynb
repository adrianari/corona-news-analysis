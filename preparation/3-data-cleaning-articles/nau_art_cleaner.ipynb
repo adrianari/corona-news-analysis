{
 "cells": [
  {
   "cell_type": "code",
   "execution_count": null,
   "metadata": {},
   "outputs": [],
   "source": [
    "import pandas as pd\n",
    "import numpy as np\n",
    "import pickle"
   ]
  },
  {
   "cell_type": "code",
   "execution_count": null,
   "metadata": {},
   "outputs": [],
   "source": [
    "df1 = pd.read_csv(\"nau_art1.csv\", delimiter = \"|\", header = None)\n",
    "df2 = pd.read_csv(\"nau_art2.csv\", delimiter = \"|\", header = None)\n",
    "df3 = pd.read_csv(\"nau_art3.csv\", delimiter = \"|\", header = None)\n",
    "df4 = pd.read_csv(\"nau_art4.csv\", delimiter = \"|\", header = None)\n",
    "\n",
    "frames = [df1, df2, df3, df4]\n",
    "\n",
    "df_main = pd.concat(frames, ignore_index= True)"
   ]
  },
  {
   "cell_type": "code",
   "execution_count": null,
   "metadata": {},
   "outputs": [],
   "source": [
    "#remove columns without title, text or url\n",
    "df_main = df_main.dropna(subset=[0])\n",
    "df_main = df_main.dropna(subset=[5])\n",
    "df_main = df_main.dropna(subset=[6])"
   ]
  },
  {
   "cell_type": "code",
   "execution_count": null,
   "metadata": {},
   "outputs": [],
   "source": [
    "#set date and remove all entries from 2021\n",
    "df_main[2] = df_main[2].str.replace(\"Januar\", \"01.\")\n",
    "df_main[2] = df_main[2].str.replace(\"Februar\", \"02.\")\n",
    "df_main[2] = df_main[2].str.replace(\"März\", \"03.\")\n",
    "df_main[2] = df_main[2].str.replace(\"April\", \"04.\")\n",
    "df_main[2] = df_main[2].str.replace(\"Mai\", \"05.\")\n",
    "df_main[2] = df_main[2].str.replace(\"Juni\", \"06.\")\n",
    "df_main[2] = df_main[2].str.replace(\"Juli\", \"07.\")\n",
    "df_main[2] = df_main[2].str.replace(\"August\", \"08.\")\n",
    "df_main[2] = df_main[2].str.replace(\"September\", \"09.\")\n",
    "df_main[2] = df_main[2].str.replace(\"Oktober\", \"10.\")\n",
    "df_main[2] = df_main[2].str.replace(\"November\", \"11.\")\n",
    "df_main[2] = df_main[2].str.replace(\"Dezember\", \"12.\")\n",
    "df_main[2] = df_main[2].str.replace(\" \", \"\")\n",
    "df_main[2] = pd.to_datetime(df_main[2], format=\"%d.%m.%Y\")\n",
    "df_main[7] = df_main[2].dt.year\n",
    "df_main = df_main[df_main[7] != 2021]\n",
    "df_main = df_main.drop([7], axis =1)"
   ]
  },
  {
   "cell_type": "code",
   "execution_count": null,
   "metadata": {},
   "outputs": [],
   "source": [
    "#drop duplicates\n",
    "df_main = df_main.drop_duplicates(keep = \"last\")"
   ]
  },
  {
   "cell_type": "code",
   "execution_count": null,
   "metadata": {},
   "outputs": [],
   "source": [
    "#extracting categories\n",
    "categories = df_main[6].str.split(\"/\",expand=True)\n",
    "categories[6] = categories[3].str.len()\n",
    "categories[7] = categories[6].astype(int)\n",
    "categories[8] = np.where(categories[7] < 20, categories[3],\"\")\n",
    "\n",
    "df_main[7] = categories[8]\n",
    "df_main[8] = categories[4]"
   ]
  },
  {
   "cell_type": "code",
   "execution_count": null,
   "metadata": {},
   "outputs": [],
   "source": [
    "df_main[9] = df_main[7]\n",
    "df_main[10] = df_main[8]"
   ]
  },
  {
   "cell_type": "code",
   "execution_count": null,
   "metadata": {},
   "outputs": [],
   "source": [
    "#resorts creation\n",
    "with open(\"ressorts_cat.bin\", \"rb\") as data:\n",
    "    ressorts = pickle.load(data)\n",
    "\n",
    "df_main[9].replace(ressorts, inplace=True)\n",
    "df_main[10].replace(ressorts, inplace=True)"
   ]
  },
  {
   "cell_type": "code",
   "execution_count": null,
   "metadata": {},
   "outputs": [],
   "source": [
    "#delete lines with non-speaking category indication\n",
    "with open(\"to_delete.bin\", \"rb\")as data:\n",
    "    to_delete = pickle.load(data)\n",
    "    \n",
    "df_main = df_main[~df_main[8].isin(to_delete)]\n",
    "df_main = df_main[~df_main[7].isin(to_delete)]"
   ]
  },
  {
   "cell_type": "code",
   "execution_count": null,
   "metadata": {},
   "outputs": [],
   "source": [
    "#avoid duplicated in category creation\n",
    "df_main[11] = np.where(df_main[9] == df_main[10], \"\", df_main[10])\n",
    "df_main = df_main.drop(columns = 10)"
   ]
  },
  {
   "cell_type": "code",
   "execution_count": null,
   "metadata": {},
   "outputs": [],
   "source": [
    "#reset index\n",
    "df_main.reset_index(drop=True)"
   ]
  },
  {
   "cell_type": "code",
   "execution_count": null,
   "metadata": {},
   "outputs": [],
   "source": [
    "df_main[12] = \"nau\"\n",
    "df_main[4] = df_main[4].str.replace(\"http\\S+\", \"\",regex = True)\n",
    "df_main[4] = df_main[4].str.replace(\"Bild\", \"\")"
   ]
  },
  {
   "cell_type": "code",
   "execution_count": null,
   "metadata": {},
   "outputs": [],
   "source": [
    "df_main.to_csv(\"nau_artikel.csv\", header = None, sep = \"|\", index = False)"
   ]
  }
 ],
 "metadata": {
  "kernelspec": {
   "display_name": "Python 3",
   "language": "python",
   "name": "python3"
  },
  "language_info": {
   "codemirror_mode": {
    "name": "ipython",
    "version": 3
   },
   "file_extension": ".py",
   "mimetype": "text/x-python",
   "name": "python",
   "nbconvert_exporter": "python",
   "pygments_lexer": "ipython3",
   "version": "3.8.5"
  }
 },
 "nbformat": 4,
 "nbformat_minor": 4
}
