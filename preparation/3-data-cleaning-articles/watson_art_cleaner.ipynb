{
 "cells": [
  {
   "cell_type": "code",
   "execution_count": 6,
   "metadata": {},
   "outputs": [],
   "source": [
    "import pandas as pd\n",
    "import pickle\n",
    "import numpy as np\n",
    "import re"
   ]
  },
  {
   "cell_type": "code",
   "execution_count": 7,
   "metadata": {},
   "outputs": [],
   "source": [
    "#setting up the mainframe\n",
    "df1 = pd.read_csv(\"watson_art1.csv\", delimiter = \"|\", header = None)\n",
    "df2 = pd.read_csv(\"watson_art2.csv\", delimiter = \"|\", header = None)\n",
    "df3 = pd.read_csv(\"watson_art3.csv\", delimiter = \"|\", header = None)\n",
    "df4 = pd.read_csv(\"watson_art4.csv\", delimiter = \"|\", header = None)\n",
    "\n",
    "frames = [df1, df2, df3, df4]\n",
    "df_main = pd.concat(frames, ignore_index= True)"
   ]
  },
  {
   "cell_type": "code",
   "execution_count": 8,
   "metadata": {},
   "outputs": [],
   "source": [
    "# drop duplicates\n",
    "df_main = df_main.drop_duplicates(keep = \"last\", ignore_index = True)"
   ]
  },
  {
   "cell_type": "code",
   "execution_count": 9,
   "metadata": {},
   "outputs": [],
   "source": [
    "#setting up cateogries\n",
    "category = df_main[5]\n",
    "caty = category.str.split(\"/\",expand=True,)\n",
    "df_main[6] = caty[3]\n",
    "df_main[7] = caty[4]"
   ]
  },
  {
   "cell_type": "code",
   "execution_count": 10,
   "metadata": {},
   "outputs": [],
   "source": [
    "#setting dates straight\n",
    "time_indy = df_main[2]\n",
    "time_indy = time_indy.str.split(\",\",expand=True)\n",
    "\n",
    "df_main[2] = time_indy[0]\n",
    "df_main[8] = time_indy[1]\n",
    "\n",
    "df_main[2] = pd.to_datetime(df_main[2], format=\"%d.%m.%y\")\n",
    "df_main[9] = df_main[2].dt.year\n",
    "\n",
    "df_main = df_main[df_main[9] != 2021]\n",
    "df_main = df_main.drop([9], axis = 1)\n",
    "df_main = df_main.reset_index(drop = True)"
   ]
  },
  {
   "cell_type": "code",
   "execution_count": 12,
   "metadata": {},
   "outputs": [],
   "source": [
    "#remove columns without title, text or url\n",
    "df_main = df_main.dropna(subset=[0])\n",
    "df_main = df_main.dropna(subset=[5])\n",
    "df_main = df_main.dropna(subset=[4])"
   ]
  },
  {
   "cell_type": "code",
   "execution_count": 13,
   "metadata": {},
   "outputs": [],
   "source": [
    "#reorder columns\n",
    "df_main = df_main[[0,1,2,8,3,4,5,6,7]]"
   ]
  },
  {
   "cell_type": "code",
   "execution_count": 14,
   "metadata": {},
   "outputs": [],
   "source": [
    "df_main[9] = df_main[6]\n",
    "df_main[10] = df_main[7]"
   ]
  },
  {
   "cell_type": "code",
   "execution_count": 15,
   "metadata": {},
   "outputs": [],
   "source": [
    "#replace topics with ressort-categories\n",
    "with open(\"ressorts_cat.bin\", \"rb\") as data:\n",
    "    ressorts = pickle.load(data)\n",
    "\n",
    "df_main[9].replace(ressorts, inplace=True)\n",
    "df_main[10].replace(ressorts, inplace=True)"
   ]
  },
  {
   "cell_type": "code",
   "execution_count": 16,
   "metadata": {},
   "outputs": [],
   "source": [
    "#cancel out doubles\n",
    "df_main[11] = np.where(df_main[9] == df_main[10], \"\", df_main[10])\n",
    "df_main = df_main.drop(columns = 10)"
   ]
  },
  {
   "cell_type": "code",
   "execution_count": 17,
   "metadata": {},
   "outputs": [],
   "source": [
    "#delete unworkables\n",
    "with open(\"to_delete.bin\", \"rb\")as data:\n",
    "    to_delete = pickle.load(data)\n",
    "    \n",
    "df_main = df_main[~df_main[8].isin(to_delete)]\n",
    "df_main = df_main[~df_main[7].isin(to_delete)]"
   ]
  },
  {
   "cell_type": "code",
   "execution_count": 18,
   "metadata": {},
   "outputs": [],
   "source": [
    "#watson often shows at the end of an article another article. As those texts are comprised in the same\n",
    "#css class, one cannot distinguish those in the scraper. Instead, it needs a manual inspection. Often, the same\n",
    "#articles are promotet in the same time span and as the scraping for watson was done within a couple of days,\n",
    "#so the diversity of the different promoted articles is relatively stron\n",
    "\n",
    "\n",
    "end_to_delete = [\"Hunderte Fasnächtlerinnen und Fasnächtler versammelten sich am Montag in Ensiedeln. Dazu gesellten sich zahlreiche Zuschauerinnen und Zuschauer. Zunächst schritt die Polizei nicht ein, verteilte dann aber vereinzelte Bussen. Hunderte Fasnächtlerinnen und Fasnächtler haben sich am Montag zum «Sühudiumzug» in Einsiedeln getroffen. Dies trotz strikter Corona-Massnahmen, die in der ganzen Schweiz gelten. «CH Media» berichtet von Tausenden Zuschauern, die dem Umzug im Schwyzer Pilgerort beiwohnten. Es habe kaum weniger Personen als in vergangenen Jahren gehabt. >> Coronavirus: Alle News im Liveticker  Die Schwyzer Polizei liess die Fasnächtlerinnen und Fasnächtler gewähren. Der Sprecher der Kapo Schwyz, David …\",\n",
    "                \"Alleine die beiden Firmen Pfizer und Moderna gehen von Umsätzen für die Coronavakzine von knapp 27 Milliarden Dollar aus. Derweil werden in ärmeren Ländern bis im Sommer nur gerade 3 Prozent der Bevölkerung geimpft. Viele wundern sich noch immer. In weniger als einem Jahr wurden mehrere Impfstoffe gegen Corona entwickelt. Der bisherige Rekord in der Herstellung eines Impfstoffs beträgt vier Jahre. Dabei geht vergessen, wie viel staatliche Gelder in die Entwicklung gesteckt wurden. Schätzungen gehen von 86.5 Milliarden Euro aus, wie eine Studie der Kenup Foundation zeigt, einer europäischen Nichtregierungsorganisation. Allein die USA haben über 13 Milliarden Dollar investiert, die EU und Grossbritannien …\",\n",
    "                \"Das Eishockey weltweit kämpft mit dem Coronavirus. Wie im Schweizer Eishockey kommt es auch in der NHL zu diversen Spielverschiebungen. Der Verdacht erhärtet sich, dass es auch auf dem Eis zu Übertragungen der Krankheit kommen kann. Nicht nur im Schweizer Eishockey, auch in der NHL stellt sich das Coronavirus als grosses Problem heraus. Rund 100 Spieler wurden bereits auf die Covid-19-Liste gesetzt, jüngst auch Nico Hischier. Das bedeutet nicht unbedingt, dass sie sich mit dem Virus infiziert haben, es kann auch sein, dass sie Kontakt hatten mit einer positiv getesteten Person oder aus anderen Gründen in Quarantäne mussten. Aktuell ist bei vier Teams der Spielbetrieb eingestellt: den New Jersey Devils, den Buffalo Sabres, …\",\n",
    "                \"Mit 117 Jahren führt sie die Liste der ältesten Frauen Europas an – und hat gerade erst eine Infektion mit dem Coronavirus überstanden. Schwester André feierte am Donnerstag ihren Geburtstag in einem Altersheim in Toulon in Südfrankreich. Sie habe am Morgen mit ihrer Familie per Videokonferenz sprechen können, sagte David Tavella, Kommunikationsdirektor des Heims, der Deutschen Presse-Agentur in Paris. Später sei der Bischof von Toulon gekommen. Schwester André habe dann an einer Messe in …\",\n",
    "                \"Ein beträchtlicher Teil der Schweizer Bevölkerung will bei der Corona-Impfung zuwarten oder lehnt sie ganz ab. Die Skeptiker vergessen, wie segensreich Impfungen für die Menschheit waren. Und was auf dem Spiel steht. Bundeshaus in Bern während der Wintersession im Dezember. Zufällige Begegnung in der Wandelhalle mit einem Bundesrats-Mitarbeiter. Er erzählte mir eine Episode, die mir zu denken gab. Bei einer Visite mit seiner kleinen Tochter bei der Kinderärztin habe diese ihm und seiner Frau dafür gedankt, dass sie ihren Nachwuchs bedenken- und diskussionslos impfen liessen. >> Coronavirus: Alle News im Liveticker  Das sei heute nicht mehr selbstverständlich, habe die Ärztin gesagt. Etwa mit der …\",\n",
    "                \"Reiche Industrienationen dürften ihre Bevölkerung bereits dieses Jahr durchgeimpft haben. Dabei macht der Alleingang westlicher Nationen weder ethisch, noch gesundheitlich, noch wirtschaftlich Sinn. Wenige haben es geglaubt, nun ist es Realität: Nach nicht einmal 12 Monaten Pandemie gibt es bereits eine Handvoll an Impfstoffen, die gegen Covid-19 eingesetzt werden können.  Bei aller Freude über dieses medizinische Wunder scheint jedoch vergessen zu gehen, dass Impfstoffe alleine keine Pandemien stoppen. Sie in die Arme der Menschen zu spritzen hingegen schon. Und zwar in die Arme möglichst aller Menschen in allen Ländern, sonst gibt es keine Herdenimmunität und ohne Herdenimmunität kein …\",\n",
    "                \"Europäische Staaten erleichtern das Reisen für Geimpfte. Auch der Kanton Graubünden bevorteilt immune Personen, eine Schweizer Strategie gibt's aber noch nicht. Wetten, dass Sie im Sommer nicht nach Italien in die Ferien reisen, ohne gegen Covid-19 geimpft zu sein? Und ohne Impfpass auch nicht nach Neuseeland fliegen, das argwöhnisch darüber wacht, keine Infizierten ins Land zu lassen? Eine Reise- und Quarantänefreiheit wird im Sommer ohne Impfung wohl kaum zu haben sein. In diese Richtung zeigen die Meldungen, welche dieser Tage beispielsweise in den britischen Medien zu lesen sind. Demnach denkt die britische Regierung über Impfpässe nach, die es …\",\n",
    "                \"Covid-19, die vom neuartigen Coronavirus SARS-CoV-2 verursachte Erkrankung, und die saisonale Grippe, fachsprachlich Influenza genannt, haben einiges gemeinsam: Beide sind Atemwegserkrankungen, die von einem Virus verursacht werden, beide werden hauptsächlich über Tröpfcheninfektion oder direkten Kontakt verbreitet, beide weisen sehr unterschiedliche Schweregrade auf, die von symptomlosen oder milden Formen bis zu lebensbedrohlichen oder gar tödlichen Verläufen reichen.  Allerdings gibt es auch …\",\n",
    "                \"Die Schweiz stimmt über ein Verhüllungsverbot ab in einer Zeit, in der wir uns alle verhüllen. Die Initiative erlaubt das explizit, weshalb Kritiker sie als heuchlerisch bezeichnen. Als Karin Keller-Sutter (FDP) am 19. Januar vor den Medien das Nein des Bundesrats zur Volksinitiative des Egerkinger Komitees begründete, trug sie einen Mundschutz. Farbe und Muster waren auf ihren Blazer abgestimmt. Es war wohl primär ein modisches Statement der St. Gallerin, aber eigentlich unterstrich sie damit einen wesentlichen Grund für ein Nein. Die Abstimmung über das Verhüllungsverbot findet in einer Zeit statt, in der wir uns alle verhüllen. In öffentlich zugänglichen Innenräumen …\",\n",
    "                \"Die EU hat den Impfstart verschlafen: Zu wenig Impfstoff, zu spät bestellt, zu wenig Geld auf den Tisch geblättert – die Klagen gegen die EU sind mannigfaltig. Die EU-Kommissionspräsidentin Ursula von der Leyen musste am Sonntag im «ZDF Heute Journal» dem Moderator Claus Kleber Rede und Antwort stehen. Wie könne es sein, dass die USA und Grossbritannien die EU abgehängt haben? Notabene zwei Regierungen, die von (ehemaligen) Corona-Skeptikern angeführt wurden? Von der Leyen entgegnete: «Dann …\",\n",
    "                \"20 Jahre lang hat niemand an Katalin Karikós Forschungen geglaubt, weitergemacht hat die Biochemikerin trotzdem. Dank ihrer Beharrlichkeit haben wir nun einen Impfstoff gegen Covid-19. Den Nobelpreis dafür will sie aber trotzdem nicht unbedingt.  Katalin Karikó hat sich noch nie darauf versteift, was andere denken oder tun. Hätte sie es getan, würde sie heute nicht als die Mutter der mRNA-Technik gefeiert.  Es ist jener unerschütterliche Glaube an die Sache und an die eigene Fähigkeit, eines Tages ihre Nützlichkeit beweisen zu können. Diese stille Beharrlichkeit, die nichts braucht ausser Zeit und immer wieder neuen Anläufen, die Karikó zu einer so wahrhaften Wissenschaftlerin machen.  Ein bisschen erinnert sie an Marie Curie, wie sie …\",\n",
    "                \"Dieser Text hat etwas Paradoxes: Er informiert dich, liebe Leserin, lieber Leser, über eine der zahlreichen Gefahren der Corona-Pandemie, nämlich jene, dass zu viel Information über die Corona-Pandemie schädlich sein kann. Du bist also gewarnt – wenn du weiterlesen willst, geschieht dies auf dein eigenes Risiko.  In Panik verfallen und diesen Beitrag aus Sorge über dein Wohlergehen gleich wieder wegklicken musst du gleichwohl nicht. Nur wenn du dir jeden Tag mindestens drei Stunden lang …\",\n",
    "                \"Walter Krämer erzählt, wie mit fragwürdigen Studien Panik gemacht wird, während wir uns eigentlich vor ganz anderen Dingen fürchten sollten. Herr Krämer, Sie sind Professor für Wirtschafts- und Sozialstatistik und entlarven als solcher gern zwielichtige Datenanalysen. Haben Sie derzeit eine Lieblingsstatistik? Walter Krämer: Ja. Das ist die Tabelle der Fussball-Bundesliga. Ich wohne direkt neben dem BVB-Stadion und bin seit mehr als einem Dutzend Jahren BVB-Aktionär. Sie haben die Deutschen mal als «Volk von Innummeraten» (Zahlen-Analphabeten) bezeichnet und ihre bedauerliche Schwäche Goethe, dem dichtenden …\",\n",
    "                \"Restaurantbesuche, Kinoabende, Reisen: Sollen Geimpfte dürfen, was anderen in der Corona-Pandemie noch versagt ist? In der Schweiz steht man dem eher kritisch gegenüber, doch in einigen europäischen Ländern ist das bereits Realität. Ein kleiner Überblick. Dänemark legte vergangene Woche Pläne für einen digitalen Ausweis mit Impfdaten vor, um Dienstreisen in Corona-Zeiten zu erleichtern - und letztlich vielleicht auch die sorgenfreie Teilnahme an Konzerten oder Sportveranstaltungen zu …\",\n",
    "                \"Momentan werden fast nur Erwachsene gegen das Coronavirus geimpft. Nun laufen erste Tests für die Corona-Impfung für Jugendliche. Das Wichtigste in 5 Punkten. Zähe zieht sich der Winter dahin. Obschon die Corona-Fallzahlen weiter sinken, wird es wohl noch eine Weile dauern, bis wieder Normalität einkehrt. Zwar ist die Impfkampagne angelaufen, bis jedoch jeder geimpft werden kann, der es möchte, wird es noch mindestens bis im Frühsommer dauern.  Um das Coronavirus endgültig zu besiegen, braucht es eine «Herdenimmunität». Ging man zunächst davon aus, dass dafür rund 60 bis 70 Prozent der Bevölkerung immun sein muss, rechnet man mittlerweile mit 70 …\",\n",
    "                \"Donald Trumps Amtszeit war geprägt von Lügen, Korruption und der Anstiftung zur Gewalt. Vier turbulente Trump-Jahre im Spiegel der Karikaturisten. Hinweis für die geschätzten User und Userinnen: Wenn die Tweets in diesem Artikel nicht sofort angezeigt werden, zähle wahlweise laut oder leise auf fünf und scrolle erst dann weiter. Donald Trump verliert mit Joe Bidens Amtseinführung seine Immunität, er kann somit vor ein ordentliches Gericht gestellt werden. Beobachter glauben aber, dass er eher nicht ins Gefängnis muss. Ungemütlich wird es für ihn trotzdem. Viele Fälle sind noch offen: Amtsmissbrauch, Behinderung der Justiz und diverse …\",\n",
    "                \"In der Schweiz sind Lockerungen derzeit noch nicht in Sicht. Das hat Bundesrat Alain Berset an der gestrigen Medienkonferenz noch einmal betont. Anders sieht es im nahen Ausland aus. Dort haben einige Länder ihre Massnahmen teilweise entschärft. Und das, obwohl etwa in Italien die Wochen-Inzidenz höher ist als hierzulande. Anders sieht es in Polen aus: Dort lockert man trotz tieferer Inzidenz eher zurückhaltend. In Österreich kommt es gar zu Lockerungen und Verschärfungen zugleich.  So sieht die …\",\n",
    "                \"Auf einem verschneiten Golfplatz in Helsinki ist ein atemberaubendes Schneespektakel in den Boden gestampft worden.  Man glaub es kaum: Dieses Mandala im Schnee ist nicht maschinell eingestampft worden. Eine Reihe von Freiwilligen ist für das geometrische Schneekunstwerk verantwortlich. Die Gruppe folgte einer ausgedruckten Karte und benutzte Seile, um auf dem schneebedeckten Golfplatz in Helsinki perfekte Kreise nachzuzeichnen.  Der Zeitaufwand für die riesige Schneeflocke mit einem Durchmesser von 160 Metern war entsprechend gross. Ganze drei Stunden bei -10 Grad sei die Gruppe dafür auf dem verschneiten …\",\n",
    "                \"Alle Erkenntnisse über den Ursprung des Coronavirus Sars-CoV-2 deuten nach Angaben von Experten der Weltgesundheitsorganisation (WHO) auf ähnliche Viren in Fledermäusen. Nach Abschluss der gemeinsam mit chinesischen Experten vorgenommenen Untersuchungen in der Metropole Wuhan in Zentralchina sagte der Chef des Teams, Peter Ben Embarek, am Dienstag vor Journalisten, der «wahrscheinlichste Weg» der Übertragung auf den Menschen sei von Fledermäusen ausgehend über ein anderes Tier als …\",\n",
    "                \"Das Pflegepersonal ist am Anschlag und drei Chefärzte kritisieren die Politik. Wie bedroht ist das Schweizer Gesundheitswesen durch das Coronavirus? Drei Chefärzte in leitender Position in den drei grössten Spitälern des Kantons Zürich wehren sich gegen die aktuelle Corona-Politik des Bundes und der Kantone. Die grundsätzliche Einschätzung zusammengefasst: Bei den drei Ärzten handelt es sich um Urs Karrer, Chefarzt Infektiologie am Kantonsspital Winterthur, Professor Huldrych Günthard, stellvertretender Direktor an der Klinik für Infektionskrankheiten am Unispital Zürich und Gerhard Eich, Chef-Infektiologe am Triemli. Sie meldeten sich diese …\",\n",
    "                \"In Bern macht eine Gruppe von Corona-Skeptikern Schulhäuser unsicher, dringt ohne Maske in Lehrerzimmer ein und verteilt Flyer mit Falschinformationen. Hinter der Aktion steckt ein bekannter Berner Verschwörungs-Anhänger. Jetzt greift die Polizei durch.  Corona-Leugner machen inzwischen selbst vor Kindern nicht Halt. In Bern sind seit letzter Woche Covid-Skeptiker in mehrere Schulhäuser eingedrungen und haben Corona-Falschinformationen verbreitet. «Sie haben Flyer an die Schüler verteilt und sind ohne Schutzmaske in das Lehrerzimmer eingedrungen. Das ist total daneben», sagt Giuliano Picciati, Leiter der Schule Munzinger im Berner Mattenhof-Quartier. Nachdem er von Lehrern alarmiert worden sei, habe er die Eindringlinge vom Schulhausplatz …\",\n",
    "                \"Die Online-Petition gegen den Lockdown hat bereits mehr als 170'000 Unterzeichnende. Recherchen von watson zeigen, dass diese Zahl mit Vorsicht zu geniessen ist. Das Generalsekretariat der SVP Schweiz beschwichtigt. Die Online-Petition lockdown-stop.ch sorgt wegen der relativ hohen Zahl von Unterzeichnenden für Schlagzeilen. Dass innert drei Wochen über 100'000 Personen Unterstützung signalisierten, stiess aber auch auf Misstrauen.  Recherchen von watson zeigen nun: Die von rechtsbürgerlicher Seite lancierte Online-Petition  konnte einfach manipuliert werden, um die Zahl der Unterzeichnenden in die Höhe zu treiben. Das Generalsekretariat der SVP Schweiz versuchte am Mittwoch, den Manipulationsverdacht zu …\",\n",
    "                \"War das fasnächtliche Treiben in Einsiedeln gestern einigermassen unter Kontrolle, musste in der Nacht ein grösseres Polizeiaufgebot ausrücken. 5 Punkte zum Fasnacht-Debakel. Schon gestern morgen zeichnete sich grosse Fasnachts-Lust ab als Hunderte von Menschen nach Einsiedeln pilgerten, um dort am «Suhüdiumzug» teilzunehmen. Die Schwyzer Polizei lässt sie zuerst gewähren – da es sich um keine Veranstaltung handle – greift dann aber nach Verstössen gegen die Masken- und Abstandspflicht ein. Um 13:22 Uhr ruft die Schwyzer Polizei die Menschen auf, Ansammlungn zu meiden und auf fasnächtliches Treiben zu verzichten: Vergebens. Die Neuigkeiten über den «Suhüdiumzug» …\",\n",
    "                \"Bereits im Juni schlug die Taskforce vor, flächendeckende Sequenzierungen vorzunehmen. Das BAG setzte den Vorschlag jedoch nicht um. Weshalb, will das BAG nicht sagen. Vor 22 Tagen beschloss der Bundesrat strikte Massnahmen im Kampf gegen das Coronavirus. Die neuen Regeln sind einschneidend: Schweizerinnen und Schweizer dürfen sich höchstens noch in Gruppen von fünf Personen treffen, Einkaufsläden bleiben bis mindestens Ende Februar zu. Vielleicht sogar noch länger. Bundesrat Alain Berset sagte diesen Mittwoch in Bern: «Man kann nicht davon ausgehen, dass Ende Februar grossflächige Lockerungen möglich sind.» Der Grund für die Massnahmen: Das Coronavirus ist …\"\n",
    "                ]"
   ]
  },
  {
   "cell_type": "code",
   "execution_count": 19,
   "metadata": {},
   "outputs": [
    {
     "name": "stderr",
     "output_type": "stream",
     "text": [
      "/snap/jupyter/6/lib/python3.7/site-packages/ipykernel_launcher.py:2: FutureWarning: The default value of regex will change from True to False in a future version.\n",
      "  \n"
     ]
    }
   ],
   "source": [
    "for element in end_to_delete:\n",
    "    df_main[4] = df_main[4].str.replace(element, \"\")"
   ]
  },
  {
   "cell_type": "code",
   "execution_count": 20,
   "metadata": {
    "scrolled": false
   },
   "outputs": [],
   "source": [
    "restliches_or = df_main[4].str.rsplit(\"(\", expand=True, n=1)\n",
    "restliches = restliches_or[1].str.rsplit(\")\", expand=True, n=1)"
   ]
  },
  {
   "cell_type": "code",
   "execution_count": 21,
   "metadata": {},
   "outputs": [],
   "source": [
    "restliches[2] = np.where(restliches[1] == \" \", restliches[0], df_main[3])"
   ]
  },
  {
   "cell_type": "code",
   "execution_count": 22,
   "metadata": {},
   "outputs": [],
   "source": [
    "restliches[3] = np.where(restliches[2].str.len() < 20, restliches[2], df_main[3])"
   ]
  },
  {
   "cell_type": "code",
   "execution_count": 23,
   "metadata": {},
   "outputs": [],
   "source": [
    "restliches_or[2] = restliches[0]\n",
    "restliches_or[3] = restliches[1]\n",
    "restliches_or[4] = df_main[4]\n",
    "df_main[4] = np.where(restliches_or[3] == \" \", restliches_or[0], df_main[4])"
   ]
  },
  {
   "cell_type": "code",
   "execution_count": 24,
   "metadata": {},
   "outputs": [],
   "source": [
    "df_main[3] = restliches[3]\n",
    "df_main[4] = df_main[4].str.strip()\n"
   ]
  },
  {
   "cell_type": "code",
   "execution_count": 25,
   "metadata": {},
   "outputs": [],
   "source": [
    "df_main[4] = df_main[4].str.replace(\"http\\S+\", \"\",regex = True)\n",
    "df_main[4] = df_main[4].str.replace(\"Bild\", \"\")"
   ]
  },
  {
   "cell_type": "code",
   "execution_count": 26,
   "metadata": {},
   "outputs": [],
   "source": [
    "df_main[12] = \"watson\""
   ]
  },
  {
   "cell_type": "code",
   "execution_count": 28,
   "metadata": {},
   "outputs": [],
   "source": [
    "df_main.to_csv(\"watson_artikel.csv\", header = None, sep = \"|\", index = False)"
   ]
  },
  {
   "cell_type": "code",
   "execution_count": 27,
   "metadata": {},
   "outputs": [
    {
     "data": {
      "text/html": [
       "<div>\n",
       "<style scoped>\n",
       "    .dataframe tbody tr th:only-of-type {\n",
       "        vertical-align: middle;\n",
       "    }\n",
       "\n",
       "    .dataframe tbody tr th {\n",
       "        vertical-align: top;\n",
       "    }\n",
       "\n",
       "    .dataframe thead th {\n",
       "        text-align: right;\n",
       "    }\n",
       "</style>\n",
       "<table border=\"1\" class=\"dataframe\">\n",
       "  <thead>\n",
       "    <tr style=\"text-align: right;\">\n",
       "      <th></th>\n",
       "      <th>0</th>\n",
       "      <th>1</th>\n",
       "      <th>2</th>\n",
       "      <th>8</th>\n",
       "      <th>3</th>\n",
       "      <th>4</th>\n",
       "      <th>5</th>\n",
       "      <th>6</th>\n",
       "      <th>7</th>\n",
       "      <th>9</th>\n",
       "      <th>11</th>\n",
       "      <th>12</th>\n",
       "    </tr>\n",
       "  </thead>\n",
       "  <tbody>\n",
       "    <tr>\n",
       "      <th>0</th>\n",
       "      <td>PIMS: Die Corona-Folge bei Kindern und was du ...</td>\n",
       "      <td>Das PIM-Syndrom ist eine Spätfolge von Covid-1...</td>\n",
       "      <td>2020-12-31</td>\n",
       "      <td>17:33</td>\n",
       "      <td>Agentur</td>\n",
       "      <td>Hohes Fieber während mehrerer Tage ist ein kla...</td>\n",
       "      <td>https://www.watson.ch/schweiz/wissen/757130367...</td>\n",
       "      <td>schweiz</td>\n",
       "      <td>wissen</td>\n",
       "      <td>schweiz</td>\n",
       "      <td>wissenschaft</td>\n",
       "      <td>watson</td>\n",
       "    </tr>\n",
       "    <tr>\n",
       "      <th>1</th>\n",
       "      <td>So hat sich die (falsche) Meldung über den «Im...</td>\n",
       "      <td>NaN</td>\n",
       "      <td>2020-12-31</td>\n",
       "      <td>14:10</td>\n",
       "      <td>Agentur</td>\n",
       "      <td>Diese Woche meldeten diverse Medien, dass ein ...</td>\n",
       "      <td>https://www.watson.ch/schweiz/luzern/178864959...</td>\n",
       "      <td>schweiz</td>\n",
       "      <td>luzern</td>\n",
       "      <td>schweiz</td>\n",
       "      <td>lokales</td>\n",
       "      <td>watson</td>\n",
       "    </tr>\n",
       "    <tr>\n",
       "      <th>2</th>\n",
       "      <td>Wir haben es schon fast vergessen: So locker w...</td>\n",
       "      <td>Die Fallzahlen waren im Sommer so tief, dass w...</td>\n",
       "      <td>2020-12-31</td>\n",
       "      <td>13:39</td>\n",
       "      <td>cki</td>\n",
       "      <td>Die Fallzahlen waren im Sommer so tief, dass w...</td>\n",
       "      <td>https://www.watson.ch/schweiz/coronavirus/4182...</td>\n",
       "      <td>schweiz</td>\n",
       "      <td>coronavirus</td>\n",
       "      <td>schweiz</td>\n",
       "      <td>nachrichten</td>\n",
       "      <td>watson</td>\n",
       "    </tr>\n",
       "    <tr>\n",
       "      <th>3</th>\n",
       "      <td>Hier ist es: Das neue Bundesratsfoto! Wir habe...</td>\n",
       "      <td>Das Bundesratsfoto 2021 ist da. Es zeigt die S...</td>\n",
       "      <td>2020-12-31</td>\n",
       "      <td>12:00</td>\n",
       "      <td>Agentur</td>\n",
       "      <td>Das Bundesratsfoto 2021 ist da. Es zeigt die S...</td>\n",
       "      <td>https://www.watson.ch/schweiz/analyse/57111059...</td>\n",
       "      <td>schweiz</td>\n",
       "      <td>analyse</td>\n",
       "      <td>schweiz</td>\n",
       "      <td>vermischtes</td>\n",
       "      <td>watson</td>\n",
       "    </tr>\n",
       "    <tr>\n",
       "      <th>4</th>\n",
       "      <td>Heute vor einem Jahr wurde gemeldet: «Mysteriö...</td>\n",
       "      <td>«Mysteriöse Lungenkrankheit in Wuhan ausgebroc...</td>\n",
       "      <td>2020-12-31</td>\n",
       "      <td>10:38</td>\n",
       "      <td>Agentur</td>\n",
       "      <td>Hier soll alles seinen Lauf genommen haben: de...</td>\n",
       "      <td>https://www.watson.ch/schweiz/medien/984670088...</td>\n",
       "      <td>schweiz</td>\n",
       "      <td>medien</td>\n",
       "      <td>schweiz</td>\n",
       "      <td>kultur</td>\n",
       "      <td>watson</td>\n",
       "    </tr>\n",
       "    <tr>\n",
       "      <th>...</th>\n",
       "      <td>...</td>\n",
       "      <td>...</td>\n",
       "      <td>...</td>\n",
       "      <td>...</td>\n",
       "      <td>...</td>\n",
       "      <td>...</td>\n",
       "      <td>...</td>\n",
       "      <td>...</td>\n",
       "      <td>...</td>\n",
       "      <td>...</td>\n",
       "      <td>...</td>\n",
       "      <td>...</td>\n",
       "    </tr>\n",
       "    <tr>\n",
       "      <th>3098</th>\n",
       "      <td>Ausbreitung grösser als angenommen? 17 neue Fä...</td>\n",
       "      <td>NaN</td>\n",
       "      <td>2020-01-19</td>\n",
       "      <td>07:28</td>\n",
       "      <td>sda/dpa</td>\n",
       "      <td>Mehr Fälle als bisher angenommen: Chinesen sch...</td>\n",
       "      <td>https://www.watson.ch/international/wissen/818...</td>\n",
       "      <td>international</td>\n",
       "      <td>wissen</td>\n",
       "      <td>international</td>\n",
       "      <td>wissenschaft</td>\n",
       "      <td>watson</td>\n",
       "    </tr>\n",
       "    <tr>\n",
       "      <th>3099</th>\n",
       "      <td>Vier neue Fälle der rätselhaften Lungenkrankhe...</td>\n",
       "      <td>NaN</td>\n",
       "      <td>2020-01-18</td>\n",
       "      <td>12:55</td>\n",
       "      <td>sda/dpa</td>\n",
       "      <td>Eine Reisende mit Atemschutzmaske in Peking. :...</td>\n",
       "      <td>https://www.watson.ch/international/china/3787...</td>\n",
       "      <td>international</td>\n",
       "      <td>china</td>\n",
       "      <td>international</td>\n",
       "      <td></td>\n",
       "      <td>watson</td>\n",
       "    </tr>\n",
       "    <tr>\n",
       "      <th>3100</th>\n",
       "      <td>Mysteriöse Lungenkrankheit: Zweiter Todesfall ...</td>\n",
       "      <td>NaN</td>\n",
       "      <td>2020-01-17</td>\n",
       "      <td>06:47</td>\n",
       "      <td>sda/dpa</td>\n",
       "      <td>In China ist ein zweiter Patient an einer myst...</td>\n",
       "      <td>https://www.watson.ch/international/china/2106...</td>\n",
       "      <td>international</td>\n",
       "      <td>china</td>\n",
       "      <td>international</td>\n",
       "      <td></td>\n",
       "      <td>watson</td>\n",
       "    </tr>\n",
       "    <tr>\n",
       "      <th>3101</th>\n",
       "      <td>Mysteriöse neue Lungenkrankheit fordert erstes...</td>\n",
       "      <td>NaN</td>\n",
       "      <td>2020-01-11</td>\n",
       "      <td>06:54</td>\n",
       "      <td>sda/dpa</td>\n",
       "      <td>Erstmals ist ein Patient an der rätselhaften n...</td>\n",
       "      <td>https://www.watson.ch/international/gesundheit...</td>\n",
       "      <td>international</td>\n",
       "      <td>gesundheit</td>\n",
       "      <td>international</td>\n",
       "      <td>vermischtes</td>\n",
       "      <td>watson</td>\n",
       "    </tr>\n",
       "    <tr>\n",
       "      <th>3102</th>\n",
       "      <td>Steckt ein neuer Virustyp hinter der rätselhaf...</td>\n",
       "      <td>Die Ausbreitung einer mysteriösen Lungenkrankh...</td>\n",
       "      <td>2020-01-09</td>\n",
       "      <td>07:37</td>\n",
       "      <td>bzbasel.ch</td>\n",
       "      <td>Die Ausbreitung einer mysteriösen Lungenkrankh...</td>\n",
       "      <td>https://www.watson.ch/international/china/4712...</td>\n",
       "      <td>international</td>\n",
       "      <td>china</td>\n",
       "      <td>international</td>\n",
       "      <td></td>\n",
       "      <td>watson</td>\n",
       "    </tr>\n",
       "  </tbody>\n",
       "</table>\n",
       "<p>3044 rows × 12 columns</p>\n",
       "</div>"
      ],
      "text/plain": [
       "                                                     0   \\\n",
       "0     PIMS: Die Corona-Folge bei Kindern und was du ...   \n",
       "1     So hat sich die (falsche) Meldung über den «Im...   \n",
       "2     Wir haben es schon fast vergessen: So locker w...   \n",
       "3     Hier ist es: Das neue Bundesratsfoto! Wir habe...   \n",
       "4     Heute vor einem Jahr wurde gemeldet: «Mysteriö...   \n",
       "...                                                 ...   \n",
       "3098  Ausbreitung grösser als angenommen? 17 neue Fä...   \n",
       "3099  Vier neue Fälle der rätselhaften Lungenkrankhe...   \n",
       "3100  Mysteriöse Lungenkrankheit: Zweiter Todesfall ...   \n",
       "3101  Mysteriöse neue Lungenkrankheit fordert erstes...   \n",
       "3102  Steckt ein neuer Virustyp hinter der rätselhaf...   \n",
       "\n",
       "                                                     1          2        8   \\\n",
       "0     Das PIM-Syndrom ist eine Spätfolge von Covid-1... 2020-12-31   17:33    \n",
       "1                                                   NaN 2020-12-31   14:10    \n",
       "2     Die Fallzahlen waren im Sommer so tief, dass w... 2020-12-31   13:39    \n",
       "3     Das Bundesratsfoto 2021 ist da. Es zeigt die S... 2020-12-31   12:00    \n",
       "4     «Mysteriöse Lungenkrankheit in Wuhan ausgebroc... 2020-12-31   10:38    \n",
       "...                                                 ...        ...      ...   \n",
       "3098                                                NaN 2020-01-19   07:28    \n",
       "3099                                                NaN 2020-01-18   12:55    \n",
       "3100                                                NaN 2020-01-17   06:47    \n",
       "3101                                                NaN 2020-01-11   06:54    \n",
       "3102  Die Ausbreitung einer mysteriösen Lungenkrankh... 2020-01-09   07:37    \n",
       "\n",
       "              3                                                  4   \\\n",
       "0        Agentur  Hohes Fieber während mehrerer Tage ist ein kla...   \n",
       "1        Agentur  Diese Woche meldeten diverse Medien, dass ein ...   \n",
       "2            cki  Die Fallzahlen waren im Sommer so tief, dass w...   \n",
       "3        Agentur  Das Bundesratsfoto 2021 ist da. Es zeigt die S...   \n",
       "4        Agentur  Hier soll alles seinen Lauf genommen haben: de...   \n",
       "...          ...                                                ...   \n",
       "3098     sda/dpa  Mehr Fälle als bisher angenommen: Chinesen sch...   \n",
       "3099     sda/dpa  Eine Reisende mit Atemschutzmaske in Peking. :...   \n",
       "3100     sda/dpa  In China ist ein zweiter Patient an einer myst...   \n",
       "3101     sda/dpa  Erstmals ist ein Patient an der rätselhaften n...   \n",
       "3102  bzbasel.ch  Die Ausbreitung einer mysteriösen Lungenkrankh...   \n",
       "\n",
       "                                                     5              6   \\\n",
       "0     https://www.watson.ch/schweiz/wissen/757130367...        schweiz   \n",
       "1     https://www.watson.ch/schweiz/luzern/178864959...        schweiz   \n",
       "2     https://www.watson.ch/schweiz/coronavirus/4182...        schweiz   \n",
       "3     https://www.watson.ch/schweiz/analyse/57111059...        schweiz   \n",
       "4     https://www.watson.ch/schweiz/medien/984670088...        schweiz   \n",
       "...                                                 ...            ...   \n",
       "3098  https://www.watson.ch/international/wissen/818...  international   \n",
       "3099  https://www.watson.ch/international/china/3787...  international   \n",
       "3100  https://www.watson.ch/international/china/2106...  international   \n",
       "3101  https://www.watson.ch/international/gesundheit...  international   \n",
       "3102  https://www.watson.ch/international/china/4712...  international   \n",
       "\n",
       "               7              9             11      12  \n",
       "0          wissen        schweiz  wissenschaft  watson  \n",
       "1          luzern        schweiz       lokales  watson  \n",
       "2     coronavirus        schweiz   nachrichten  watson  \n",
       "3         analyse        schweiz   vermischtes  watson  \n",
       "4          medien        schweiz        kultur  watson  \n",
       "...           ...            ...           ...     ...  \n",
       "3098       wissen  international  wissenschaft  watson  \n",
       "3099        china  international                watson  \n",
       "3100        china  international                watson  \n",
       "3101   gesundheit  international   vermischtes  watson  \n",
       "3102        china  international                watson  \n",
       "\n",
       "[3044 rows x 12 columns]"
      ]
     },
     "execution_count": 27,
     "metadata": {},
     "output_type": "execute_result"
    }
   ],
   "source": [
    "df_main"
   ]
  },
  {
   "cell_type": "code",
   "execution_count": null,
   "metadata": {},
   "outputs": [],
   "source": []
  }
 ],
 "metadata": {
  "kernelspec": {
   "display_name": "Python 3",
   "language": "python",
   "name": "python3"
  },
  "language_info": {
   "codemirror_mode": {
    "name": "ipython",
    "version": 3
   },
   "file_extension": ".py",
   "mimetype": "text/x-python",
   "name": "python",
   "nbconvert_exporter": "python",
   "pygments_lexer": "ipython3",
   "version": "3.8.5"
  }
 },
 "nbformat": 4,
 "nbformat_minor": 4
}
