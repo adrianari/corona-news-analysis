{
 "cells": [
  {
   "cell_type": "markdown",
   "metadata": {},
   "source": [
    "# News departments / ressort creation\n",
    "\n",
    "The below code groups and summarizes the different categories the articles and comments were published in. Despite the consultation of several sources, the classification underlies no strict methodical method, thus heuristic influence cannot be excluded for the grouping.\n",
    "\n",
    "Input: None\n",
    "\n",
    "Output: Two files, ressorts_cat.bin and to_delete.bin, that both will be needed for data cleaning (meaning for the scripts in the folders \"3-data-cleaning-articles\" and \"4-data-cleaning-comments\"."
   ]
  },
  {
   "cell_type": "code",
   "execution_count": null,
   "metadata": {},
   "outputs": [],
   "source": [
    "#library loading\n",
    "import pickle"
   ]
  },
  {
   "cell_type": "code",
   "execution_count": 2,
   "metadata": {},
   "outputs": [],
   "source": [
    "#re-classification and grouping of the categories given in the URLs of the texts to ressorts / departments\n",
    "\n",
    "myDict = {}\n",
    "\n",
    "for key in [\"ausland\", \"international\", \"welt\", \"europa\", \"amerika\", \"china\", \"osterreich\", \"deutschland\", \"frankreich\",\n",
    "           \"italien\", \"usa\", \"%C3%96sterreich\", \"indien\", \"grossbritannien\", \"brasilien\", \"spanien\", \"israel\",\n",
    "           \"japan\", \"s%C3%BCdafrika\", \"afrika\", \"england\", \"australien\", \"lateinamerika\", \"iran\", \"russland\",\n",
    "           \"skandinavien\", \"eu\", \"uno\", \"asien\", \"griechenland\", \"mexiko\", \"us-wahlen\"]:\n",
    "    myDict[key] = \"international\"\n",
    "    \n",
    "for key in [\"schweiz\", \"inland-schweiz\", \"swiss\", \"sbb\", \"coop\"]:\n",
    "    myDict[key] = \"schweiz\"\n",
    "    \n",
    "for key in [\"wirtschaft\", \"finanzen\", \"credit%20suisse\", \"money%20matter\", \"tesla\", \"konsum%20-%20detailhandel\"]:\n",
    "    myDict[key] = \"wirtschaft\"\n",
    "\n",
    "for key in [\"sport\", \"fussball\", \"ski\", \"eishockey\", \"baseball\", \"motorsport\", \"american-football\", \"basketball\",\n",
    "           \"formel1\", \"handball\", \"wintersport\", \"tennis\", \"beachvolley\", \"mehr_sport\", \"schwingen\", \"boxen\",\n",
    "           \"rad\", \"schwimmen\", \"olympia\", \"kampfsport\", \"leichtathletik\", \"unihockey\", \"sport-flash\", \"triathlon\", \n",
    "            \"volleyball\", \"fussball-int\", \"us-sport\", \"leichtathletik\", \"curling\", \"orientierungslauf\", \"evz\",\n",
    "           \"regio-sport\", \"fcluzern\", \"motor\", \"velo\", \"nfl\", \"nba\", \"juventus%20turin\", \"olympia%202020\", \"premier%20league\",\n",
    "           \"gc\", \"eismeister%20zaugg\", \"snowboard\", \"auto\", \"akanjis%20revier\", \"us-sports\", \"super%20league\"\n",
    "           ]:\n",
    "    myDict[key] = \"sport\"\n",
    "\n",
    "for key in [\"kultur\", \"tv\", \"musik\", \"kino\", \"serien\", \"tv-serien\", \"unterhaltung\", \"video\", \"games\",\n",
    "           \"feuilleton\", \"video\", \"medien\", \"film\", \"neu%20im%20kino\", \"filme%20und%20serien\", \"kunst\", \"musik\",\n",
    "           \"fotografie\"]:\n",
    "    myDict[key] = \"kultur\"\n",
    "    \n",
    "for key in [\"wissenschaft\", \"wissen\", \"forschung\", \"erde\", \"technologie\", \"medizin\", \"luftfahrt\", \"psychologie\",\n",
    "           \"forschung\", \"history\"]:\n",
    "    myDict[key] = \"wissenschaft\"\n",
    "    \n",
    "for key in [\"life\", \"sonntagsblick\", \"green\", \"auto\", \"gesundheit\", \"thema-der-woche\", \"essen\", \"familie\", \"liebe\",\n",
    "           \"weihnachten\", \"royals\", \"wohnen\", \"natur\", \"reisen\", \"autosalon\", \"service\", \"job\", \"freizeit\",\n",
    "           \"beauty\", \"ostern\", \"mode\", \"glamour\", \"classic\", \"people\", \"lifestyle\", \"tiere\", \"liebe-sex\", \"food\",\n",
    "           \"gesellschaft\", \"nau-erklaert\", \"good-news\", \"fitness\", \"leben\", \"ratgeber\", \"vermischtes-people\",\n",
    "           \"sonntagszeitung\", \"mobilitaet\",\"wochenende\", \"nzz-asien\", \"panorama\", \"spass\", \"quiz\", \"analyse\",\n",
    "           \"interview\", \"sex\", \"nightlife\", \"gender\", \"sommer\", \"mobilit%C3%A4t\", \"winter\", \"people-news\", \"religion\",\n",
    "           \"sektenblog\", \"kinder\", \"tier\", \"fake%20news\", \"native\", \"jugend\", \"people\", \"schule%20-%20bildung\",\n",
    "           \"zeit%20online\", \"klischeekanone\", \"popul%C3%A4rkultur\", \"faktencheck\", \"arbeitswelt\"]:\n",
    "    myDict[key] = \"vermischtes\" #lifestlye\n",
    "    \n",
    "for key in [\"digital\", \"audio\", \"apps\", \"pc-laptops\", \"smartphone\", \"apple\", \"facebook\", \"geek%20news\", \"youtube\",\n",
    "           \"google\", \"daten\", \"datenschutz\", \"twitter\", \"iphone\", \"microsoft\", \"netflix\", \"online-sicherheit\",\n",
    "           \"social%20media\"]:\n",
    "    myDict[key] = \"digital\" #technik\n",
    "    \n",
    "for key in [\"meinung\", \"community\", \"kolumnen\", \"kommentare\", \"blog\", \"blogs\", \"stimmen-der-schweiz\", \"leserbriefe\",\n",
    "           \"was%20ich%20wirklich%20denke\", \"userinput\", \"review\", \"offen%20gesagt\", \"kommentar\"]:\n",
    "    myDict[key] = \"meinung\"\n",
    "   \n",
    "for key in [\"bern\", \"tessin\", \"luzern\", \"basel\", \"zuerich\", \"mittelland\", \"westschweiz\", \"ostschweiz\", \n",
    "            \"zentralschweiz\", \"ostschweiz\", \"graubuenden\", \"ort\", \"liestal\", \"st-gallen\", \"aarau\", \"herisau\",\n",
    "            \"rorschach\", \"kloten\", \"zurich\", \"zürich\", \"wetzikon-zh\", \"koniz\", \"frauenfeld\", \"altdorf-ur\",\n",
    "            \"glarus\", \"muri-ag\", \"schwyz\", \"dietikon\", \"lenzburg\", \"weinfelden\", \"frutigen\", \"bielbienne\",\n",
    "            \"bad-zurzach\", \"schaffhausen\",\"stans\", \"thalwil\",\"saanen\",\"wohlen-ag\",\"winterthur\",\"wald-zh\",\"kirchberg-sg\",\n",
    "            \"pfaffikon\",\"uster\",\"sarnen\",\"regional\",\"schubelbach\",\"olten\",\"zofingen\",\"kusnacht-zh\",\"altstatten\",\"steffisburg\",\n",
    "            \"romanshorn\", \"bulach\",\"urtenen-schonbuhl\",\"ittigen\",\"rapperswil-jona\",\"illnau-effretikon\",\"baden\",\"gossau-sg\",\n",
    "            \"solothurn\",\"chur\",\"dubendorf\",\"herzogenbuchsee\",\"langenthal\",\"mohlin\",\"stafa\",\"muttenz\",\"flawil\",\"wil-sg\",\n",
    "            \"oensingen\",\"sursee\",\"ruswil\",\"brugg\",\"bremgarten-ag\",\"reinach-bl\",\"waldenburg\",\"willisau\",\"langnau-im-emmental\",\n",
    "            \"frick\",\"hochdorf\", \"kreuzlingen\",\"reinach-ag\", \"maur\", \"interlaken\", \"zug\", \"thun\", \"st-margrethen\", \"trimbach\",\n",
    "            \"kussnacht-sz\", \"binningen\", \"kriens\", \"burgdorf\", \"muri-bei-bern\", \"schlieren\", \"saint-imier\", \"horgen\", \"ebikon\",\n",
    "            \"belp\", \"riehen\", \"cham\", \"einsiedeln\", \"neuhausen-am-rheinfall\", \"buchs-sg\", \"adliswil\", \"huttwil\", \"dielsdorf\",\n",
    "            \"visp\", \"volketswil\", \"schwarzenburg\", \"domatems\", \"munchwilen-tg\", \"arbon\", \"murten\", \"hinwil\", \"wallisellen\", \n",
    "            \"ilanzglion\", \"aargau\", \"zug\", \"schwyz\", \"obwalden\", \"nidwalden\", \"uri\", \"freiamt\", \"kanton-aargau\",\n",
    "            \"graub%C3%BCnden\", \"wallis\", \"solothurn\", \"romandie\", \"z%C3%BCrich\"\n",
    "           ]:\n",
    "    myDict[key] = \"lokales\"\n",
    "\n",
    "for key in [\"news\", \"aktuell\", \"polizeimeldungen\", \"newsticker\", \"news-service\", \"wetter\", \"abopass\", \"liveticker\", \"polizeirapport\", \"coronavirus\"]:\n",
    "    myDict[key] = \"nachrichten\" #coronavirus ist nur bei watson ein themenbereich, abopass von nlz\n",
    "    \n",
    "for key in [\"politik\", \"uswahlen\", \"us-wahlen\", \"bundeshaus\", \"bundesrat\", \"donald%20trump\", \"sp\", \"svp\", \"nationalrat\",\n",
    "           \"st%C3%A4nderat\", \"srf-arena\", \"gesellschaft%20&%20politik\", \"migration\", \"terrorismus\", \"klimastreik\",\n",
    "           \"justiz\", \"armee\", \"landwirtschaft\", \"umwelt\"]:\n",
    "    myDict[key] = \"politik\"\n",
    "    \n",
    "    \n",
    "\n",
    "    \n",
    "\n"
   ]
  },
  {
   "cell_type": "code",
   "execution_count": 11,
   "metadata": {},
   "outputs": [],
   "source": [
    "#non speaking categories are listsed here. Data that contains one of those values will be deleted in the \n",
    "#next steps of data cleaning as heuristically, a distinction can not be made\n",
    "\n",
    "to_delete = [\"people-tv\", \"brand-studio\", \"incoming\", \"interaktiv\", \"video\", \"news_n_trends\", \"specials\", \"fotostory\",\n",
    "             \"infografiken\", \"abgefahren\", \"frank-a-meyer\", \"andere\", \"aus-der-schweiz\", \"None\", \"charity_partner\",\n",
    "             \"sponsored\", \"videos\", \"services\", \"paidcontent\", \"neueste-artikel\", \"promotedcontent\", \"beizen-356087637501\",\n",
    "             \"visuals\", \"wie-und-mit-welchen-daten-wir-die-weltweite-ausbreitung-des-coronavirus-zeigen-ld.1549112\",\n",
    "             \"podcast\", \"video\", \"bilderwelten\", \"die%20welt%20in%20karten\", \"loading%20%E2%80%A6\",\"%C3%96v\",\n",
    "             \"serie%20a\", \"sales\", \"post\", \"das%20beste%202020\", \"schaun%20mer%20mal\", \"user%20unser\", \"down%20by%20law\",\n",
    "             \"videos\", \"bilderwelten\"            \n",
    "            ] \n",
    "\n",
    "\n"
   ]
  },
  {
   "cell_type": "code",
   "execution_count": null,
   "metadata": {},
   "outputs": [],
   "source": [
    "#see which ressorts / newspaper departments have been created overall\n",
    "\n",
    "lis = [myDict]\n",
    "s=set(val for myDict in lis for val in myDict.values())\n",
    "s"
   ]
  },
  {
   "cell_type": "code",
   "execution_count": null,
   "metadata": {},
   "outputs": [],
   "source": [
    "with open(\"ressorts_cat.bin\", \"wb\") as output:\n",
    "    pickle.dump(myDict, output)"
   ]
  },
  {
   "cell_type": "code",
   "execution_count": null,
   "metadata": {},
   "outputs": [],
   "source": [
    "with open(\"to_delete.bin\", \"wb\") as output:\n",
    "    pickle.dump(to_delete, output)"
   ]
  }
 ],
 "metadata": {
  "kernelspec": {
   "display_name": "Python 3",
   "language": "python",
   "name": "python3"
  },
  "language_info": {
   "codemirror_mode": {
    "name": "ipython",
    "version": 3
   },
   "file_extension": ".py",
   "mimetype": "text/x-python",
   "name": "python",
   "nbconvert_exporter": "python",
   "pygments_lexer": "ipython3",
   "version": "3.8.5"
  }
 },
 "nbformat": 4,
 "nbformat_minor": 4
}
