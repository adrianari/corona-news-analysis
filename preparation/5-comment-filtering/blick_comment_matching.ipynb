{
 "cells": [
  {
   "cell_type": "code",
   "execution_count": null,
   "metadata": {},
   "outputs": [],
   "source": [
    "import pymysql as mariadb\n",
    "import pandas as pd\n",
    "import re\n",
    "import numpy as np"
   ]
  },
  {
   "cell_type": "code",
   "execution_count": null,
   "metadata": {},
   "outputs": [],
   "source": [
    "#loading the articles ()\n",
    "\n",
    "connection = mariadb.connect(\n",
    "    host=\"localhost\",\n",
    "#    database=\"masterarbeit\",    \n",
    "#    user=\"user\",\n",
    "#    password=\"password\"\n",
    ")\n",
    "\n",
    "sql = (\"SELECT * \"\n",
    "       \"FROM artikel \"\n",
    "       \"WHERE newsoutlet = 'blick'\")\n",
    "\n",
    "df2 = pd.read_sql_query(sql, connection)"
   ]
  },
  {
   "cell_type": "code",
   "execution_count": null,
   "metadata": {},
   "outputs": [],
   "source": [
    "df2 = df2.drop(columns = [\"title\", \"lead\", \"time\", \"author\", \"article_text\", \"cat_given2\", \"cat_given1\", \n",
    "                         \"newsoutlet\"])"
   ]
  },
  {
   "cell_type": "code",
   "execution_count": null,
   "metadata": {},
   "outputs": [],
   "source": [
    "df2 = df2.set_index(\"url\")"
   ]
  },
  {
   "cell_type": "code",
   "execution_count": null,
   "metadata": {},
   "outputs": [],
   "source": [
    "#connecting to commentaires\n",
    "sql2 = (\"SELECT * \"\n",
    "       \"FROM kommentare \"\n",
    "       \"WHERE outlet = 'blick'\")\n",
    "\n",
    "df1 = pd.read_sql_query(sql2, connection)\n",
    "df1 = df1.set_index(\"url\")"
   ]
  },
  {
   "cell_type": "code",
   "execution_count": null,
   "metadata": {},
   "outputs": [],
   "source": [
    "df1 = pd.read_csv(\"blick_kom.csv\", delimiter = \"|\", header = None)\n",
    "df1 = df1.set_index(df1[0])\n",
    "df1\n",
    "#url | url | text | kom_datum | kom_zeit | outlet | wochentag | zeitkat | länge = sorting to be - let's check"
   ]
  },
  {
   "cell_type": "code",
   "execution_count": null,
   "metadata": {},
   "outputs": [],
   "source": [
    "df3 = df1.join(df2, how=\"inner\")\n",
    "#df3 = df3.drop(columns = [\"kom_datum\", \"kom_zeit\"])\n",
    "#df3 = df3.set_index(\"url\")"
   ]
  },
  {
   "cell_type": "code",
   "execution_count": null,
   "metadata": {},
   "outputs": [],
   "source": [
    "df3 = df3.sort_values(by=\"date\")\n",
    "df3 = df3.drop([0], axis = 1)"
   ]
  },
  {
   "cell_type": "code",
   "execution_count": null,
   "metadata": {},
   "outputs": [],
   "source": [
    "df3.to_csv(\"blick_kom_fin.csv\", index= True, sep = \"|\", header = None)"
   ]
  }
 ],
 "metadata": {
  "kernelspec": {
   "display_name": "Python 3",
   "language": "python",
   "name": "python3"
  },
  "language_info": {
   "codemirror_mode": {
    "name": "ipython",
    "version": 3
   },
   "file_extension": ".py",
   "mimetype": "text/x-python",
   "name": "python",
   "nbconvert_exporter": "python",
   "pygments_lexer": "ipython3",
   "version": "3.8.5"
  }
 },
 "nbformat": 4,
 "nbformat_minor": 2
}
