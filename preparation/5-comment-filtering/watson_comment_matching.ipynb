{
 "cells": [
  {
   "cell_type": "code",
   "execution_count": null,
   "metadata": {},
   "outputs": [],
   "source": [
    "import pymysql as mariadb\n",
    "import pandas as pd\n",
    "import matplotlib\n",
    "from sklearn.feature_extraction.text import TfidfVectorizer\n",
    "import nltk\n",
    "import random\n",
    "from sklearn.cluster import KMeans\n",
    "import re\n",
    "from wordcloud import WordCloud\n",
    "import seaborn as sns\n",
    "import numpy as np\n",
    "import matplotlib.pyplot as plt"
   ]
  },
  {
   "cell_type": "code",
   "execution_count": null,
   "metadata": {},
   "outputs": [],
   "source": [
    "connection = mariadb.connect(\n",
    "    host=\"localhost\",\n",
    "#    database=\"masterarbeit\",    \n",
    "#    user=\"user\",\n",
    "#    password=\"password\"\n",
    ")\n",
    "\n",
    "sql = (\"SELECT * \"\n",
    "       \"FROM artikel \"\n",
    "       \"WHERE newsoutlet = 'watson'\")\n",
    "\n",
    "df_artikel = pd.read_sql_query(sql, connection)"
   ]
  },
  {
   "cell_type": "code",
   "execution_count": null,
   "metadata": {},
   "outputs": [],
   "source": [
    "df2 = df_artikel\n",
    "df2 = df2.drop(columns = [\"title\", \"lead\", \"time\", \"author\", \"article_text\", \"cat_given2\", \"cat_given1\", \"newsoutlet\"])"
   ]
  },
  {
   "cell_type": "code",
   "execution_count": null,
   "metadata": {},
   "outputs": [],
   "source": [
    "df2 = df2.set_index(\"url\")"
   ]
  },
  {
   "cell_type": "code",
   "execution_count": null,
   "metadata": {},
   "outputs": [],
   "source": [
    "#connecting to commentaires\n",
    "sql2 = (\"SELECT * \"\n",
    "       \"FROM kommentare \"\n",
    "       \"WHERE outlet = 'watson'\")\n",
    "\n",
    "df1 = pd.read_sql_query(sql2, connection)\n",
    "df1 = df1.set_index(\"url\")"
   ]
  },
  {
   "cell_type": "code",
   "execution_count": null,
   "metadata": {},
   "outputs": [],
   "source": [
    "df3 = df1.join(df2, how=\"inner\")\n",
    "#df3 = df3.drop(columns = [\"kom_datum\", \"kom_zeit\"])\n",
    "#df3 = df3.set_index(\"url\")"
   ]
  },
  {
   "cell_type": "code",
   "execution_count": null,
   "metadata": {},
   "outputs": [],
   "source": [
    "df3 = df3.drop([0], axis =1)\n",
    "df3"
   ]
  },
  {
   "cell_type": "code",
   "execution_count": null,
   "metadata": {},
   "outputs": [],
   "source": [
    "df3 = df3.sort_values(by=\"date\")"
   ]
  },
  {
   "cell_type": "code",
   "execution_count": null,
   "metadata": {},
   "outputs": [],
   "source": [
    "df3.to_csv(\"watson_kom_fin.csv\", index= True, sep = \"|\", header = None)"
   ]
  },
  {
   "cell_type": "code",
   "execution_count": null,
   "metadata": {},
   "outputs": [],
   "source": []
  }
 ],
 "metadata": {
  "kernelspec": {
   "display_name": "Python 3",
   "language": "python",
   "name": "python3"
  },
  "language_info": {
   "codemirror_mode": {
    "name": "ipython",
    "version": 3
   },
   "file_extension": ".py",
   "mimetype": "text/x-python",
   "name": "python",
   "nbconvert_exporter": "python",
   "pygments_lexer": "ipython3",
   "version": "3.8.5"
  }
 },
 "nbformat": 4,
 "nbformat_minor": 2
}
