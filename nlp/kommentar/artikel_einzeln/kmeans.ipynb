{
 "cells": [
  {
   "cell_type": "code",
   "execution_count": null,
   "metadata": {},
   "outputs": [],
   "source": [
    "import pymysql as mariadb\n",
    "import pickle\n",
    "import pandas as pd\n",
    "import numpy as np\n",
    "from sklearn.cluster import KMeans\n",
    "from sklearn.feature_extraction.text import TfidfVectorizer\n",
    "from sklearn.decomposition import PCA\n",
    "import matplotlib.pyplot as plt\n",
    "from yellowbrick.cluster import SilhouetteVisualizer, KElbowVisualizer"
   ]
  },
  {
   "cell_type": "code",
   "execution_count": null,
   "metadata": {},
   "outputs": [],
   "source": [
    "#establishing the dataframe\n",
    "connection = mariadb.connect(host=\"localhost\", database=\"masterarbeit\",\n",
    "                            user=\"USER\", password=\"PASSWORD\")\n",
    "\n",
    "#filtering out the datasources where there are no comments or comments without date\n",
    "sql = (\"SELECT * \"\n",
    "       \"FROM comment \")\n",
    "\n",
    "df = pd.read_sql_query(sql, connection)\n",
    "\n",
    "liste = pickle.load(open(\"lemmatized_kom.pkl\", \"rb\"))\n",
    "\n",
    "df[\"lemmatized\"] = liste"
   ]
  },
  {
   "cell_type": "code",
   "execution_count": null,
   "metadata": {},
   "outputs": [],
   "source": [
    "df['art_date'] = pd.to_datetime(df['art_date'])\n",
    "df2 = df\n",
    "df2 = df2.set_index(df2[\"art_date\"])\n",
    "df2 = df2[df2.index.month.isin([1,2,3,4,5,6])]\n",
    "df2"
   ]
  },
  {
   "cell_type": "code",
   "execution_count": null,
   "metadata": {},
   "outputs": [],
   "source": [
    "#vectorizer\n",
    "vectorizer = TfidfVectorizer(max_features = 3000)\n",
    "vecs = vectorizer.fit_transform(df['lemmatized'])"
   ]
  },
  {
   "cell_type": "code",
   "execution_count": null,
   "metadata": {
    "scrolled": false
   },
   "outputs": [],
   "source": [
    "km = KMeans(random_state=42)\n",
    "visualizer = KElbowVisualizer(km, k=(2,25))\n",
    "visualizer.fit(vecs)        \n",
    "visualizer.show()   "
   ]
  },
  {
   "cell_type": "code",
   "execution_count": null,
   "metadata": {},
   "outputs": [],
   "source": [
    "silhouette_score = []\n",
    "kmeansvalues = []\n",
    "for i in range(2,25):\n",
    "    km = KMeans(n_clusters=i, random_state=42)\n",
    "\n",
    "    km.fit_predict(vecs)\n",
    "\n",
    "    # Calculate Silhoutte Score\n",
    "\n",
    "    score = metrics.silhouette_score(vecs, km.labels_, metric='euclidean')\n",
    "    silhouette_score.append(score)\n",
    "    kmeansvalues.append(i)\n",
    "    print(i, 'Silhouetter Score: %.10f' % score)"
   ]
  },
  {
   "cell_type": "code",
   "execution_count": null,
   "metadata": {},
   "outputs": [],
   "source": [
    "plt.rcParams[\"figure.figsize\"] = (14,9)\n",
    "plt.title(\"Silhouette Score per k Cluster\")\n",
    "#plt.axhline(y=0.0, color='black', linestyle='--')\n",
    "plt.plot(kmeansvalues, [x for x in silhouette_score], marker = \"o\")"
   ]
  },
  {
   "cell_type": "code",
   "execution_count": null,
   "metadata": {},
   "outputs": [],
   "source": [
    "X = vecs.toarray()"
   ]
  },
  {
   "cell_type": "code",
   "execution_count": null,
   "metadata": {},
   "outputs": [],
   "source": [
    "score = []\n",
    "for x in range(2,25):\n",
    "    kmeans_model = KMeans(n_clusters=x, random_state=42).fit(vecs)\n",
    "    labels = kmeans_model.labels_\n",
    "    m = metrics.calinski_harabasz_score(X, labels)\n",
    "    score.append(m)\n",
    "    print(x, m)"
   ]
  },
  {
   "cell_type": "code",
   "execution_count": null,
   "metadata": {
    "scrolled": true
   },
   "outputs": [],
   "source": [
    "plt.plot([x for x in range(2,25)], score, marker = \"o\")\n",
    "plt.title(\"Calinski Harabasz Score\")"
   ]
  },
  {
   "cell_type": "code",
   "execution_count": null,
   "metadata": {},
   "outputs": [],
   "source": [
    "scores = []\n",
    "for x in range(2,25):\n",
    "    kmeans_model = KMeans(n_clusters=x, random_state=42).fit(vecs)\n",
    "    labels = kmeans_model.labels_\n",
    "    m = metrics.davies_bouldin_score(X, labels)\n",
    "    scores.append(m)\n",
    "    print(x, m)"
   ]
  },
  {
   "cell_type": "code",
   "execution_count": null,
   "metadata": {},
   "outputs": [],
   "source": [
    "plt.plot([x for x in range(2,25)], scores, marker = \"o\")\n",
    "plt.title(\"Davies Bouldin Score\")"
   ]
  }
 ],
 "metadata": {
  "kernelspec": {
   "display_name": "Python 3",
   "language": "python",
   "name": "python3"
  },
  "language_info": {
   "codemirror_mode": {
    "name": "ipython",
    "version": 3
   },
   "file_extension": ".py",
   "mimetype": "text/x-python",
   "name": "python",
   "nbconvert_exporter": "python",
   "pygments_lexer": "ipython3",
   "version": "3.7.3"
  }
 },
 "nbformat": 4,
 "nbformat_minor": 2
}
