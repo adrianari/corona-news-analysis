{
 "cells": [
  {
   "cell_type": "code",
   "execution_count": null,
   "metadata": {},
   "outputs": [],
   "source": [
    "import pandas as pd\n",
    "import numpy as np\n",
    "import pickle\n",
    "import re"
   ]
  },
  {
   "cell_type": "code",
   "execution_count": null,
   "metadata": {
    "scrolled": true
   },
   "outputs": [],
   "source": [
    "blick1 = pd.read_csv(\"nau_kom1.csv\", delimiter = \"|\", header = None, engine = \"python\")\n",
    "blick2 = pd.read_csv(\"nau_kom2.csv\", delimiter = \"|\", header = None, engine = \"python\")\n",
    "blick3 = pd.read_csv(\"nau_kom3.csv\", delimiter = \"|\", header = None, engine = \"python\")\n",
    "blick4 = pd.read_csv(\"nau_kom4.csv\", delimiter = \"|\", header = None, engine = \"python\")\n",
    "blick5 = pd.read_csv(\"nau_kom5.csv\", delimiter = \"|\", header = None, engine = \"python\")\n",
    "blick6 = pd.read_csv(\"nau_kom6.csv\", delimiter = \"|\", header = None, engine = \"python\")\n",
    "\n",
    "\n",
    "frames = [blick1, blick2, blick3, blick4, blick5, blick6]\n",
    "\n",
    "df_kom = pd.concat(frames, ignore_index= True)"
   ]
  },
  {
   "cell_type": "code",
   "execution_count": null,
   "metadata": {},
   "outputs": [],
   "source": [
    "df_kom = pd.read_csv(\"nau_kom.csv\", delimiter=\"|\", header = None)"
   ]
  },
  {
   "cell_type": "code",
   "execution_count": null,
   "metadata": {},
   "outputs": [],
   "source": [
    "df_kom = df_kom[0].str.split(\"|\", n = 2, expand = True)"
   ]
  },
  {
   "cell_type": "code",
   "execution_count": null,
   "metadata": {},
   "outputs": [],
   "source": [
    "df_kom"
   ]
  },
  {
   "cell_type": "code",
   "execution_count": null,
   "metadata": {},
   "outputs": [],
   "source": [
    "urls = df_kom[2].str.rsplit(\"|\", n = 3, expand = True)"
   ]
  },
  {
   "cell_type": "code",
   "execution_count": null,
   "metadata": {},
   "outputs": [],
   "source": [
    "df_kom[3] = urls[0]\n",
    "df_kom[4] = urls[3]"
   ]
  },
  {
   "cell_type": "code",
   "execution_count": null,
   "metadata": {},
   "outputs": [],
   "source": [
    "df_kom = df_kom.drop(columns = [1,2])"
   ]
  },
  {
   "cell_type": "code",
   "execution_count": null,
   "metadata": {},
   "outputs": [],
   "source": [
    "df_kom"
   ]
  },
  {
   "cell_type": "code",
   "execution_count": null,
   "metadata": {},
   "outputs": [],
   "source": [
    "df_kom[3] = df_kom[3].str.replace(\"|\", \" \")"
   ]
  },
  {
   "cell_type": "code",
   "execution_count": null,
   "metadata": {},
   "outputs": [],
   "source": []
  },
  {
   "cell_type": "code",
   "execution_count": null,
   "metadata": {},
   "outputs": [],
   "source": [
    "for i in df_kom:\n",
    "    df_kom[i] = df_kom[i].str.strip()"
   ]
  },
  {
   "cell_type": "code",
   "execution_count": null,
   "metadata": {},
   "outputs": [],
   "source": [
    "df_kom = df_kom.drop_duplicates(keep = \"last\")"
   ]
  },
  {
   "cell_type": "code",
   "execution_count": null,
   "metadata": {},
   "outputs": [],
   "source": [
    "df_kom"
   ]
  },
  {
   "cell_type": "code",
   "execution_count": null,
   "metadata": {},
   "outputs": [],
   "source": [
    "df_kom[5] = \"\""
   ]
  },
  {
   "cell_type": "code",
   "execution_count": null,
   "metadata": {},
   "outputs": [],
   "source": [
    "#weekdays\n",
    "weekdays = []\n",
    "for index, rows in df_kom.iterrows():\n",
    "    weekdays.append(rows[3].weekday())\n",
    "    \n",
    "df_kom[7] = weekdays"
   ]
  },
  {
   "cell_type": "code",
   "execution_count": null,
   "metadata": {},
   "outputs": [],
   "source": []
  },
  {
   "cell_type": "code",
   "execution_count": null,
   "metadata": {},
   "outputs": [],
   "source": []
  },
  {
   "cell_type": "code",
   "execution_count": null,
   "metadata": {},
   "outputs": [],
   "source": [
    "df_kom = df_kom.reindex(columns = [4,3,0,5])\n",
    "df_kom[10] = \"nau\""
   ]
  },
  {
   "cell_type": "code",
   "execution_count": null,
   "metadata": {},
   "outputs": [],
   "source": [
    "#remove emojis and other things\n",
    "\n",
    "emoji_pattern = re.compile(\"[\"\n",
    "        u\"\\U0001F600-\\U0001F64F\"  # emoticons\n",
    "        u\"\\U0001F300-\\U0001F5FF\"  # symbols & pictographs\n",
    "        u\"\\U0001F680-\\U0001F6FF\"  # transport & map symbols\n",
    "        u\"\\U0001F1E0-\\U0001F1FF\"  # flags (iOS)\n",
    "                           \"]+\", flags=re.UNICODE)\n",
    "df_kom[3] = df_kom[3].str.replace(emoji_pattern, \"\")\n",
    "df_kom[3] = df_kom[3].str.replace(\"\\n\", \" \")\n",
    "df_kom[3] = df_kom[3].str.replace(\"\\ß\", \"ss\")"
   ]
  },
  {
   "cell_type": "code",
   "execution_count": null,
   "metadata": {},
   "outputs": [],
   "source": [
    "df_kom = df_kom.dropna(subset = [3])\n",
    "df_kom = df_kom.dropna(subset = [4])"
   ]
  },
  {
   "cell_type": "code",
   "execution_count": null,
   "metadata": {},
   "outputs": [],
   "source": [
    "df_kom.to_csv(\"nau_kom.csv\", header = None, sep = \"|\", index = False)"
   ]
  },
  {
   "cell_type": "code",
   "execution_count": null,
   "metadata": {},
   "outputs": [],
   "source": [
    "df_kom[7] = \"\"\n",
    "df_kom[8] = \"\"\n",
    "df_kom[10] = df_kom[1].str.len()"
   ]
  },
  {
   "cell_type": "code",
   "execution_count": null,
   "metadata": {},
   "outputs": [],
   "source": [
    "df_kom"
   ]
  },
  {
   "cell_type": "code",
   "execution_count": null,
   "metadata": {},
   "outputs": [],
   "source": []
  }
 ],
 "metadata": {
  "kernelspec": {
   "display_name": "Python 3",
   "language": "python",
   "name": "python3"
  },
  "language_info": {
   "codemirror_mode": {
    "name": "ipython",
    "version": 3
   },
   "file_extension": ".py",
   "mimetype": "text/x-python",
   "name": "python",
   "nbconvert_exporter": "python",
   "pygments_lexer": "ipython3",
   "version": "3.8.5"
  }
 },
 "nbformat": 4,
 "nbformat_minor": 4
}
