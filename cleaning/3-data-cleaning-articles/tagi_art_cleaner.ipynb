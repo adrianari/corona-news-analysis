{
 "cells": [
  {
   "cell_type": "code",
   "execution_count": null,
   "metadata": {},
   "outputs": [],
   "source": [
    "import pandas as pd\n",
    "import numpy as np\n",
    "import pickle"
   ]
  },
  {
   "cell_type": "code",
   "execution_count": null,
   "metadata": {},
   "outputs": [],
   "source": [
    "df_main = pd.read_csv(\"tagi_art1.csv\", delimiter = \"|\", header = None)"
   ]
  },
  {
   "cell_type": "code",
   "execution_count": null,
   "metadata": {},
   "outputs": [],
   "source": [
    "#remove columns without title, text or url\n",
    "df_main = df_main.dropna(subset=[0])\n",
    "df_main = df_main.dropna(subset=[4])\n",
    "df_main = df_main.dropna(subset=[5])"
   ]
  },
  {
   "cell_type": "code",
   "execution_count": null,
   "metadata": {},
   "outputs": [],
   "source": [
    "#data cleaninig\n",
    "df_main[3] = df_main[3].fillna(\"Agentur\")\n",
    "df_main[2] = df_main[2].str.replace(\"Publiziert: \", \"\")"
   ]
  },
  {
   "cell_type": "code",
   "execution_count": null,
   "metadata": {},
   "outputs": [],
   "source": [
    "#setting dates straight\n",
    "time_indy = df_main[2]\n",
    "time_indy = time_indy.str.split(\",\",expand=True)\n",
    "\n",
    "df_main[2] = time_indy[0]\n",
    "df_main[8] = time_indy[1]\n",
    "\n",
    "df_main[2] = pd.to_datetime(df_main[2], format=\"%d.%m.%Y\")\n",
    "df_main[9] = df_main[2].dt.year\n",
    "\n",
    "df_main = df_main[df_main[9] != 2021]\n",
    "df_main = df_main.drop([9], axis = 1)\n",
    "df_main = df_main.reset_index(drop = True)"
   ]
  },
  {
   "cell_type": "code",
   "execution_count": null,
   "metadata": {},
   "outputs": [],
   "source": [
    "# drop duplicates\n",
    "df_main = df_main.drop_duplicates(keep = \"last\", ignore_index = True)"
   ]
  },
  {
   "cell_type": "code",
   "execution_count": null,
   "metadata": {},
   "outputs": [],
   "source": [
    "#setting up cateogries\n",
    "catyy = df_main[5].str.split(\"/\",expand=True)\n",
    "\n",
    "catyy[8] = catyy[3]\n",
    "catyy[9] = catyy[8].str.len()\n",
    "catyy[9] = catyy[9].astype(int)\n",
    "\n",
    "catyy[10] = np.where(catyy[9] < 20, catyy[3],\"\")\n",
    "\n",
    "catyy[10].unique()\n"
   ]
  },
  {
   "cell_type": "code",
   "execution_count": null,
   "metadata": {},
   "outputs": [],
   "source": [
    "df_main[9] = catyy[10]"
   ]
  },
  {
   "cell_type": "code",
   "execution_count": null,
   "metadata": {},
   "outputs": [],
   "source": [
    "#reorder columns\n",
    "df_main = df_main[[0,1,2,8,3,4,5,9]]\n"
   ]
  },
  {
   "cell_type": "code",
   "execution_count": null,
   "metadata": {},
   "outputs": [],
   "source": [
    "df_main"
   ]
  },
  {
   "cell_type": "code",
   "execution_count": null,
   "metadata": {},
   "outputs": [],
   "source": [
    "#settings up categories (ressorts) from topics\n",
    "df_main[10] = \"\"\n",
    "df_main[11] = df_main[9]\n",
    "df_main[12] = \"\"\n",
    "\n",
    "\n",
    "with open(\"ressorts_cat.bin\", \"rb\") as data:\n",
    "    ressorts = pickle.load(data)\n",
    "\n",
    "df_main[11].replace(ressorts, inplace=True)"
   ]
  },
  {
   "cell_type": "code",
   "execution_count": null,
   "metadata": {},
   "outputs": [],
   "source": [
    "#delete unworkables\n",
    "with open(\"to_delete.bin\", \"rb\")as data:\n",
    "    to_delete = pickle.load(data)\n",
    "    \n",
    "df_main = df_main[~df_main[9].isin(to_delete)]"
   ]
  },
  {
   "cell_type": "code",
   "execution_count": null,
   "metadata": {},
   "outputs": [],
   "source": [
    "df_main"
   ]
  },
  {
   "cell_type": "code",
   "execution_count": null,
   "metadata": {},
   "outputs": [],
   "source": [
    "df_main = df_main[[0,1,2,8,3,4,5,9, 7, 8, 10]]\n",
    "df_main"
   ]
  },
  {
   "cell_type": "code",
   "execution_count": null,
   "metadata": {},
   "outputs": [],
   "source": [
    "df_main[13] = \"tagi\"\n",
    "df_main[4] = df_main[4].str.replace(\"http\\S+\", \"\",regex = True)\n",
    "df_main[4] = df_main[4].str.replace(\"Bild\", \"\")"
   ]
  },
  {
   "cell_type": "code",
   "execution_count": null,
   "metadata": {},
   "outputs": [],
   "source": [
    "df_main.to_csv(\"tagi_artikel.csv\", header = None, sep = \"|\", index = False)"
   ]
  },
  {
   "cell_type": "code",
   "execution_count": null,
   "metadata": {},
   "outputs": [],
   "source": [
    "df_main"
   ]
  },
  {
   "cell_type": "code",
   "execution_count": null,
   "metadata": {},
   "outputs": [],
   "source": []
  }
 ],
 "metadata": {
  "kernelspec": {
   "display_name": "Python 3",
   "language": "python",
   "name": "python3"
  },
  "language_info": {
   "codemirror_mode": {
    "name": "ipython",
    "version": 3
   },
   "file_extension": ".py",
   "mimetype": "text/x-python",
   "name": "python",
   "nbconvert_exporter": "python",
   "pygments_lexer": "ipython3",
   "version": "3.8.5"
  }
 },
 "nbformat": 4,
 "nbformat_minor": 4
}
