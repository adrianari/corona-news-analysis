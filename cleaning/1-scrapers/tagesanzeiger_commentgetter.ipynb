{
 "cells": [
  {
   "cell_type": "code",
   "execution_count": null,
   "metadata": {},
   "outputs": [],
   "source": [
    "from selenium import webdriver\n",
    "from selenium.webdriver.common.keys import Keys\n",
    "import time\n",
    "from selenium.common.exceptions import NoSuchElementException\n",
    "from selenium.common.exceptions import StaleElementReferenceException\n",
    "from selenium.common.exceptions import TimeoutException\n",
    "from bs4 import BeautifulSoup\n",
    "import requests\n",
    "import pickle\n",
    "import sys\n",
    "import re\n",
    "import csv"
   ]
  },
  {
   "cell_type": "code",
   "execution_count": null,
   "metadata": {},
   "outputs": [],
   "source": [
    "kommentare = []\n",
    "\n",
    "class Kommentar:\n",
    "    def __init__(self, url, datum, text):\n",
    "        self.url = url\n",
    "        self.datum = datum\n",
    "        self.text = text"
   ]
  },
  {
   "cell_type": "code",
   "execution_count": null,
   "metadata": {},
   "outputs": [],
   "source": [
    "driver = webdriver.Firefox()\n",
    "driver.implicitly_wait(30)\n",
    "driver.maximize_window()"
   ]
  },
  {
   "cell_type": "code",
   "execution_count": null,
   "metadata": {},
   "outputs": [],
   "source": [
    "start = \"https://www.tagesanzeiger.ch/\"\n",
    "driver.get(start)\n",
    "\n",
    "cookies = pickle.load(open(\"tagi_cookies.pkl\", \"rb\"))\n",
    "for cookie in cookies:\n",
    "    driver.add_cookie(cookie)\n",
    "    \n",
    "driver.refresh()"
   ]
  },
  {
   "cell_type": "code",
   "execution_count": null,
   "metadata": {},
   "outputs": [],
   "source": [
    "with open(\"tagesanzeiger_output.bin\", \"rb\") as data:\n",
    "    ueb_pages = pickle.load(data)"
   ]
  },
  {
   "cell_type": "code",
   "execution_count": null,
   "metadata": {},
   "outputs": [],
   "source": [
    "driver.get(\"https://www.tagesanzeiger.ch/das-rosige-lockdown-szenario-der-corona-taskforce-385281546789\")"
   ]
  },
  {
   "cell_type": "code",
   "execution_count": null,
   "metadata": {},
   "outputs": [],
   "source": [
    "def inhalter():\n",
    "    try:\n",
    "        html = driver.page_source\n",
    "        soup = BeautifulSoup(html, \"html.parser\")\n",
    "\n",
    "        block = soup.find_all(class_=\"comment-item\")\n",
    "\n",
    "        for i in block:\n",
    "            sa = i.find(class_=\"RelativeDateTime_root__29Kdb\")\n",
    "            datum = sa.get_text()\n",
    "\n",
    "            h = i.find(class_=\"text\")\n",
    "            h = h.get_text()\n",
    "            text = h.replace(\"\\n\", \"\")\n",
    "\n",
    "\n",
    "            crawled_kom = Kommentar(page, datum, text)\n",
    "            kommentare.append(crawled_kom)\n",
    "    except TimeoutError:\n",
    "        print(\"Time Out\")"
   ]
  },
  {
   "cell_type": "code",
   "execution_count": null,
   "metadata": {
    "scrolled": true
   },
   "outputs": [],
   "source": [
    "for page in ueb_pages:\n",
    "    time.sleep(1)\n",
    "    driver.get(page)\n",
    "    cookies = pickle.load(open(\"tagi_cookies.pkl\", \"rb\"))\n",
    "    for cookie in cookies:\n",
    "        driver.add_cookie(cookie)\n",
    "    try:\n",
    "        x = driver.find_element_by_xpath(\"//button[contains(.,'Alle Kommentare anzeigen')]\")\n",
    "        time.sleep(1)\n",
    "        x.click()\n",
    "        inhalter()\n",
    "    except NoSuchElementException:\n",
    "        print(\"No such element - we go on\")"
   ]
  },
  {
   "cell_type": "code",
   "execution_count": null,
   "metadata": {},
   "outputs": [],
   "source": [
    "with open('tagi_kom.csv', 'w', newline='', encoding=\"utf8\") as csvfile:\n",
    "    blogwriter_kom = csv.writer(csvfile, delimiter='|', quotechar='\"')\n",
    "                                \n",
    "    for element in kommentare:\n",
    "        blogwriter_kom.writerow( [element.url, element.datum, element.text] )\n",
    "\n",
    "    "
   ]
  },
  {
   "cell_type": "code",
   "execution_count": null,
   "metadata": {},
   "outputs": [],
   "source": []
  },
  {
   "cell_type": "code",
   "execution_count": null,
   "metadata": {},
   "outputs": [],
   "source": []
  },
  {
   "cell_type": "code",
   "execution_count": null,
   "metadata": {},
   "outputs": [],
   "source": []
  }
 ],
 "metadata": {
  "kernelspec": {
   "display_name": "Python 3",
   "language": "python",
   "name": "python3"
  },
  "language_info": {
   "codemirror_mode": {
    "name": "ipython",
    "version": 3
   },
   "file_extension": ".py",
   "mimetype": "text/x-python",
   "name": "python",
   "nbconvert_exporter": "python",
   "pygments_lexer": "ipython3",
   "version": "3.8.5"
  }
 },
 "nbformat": 4,
 "nbformat_minor": 4
}
